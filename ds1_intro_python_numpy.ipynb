{
 "cells": [
  {
   "attachments": {},
   "cell_type": "markdown",
   "metadata": {
    "slideshow": {
     "slide_type": "slide"
    }
   },
   "source": [
    "# 1. Python\n",
    "\n",
    "Last updated 202508_201810\n",
    "\n",
    "Python 프로그래밍을 빠르게 훓어보기로 한다. 여기서는 명령어를 간단히 소개하는 위주로 제어구조, 데이터구조, 파일 프로그램을 배운다. 대화형 프로그램은 일괄 실행할 수 없다. 프로그램을 완성하고 명령프롬프트에서 실행하는 방법을 배운다. 또한 자신의 라이브러리를 만들어 본다."
   ]
  },
  {
   "cell_type": "markdown",
   "metadata": {
    "slideshow": {
     "slide_type": "slide"
    }
   },
   "source": [
    "## 1.2 설치\n",
    "\n",
    "### 1.2.1 Python 버전과 고려사항\n",
    "\n",
    "Python이 버전 2에서 **버전 3**으로 올리면서 외적으로는 큰 차이가 많지 않지만, 서로 완전히 **호환**되지는 않는다. 주요 차이점을 정리하면 다음과 같다.\n",
    "\n",
    "구분 | Python 2 | Python 3\n",
    "-----|-----|-----\n",
    "print 문법 | print \"Hello\" | print(\"Hello\")\n",
    "나눗셈 결과 | print 3/2 = 1 | print(3/2) = 1.5\n",
    "유니코드 지원 | print u\"한\" | print(\"한\")\n",
    "\n",
    "Python과 여기서 사용하는 라이브러리는 버전업이 활발하여 충돌할 가능성이 언제나 있다. 이 문제를 해결하려면, 가상환경을 설치하고 필요한 라이브러리의 버전을 정해놓으면 된다. 가상환경을 사용하면 서로 다른 프로젝트에서 다른 Python 버전과 라이브러리를 독립적으로 관리할 수 있다."
   ]
  },
  {
   "attachments": {},
   "cell_type": "markdown",
   "metadata": {
    "slideshow": {
     "slide_type": "slide"
    }
   },
   "source": [
    "### 1.2.2 Python 설치\n",
    "\n",
    "Python 인터프리터는 그 자체만으로는 파일크기가 크지 않고, 가벼워 설치가 쉽다.\n",
    "\n",
    "* 윈도우\n",
    "    * https://www.python.org/에서 Windows Installer를 다운로드하여 설치한다.\n",
    "    * 설치 경로는 보통 \"C:\\Program Files\"아래에 설치한다.\n",
    "    * 윈도우에서는 **Anaconda**를 사용하는 것이 편리하지만, 비교적 무겁다는 단점이 있다.\n",
    "\n",
    "* Linux/Mac\n",
    "    * 대부분의 리눅스, 맥에는 Python이 이미 설치되어 있어서 별도 작업이 필요 없다.\n",
    "\n",
    "* 경로 설정\n",
    "    * 경로 설정은 Python이 설치된 디렉토리를 설정하여, 모든 디렉토리에서도 Python 명령어를 실행할 수 있게 한다.\n",
    "    * 리눅스, 맥은 경로 설정이 기본적으로 되어 있다.\n",
    "    * 윈도우는 제어판의 환경변수에서 설정하거나, 명령창을 열어 손작업으로 설정할 수 있다."
   ]
  },
  {
   "cell_type": "markdown",
   "metadata": {
    "slideshow": {
     "slide_type": "subslide"
    }
   },
   "source": [
    "### 1.2.3 Python 패키지 관리자 pip 설치\n",
    "\n",
    "* pip는 **Python 패키지 관리자**로, 추가적인 라이브러리를 설치할 때 사용한다.\n",
    "* 대부분의 Python 배포판에는 pip가 기본적으로 설치되어 있다.\n",
    "* 운영체제별로 설치하려면 다음과 같다.\n",
    "    * 리눅스: pip를 설치하려면 sudo apt install pip\n",
    "    * 윈도우: 명령 창을 열어, 설치된 경로의 하위 디렉토리 'Scripts>'에 **easy_install**, pip가 설치되었는지 확인할 수 있다. 설치가 안되어 있는 경우, 설치를 손쉽게 할 수 있다. **setuptools를 다운로드**하고, '**setup.py**'가 있는지 확인해서 아래와 같이 설치\n",
    "\n",
    "```python\n",
    "C:/Python2.7/python setup.py install\n",
    "cd Scripts\n",
    "C:/Python2.7/Scripts/easy_install.exe pip\n",
    "pip install\n",
    "```"
   ]
  },
  {
   "cell_type": "markdown",
   "metadata": {
    "slideshow": {
     "slide_type": "subslide"
    }
   },
   "source": [
    "* pip를 설치하고 라이브러리를 설치할 수 있다.\n",
    "```python\n",
    "\\$ pip search statsmodels\n",
    "\\$ pip install statsmodels\n",
    "```"
   ]
  },
  {
   "cell_type": "markdown",
   "metadata": {
    "slideshow": {
     "slide_type": "subslide"
    }
   },
   "source": [
    "* pip를 사용하지 않고, **git에서 직접 설치**할 수 있다.\n",
    "* **patsy** 소스를 다운로드 받아서 설치하는 예이다.\n",
    "\n",
    "```python\n",
    "~/Code/git/else$ git clone https://github.com/pydata/patsy.git\n",
    "Cloning into 'patsy'...\n",
    "remote: Counting objects: 2028, done.\n",
    "remote: Total 2028 (delta 0), reused 0 (delta 0)\n",
    "Receiving objects: 100% (2028/2028), 1.55 MiB | 757.00 KiB/s, done.\n",
    "Resolving deltas: 100% (1306/1306), done.\n",
    "Checking connectivity... done.\n",
    "\n",
    "~/Code/git/else$ cd patsy/\n",
    "\n",
    "~/Code/git/else/patsy$ ls\n",
    "doc          MANIFEST.in  README.rst             setup.cfg  TODO   tox.ini\n",
    "LICENSE.txt  patsy        release-checklist.txt  setup.py   tools\n",
    "\n",
    "$ sudo python setup.py install\n",
    "\n",
    "$ pip list # 설치여부 확인\n",
    "```"
   ]
  },
  {
   "attachments": {},
   "cell_type": "markdown",
   "metadata": {},
   "source": [
    "### 1.2.4 Python 환경설정\n",
    "\n",
    "Python의 멀티버전과 패키지 의존성을 관리하는 것은 필수적이다. 운영체제별로 환경설정이 다르며, 각 시스템에 맞는 도구를 사용해야 한다.\n",
    "\n",
    "리눅스와 맥은 POSIX 표준을 따르며, 셸 스크립트와 관련된 많은 도구들이 기본적으로 설치되어 있다. pyenv는 이러한 POSIX 환경에 의존하기 때문에 Windows의 기본 환경에서는 제대로 작동하지 않는다.\n",
    "\n",
    "Windows에서는 Python을 설치할 때 주로 미리 컴파일된 설치 패키지(예: .exe, .msi 파일 등)를 사용한다. 반면, Linux나 macOS에서는 소스 코드를 직접 컴파일하여 설치하거나 패키지 관리자를 통해 Python을 설치하는 것이 일반적이다.\n",
    "\n",
    "#### 멀티버전 관리: 윈도우는 py런처, 리눅스/맥은 pyenv\n",
    "\n",
    "- (1) 리눅스/맥: pyenv 사용\n",
    "\n",
    "pyenv는 여러 버전의 Python을 설치, 관리하는 도구이다. 리눅스/맥에서만 사용 가능하며, Windows에서는 py 런처를 쓰도록 하자.\n",
    "\n",
    "    - 설치: ```pip install pyenv```\n",
    "\n",
    "    - Python 3.9 버전 설치 ```pyenv install 3.9``` (pyenv virtualenv 3.9.5 env39   # Python 3.9.5을 기반으로 가상환경 생성)\n",
    "\n",
    "    - 특정 프로젝트 폴더에 Python 버전 지정\n",
    "\n",
    "```\n",
    "    cd my_project\n",
    "    pyenv local 3.8.10 (glboal은 시스템 전체, local은 특정 디렉토리, 현재 셀 세션에서만 사용 shell)\n",
    "    pip install pyenv\n",
    "    pyenv install 3.9 # Python 3.9가 설치되어 있지 않은 경우\n",
    "```\n",
    "\n",
    "- (2) 윈도우: py 런처를 사용.\n",
    "\n",
    "윈도우에서 여러 Python 가운데 특정 버전을 지정하여 시작하려면 py 런처를 쓰면 된다. 별도 설치 없이 기본 제공된다. 체계적인 버전관리를 위해서는 pyenv-win을 사용할 수 있다. \n",
    "\n",
    "유닉스 계열 시스템에서는 쉘 스크립트와 #!(쉐뱅) 메커니즘을 사용하여 스크립트를 실행할 때 특정 Python 버전을 명시할 수 있어서, 별도의 py 런처가 필요하지 않을 수 있다. Windows 환경에서는 이런 스크립트를 쉽게 실행하기 위한 방법이 제한적이기 때문에, py 런처가 매우 유용한 도구로 개발되었다.\n",
    "\n",
    "py 런처는 Python 버전을 간편하게 실행하는 데 유용하지만, 가상 환경(venv)을 생성하거나 관리하는 기능은 내장되어 있지 않다.\n",
    "프로젝트마다 독립된 가상 환경을 만들어야 하는 경우에는 py 런처와 함께 venv를 추가로 사용해야 한다.\n",
    "\n",
    "    - py -0 설치된 Python 버전을 확인한다. 필요한 버전은 앞 설명과 같이 다운로드 설치한다.\n",
    "    - py -3.9 (특정 버전을 지정한다. 도움말 py -h)\n",
    "\n",
    "```\n",
    "    C:\\Users\\jsl>py -0 # 설치버전을 출력한다\n",
    "    Installed Pythons found by py Launcher for Windows\n",
    "     -3.9-64 *\n",
    "     -3.8-64\n",
    "     -2.7-64\n",
    "```\n",
    "\n",
    "#### 가상환경을 설정하고 패키지 설치, 관리\n",
    "\n",
    "이 방법은 각 프로젝트마다 독립적인 환경을 만들어 패키지를 관리한다.\n",
    "프로젝트가 여러 개 있고, 프로젝트별로 필요한 패키지와 버전을 격리할 수 있어 의존성 충돌을 방지하는 가장 좋은 방법이다.\n",
    "\n",
    "- 가상환경 생성: py -3.9 -m venv env3.9 (python3.9 -m venv env39) # Python 3.9을 기반으로 가상환경 생성\n",
    "    - py -3.9: 여러 버전 중 파이썬 3.9 버전을 사용\n",
    "    - -m: 모듈(라이브러리)을 스크립트처럼 실행하겠다는 옵션\n",
    "    - venv: 가상 환경을 만들고 관리하는 모듈\n",
    "    - env3.9: 현재 디렉토리에 새로 생성될 가상 환경 디렉토리의 이름, 원하는 대로 바꿀 수 있다.\n",
    "    - 버전 11로 가상환경을 생성하는 예는: py -3.11 -m venv env311\n",
    "\n",
    "- 가상환경 활성화: env3.9\\Scripts\\activate  # 리눅스/맥에서는 source env39/bin/activate\n",
    "가상환경 활성화하면 python --version 명령의 출력이 3.9.1, jupyter notebook 실행해도 3.9.1\n",
    "\n",
    "- 필요한 패키지 설치: (env3.9) pip install matplotlib==3.2.2\n",
    "- pyspark 설치: (env3.9) pip install pyspark # 로컬 환경이다. 클러스터 환경은 별도 설정이 필요하다.\n",
    "    - 로컬 환경: pip install pyspark만으로도 대부분의 기본적인 Spark 작업을 로컬에서 수행할 수 있다. PySpark는 필요한 Spark 라이브러리와 함께 제공되기 때문에 별도의 Spark 설치가 필요하지 않다.\n",
    "    - 클러스터 환경: 클러스터 모드에서 PySpark를 실행하려면, Spark 클러스터와의 통신을 위한 설정이 필요할 수 있다. 그러나 단순히 로컬 모드에서 작업하는 경우 추가 설정 없이도 바로 사용 가능하다.\n",
    "\n",
    "- Jupyter Notebook에서 가환경 커널 추가 (env3.9) python -m ipykernel install --user --name python39 --display-name \"Python 3.9\"\n",
    "- jupyter kernelspec list해서 설치된 python 커널 목록: (env3.9) jupyter kernelspec list\n",
    "- Jupyter Notebook의 실행 (env3.9) start jupyter notebook # 실행하면 노트북 생성 시 각 Python 버전 커널 중 하나를 선택할 수 있다.\n",
    "\n",
    "Jupyter Notebook에서 가상 환경(또는 시스템환경)의 Python 커널을 사용하려면, ipykernel을 설치하고 해당 Python버전을 jupyter notebook에 커널로 추가 (python39는 커널이름이다). 나중에 여러 Python 버전 중에서 원하는 버전을 선택할 수 았다.\n",
    "\n",
    "가상환경 로컬에서 사용하게 되므로, 사용자권한으로 설치한다. 뒤에 pip install ```<package>``` --user 이렇게 사용자 권한을 명시하면 된다.\n",
    "\n",
    "start 명령을 하면 별도의 세션을 연다.\n",
    "\n",
    "- 커널 삭제: (env3.9) jupyter kernelspec uninstall python39  # Python 3.9 커널 삭제 더 이상 필요하지 않은 커널의 삭제\n",
    "\n",
    "jupyter kernelspec remove python39 라고 해도 된다.\n",
    "\n",
    "- 가상환경 활성화 후 Python 실행: (env_name) $ python --version\n",
    "\n",
    "그냥 python이라고 한다. py -3.9 런쳐를 사용할 필요가 없다. 가상환경을 벗어나 시스템의 다른 Python 버전을 실행할 때 런쳐를 쓴다.\n",
    "\n",
    "Python 스크립트 실행하는 것도 (env_name) $ python myLib.py 이렇게 한다.\n",
    "\n",
    "- 가상환경 종료 activate는 시작 deactivate는 종료\n",
    "\n",
    "- 프로젝트가 끝난 후 venv 가상환경 디렉토리를 삭제: rm -rf venv_name (윈도우 rmdir /s /q venv_name)\n",
    "\n",
    "가상환경은 프로젝트별로 독립적으로 설정된 Python 패키지와 설정을 관리하기 위한 것이기 때문에, 프로젝트가 완료되면 더 이상 필요하지 않다면 삭제하면 된다.\n",
    "\n",
    "- 패키지 목록 저장: pip freeze > requirements.txt\n",
    "\n",
    "가상환경을 삭제하면 해당 가상환경에 설치된 모든 패키지도 함께 삭제된다. 만약 나중에 동일한 환경을 재구성해야 할 가능성이 있다면, requirements.txt 파일을 생성해 어떤 패키지들이 설치되어 있었는지 기록해두는 것이 좋다.\n",
    "\n",
    "\n",
    "> 더 알아보기: 가상환경 없이 패키지를 pip 설치\n",
    "\n",
    "> 여러 버전의 Python이 설치된 환경에서, 명확하게 특정 버전의 파이썬에 패키지를 설치할 때 유용하다.\n",
    "\n",
    "> ```\n",
    ">  py -3.9 -m pip install matplotlib==3.2.2 # 이렇게 하면 3.9 기준으로 패키지 설치 py -3.9 -m pip list 하면 확인\n",
    "> ```\n",
    "\n",
    "> 주의: py 런처를 통해 ipykernel을 설치할 수는 없다. ipykernel은 특정 파이썬 환경(인터프리터)에 설치되어야 하는 패키지이므로, 우선 py 런처를 사용하여 원하는 파이썬 환경을 선택한 후, 그 환경에서 pip install ipykernel 명령을 실행해 설치해야 한다.\n",
    "\n",
    "#### 요약\n",
    "\n",
    "다음은 윈도우에서 py 런처를 버전 지정, 가상환경 생성, 패키지 설치에 필요한 명령어들이다.\n",
    "\n",
    "```\n",
    " 줄1: py -3.9 -m venv env3.9 # 윈도우 환경에서 Python 3.9을 기반으로 가상환경 생성\n",
    " 줄2: env3.9\\Scripts\\activate\n",
    " 줄3: (env3.9) pip install matplotlib==3.2.2\n",
    " 줄4: (env3.9) pip install pyspark \n",
    " 줄5: (env3.9) pip install jupyter # jupyter만 설치해도 ipkernel도 설치\n",
    " 줄6: (env3.9) python -m ipykernel install --user --name python39 --display-name \"Python 3.9\" # 이후 \"Python 3.9\"라는 커널을 선택 가능\n",
    " 줄7: (env3.9) jupyter kernelspec list\n",
    " 줄8: (env3.9) start jupyter notebook\n",
    " 줄9: (env_name) $ python --version\n",
    "```\n",
    "\n",
    "여기부터는 리눅스/맥:\n",
    "\n",
    "```\n",
    "pip install pyenv\n",
    "pyenv install 3.9 # Python 3.9가 설치되어 있지 않은 경우\n",
    "\n",
    "python3.9 -m venv env3.9   # Python 3.9 기반 가상환경 생성\n",
    "source env3.9/bin/activate # 가상환경 활성화, 성공하면 프롬프트가 (env3.9)로 변경\n",
    "pip install matplotlib==3.2.2\n",
    "pip install pyspark\n",
    "pip install jupyter # Jupyter 설치 시 `ipykernel`도 자동 설치\n",
    "python -m ipykernel install --user --name python39 --display-name \"Python 3.9\" # 커널 등록 (Jupyter에서 사용 가능하게)\n",
    "jupyter kernelspec list\n",
    "jupyter notebook\n",
    "```\n"
   ]
  },
  {
   "cell_type": "markdown",
   "metadata": {},
   "source": [
    "### 1.2.5 site package\n",
    "\n",
    "site-packages는 파이썬의 표준 라이브러리와는 별도로, 사용자가 패키지들을 설치, 저장되는 디렉토리이다.\n",
    "import할 경우 패키지를 찾는 폴더이고, 다음과 같이 sys.path를 출력하면 알 수 있다.\n",
    "\n",
    "- 시스템 전체에서 사용하는 기본 경로\n",
    "    - python39.zip: Python 표준 라이브러리 모듈이 압축된 형태로 제공되는 경우, 이 경로에서 해당 모듈들을 로드\n",
    "    - DLLs: Python이 의존하는 동적 링크 라이브러리(DLL) 파일들이 위치한 경로, 시스템 전역에서 사용되는 Python의 기본 경로\n",
    "    - lib: Python 설치 디렉토리의 루트, Python 실행 파일과 기본 설정 파일들이 있는 경로\n",
    "    - Python39: Python 표준 라이브러리가 설치된 기본 경로\n",
    "- 가상환경 특화된 경로\n",
    "- 가상환경 내의 lib\\site=packages 경로"
   ]
  },
  {
   "cell_type": "code",
   "execution_count": 25,
   "metadata": {},
   "outputs": [
    {
     "name": "stdout",
     "output_type": "stream",
     "text": [
      "C:\\Program Files\\Python\\Python39\\python39.zip\n",
      "C:\\Program Files\\Python\\Python39\\DLLs\n",
      "C:\\Program Files\\Python\\Python39\\lib\n",
      "C:\\Program Files\\Python\\Python39\n",
      "C:\\Users\\admin\\Code\\git\\bb\\jsl\\pyds\\env3.9\n",
      "\n",
      "C:\\Users\\admin\\Code\\git\\bb\\jsl\\pyds\\env3.9\\lib\\site-packages\n",
      "C:\\Users\\admin\\Code\\git\\bb\\jsl\\pyds\\env3.9\\lib\\site-packages\\win32\n",
      "C:\\Users\\admin\\Code\\git\\bb\\jsl\\pyds\\env3.9\\lib\\site-packages\\win32\\lib\n",
      "C:\\Users\\admin\\Code\\git\\bb\\jsl\\pyds\\env3.9\\lib\\site-packages\\Pythonwin\n"
     ]
    }
   ],
   "source": [
    "import sys\n",
    "for i in sys.path:\n",
    "    print(i)"
   ]
  },
  {
   "cell_type": "code",
   "execution_count": 26,
   "metadata": {},
   "outputs": [
    {
     "name": "stdout",
     "output_type": "stream",
     "text": [
      "['C:\\\\Users\\\\admin\\\\Code\\\\git\\\\bb\\\\jsl\\\\pyds\\\\env3.9', 'C:\\\\Users\\\\admin\\\\Code\\\\git\\\\bb\\\\jsl\\\\pyds\\\\env3.9\\\\lib\\\\site-packages']\n"
     ]
    }
   ],
   "source": [
    "import site\n",
    "print(site.getsitepackages()) #site 모듈을 사용하면 가상환경만 출력한다"
   ]
  },
  {
   "cell_type": "markdown",
   "metadata": {},
   "source": [
    "파이썬은 모듈을 처음 import할 때 sys.modules에 저장한다. 이후 같은 모듈을 다시 import할 때는 sys.modules에 있는 모듈을 사용하여, 불필요하게 모듈을 다시 로드하지 않도록 최적화한다.\n",
    "\n",
    "모듈을 강제로 재로드하려면 importlib.reload()를 사용할 수 있다. 또는 sys.modules에서 해당 모듈을 삭제하고 다시 import할 수도 있다."
   ]
  },
  {
   "cell_type": "code",
   "execution_count": 27,
   "metadata": {},
   "outputs": [
    {
     "name": "stdout",
     "output_type": "stream",
     "text": [
      "['sys', 'builtins', '_frozen_importlib', '_imp', '_thread', '_warnings', '_weakref', '_frozen_importlib_external', 'nt', '_io', 'marshal', 'winreg', 'time', 'zipimport', '_codecs', 'codecs', 'encodings.aliases', 'encodings', 'encodings.utf_8', '_codecs_kr']\n"
     ]
    }
   ],
   "source": [
    "print(list(sys.modules.keys())[:20]) # sys.modules 일부만 출력"
   ]
  },
  {
   "cell_type": "markdown",
   "metadata": {},
   "source": [
    "Python 인터프리터의 환경에 관해서도 알 수 있다."
   ]
  },
  {
   "cell_type": "code",
   "execution_count": 28,
   "metadata": {},
   "outputs": [
    {
     "name": "stdout",
     "output_type": "stream",
     "text": [
      "3.9.1 (tags/v3.9.1:1e5d33e, Dec  7 2020, 17:08:21) [MSC v.1927 64 bit (AMD64)]\n"
     ]
    }
   ],
   "source": [
    "print(sys.version) #사용하는 버전"
   ]
  },
  {
   "cell_type": "code",
   "execution_count": 29,
   "metadata": {},
   "outputs": [
    {
     "name": "stdout",
     "output_type": "stream",
     "text": [
      "C:\\Users\\admin\\Code\\git\\bb\\jsl\\pyds\\env3.9\\Scripts\\python.exe\n"
     ]
    }
   ],
   "source": [
    "print(sys.executable) #사용하는 실행파일"
   ]
  },
  {
   "cell_type": "markdown",
   "metadata": {
    "slideshow": {
     "slide_type": "subslide"
    }
   },
   "source": [
    "## 1.3 출력과 도움말\n",
    "\n",
    "* 프로그래밍을 해 본 사람이면 알겠지만, 가장 먼저 해보는 것이 'Hello world!'이다.\n",
    "* '#'은 **comments** 또는 도움말을 적을 때 사용한다."
   ]
  },
  {
   "cell_type": "code",
   "execution_count": 30,
   "metadata": {},
   "outputs": [
    {
     "name": "stdout",
     "output_type": "stream",
     "text": [
      "Hello World!!!\n"
     ]
    }
   ],
   "source": [
    "# comments\n",
    "print(\"Hello World!!!\")"
   ]
  },
  {
   "cell_type": "markdown",
   "metadata": {
    "slideshow": {
     "slide_type": "subslide"
    }
   },
   "source": [
    "## 1.4 변수\n",
    "\n",
    "**변수 variables**를 **상자**에 비유하면 이해하기 쉽다.\n",
    "상자 마다 '이름'이 붙여져 있고, 그 안에 값이 저장되어 있다.\n",
    "여기서 **상자의 이름이 변수**가 된다.\n",
    "변수는 **메모리의 저장공간**을 확보해서 활용하기 위해 그 곳에 **이름을 붙여** 놓는 것이다.\n",
    "상자 안에 무엇인가 저장되어 있으면, 이를 '**값**'이라고 한다.\n",
    "상자를 열어서 그 값을 꺼낼 수 있는데, 변수도 마찬가지이다.\n",
    "변수에 값을 저장하고 꺼내어 쓰게 된다."
   ]
  },
  {
   "cell_type": "markdown",
   "metadata": {
    "slideshow": {
     "slide_type": "subslide"
    }
   },
   "source": [
    "### 변수 만들기\n",
    "\n",
    "변수 w에 3을 저장해 보자. 메모리에 값 3이 저장되고, 그 값에 대한 이름이 변수 w가 된다."
   ]
  },
  {
   "cell_type": "code",
   "execution_count": 3,
   "metadata": {},
   "outputs": [],
   "source": [
    "w=3"
   ]
  },
  {
   "cell_type": "markdown",
   "metadata": {
    "slideshow": {
     "slide_type": "subslide"
    }
   },
   "source": [
    "위에서 선언한 변수 w에는 뭐가 저장되어 있을까? 물론 수 3이 저장되어 있다. 여기에 2를 곱해서 변수 area에 6이 저장된다.\n",
    "주의할 점은, **w에 저장된 값 3을 불러서 사용**할 수 있다는 것이다. 변수를 사용하지 않으면 할 수 없는 일이다."
   ]
  },
  {
   "cell_type": "code",
   "execution_count": 4,
   "metadata": {},
   "outputs": [
    {
     "name": "stdout",
     "output_type": "stream",
     "text": [
      "면적:  6\n"
     ]
    }
   ],
   "source": [
    "area=2*w\n",
    "print(\"면적: \",area)"
   ]
  },
  {
   "cell_type": "markdown",
   "metadata": {
    "slideshow": {
     "slide_type": "subslide"
    }
   },
   "source": [
    "변수는 메모리의 공간이라서 **수, 문자와 같이 크기에 따라 차지하는 공간에 차이**가 있다. 따라서 효율적인 공간활용을 위해서는 쓰임새에 맞게 낭비하지 않도록 확보해야 한다.\n",
    "\n",
    "area의 변수 타잎을 알아보자. **타잎**이라는 말은 변수의 형식, 즉 정수, 소수, 문자 등 저장한 **값의 형태**가 무엇인지 알려준다.\n",
    "예상대로 area는 정수 int이다. 값 6을 저장하고 있으므로 당연한 결과이다.\n"
   ]
  },
  {
   "cell_type": "code",
   "execution_count": 6,
   "metadata": {},
   "outputs": [
    {
     "data": {
      "text/plain": [
       "int"
      ]
     },
     "execution_count": 6,
     "metadata": {},
     "output_type": "execute_result"
    }
   ],
   "source": [
    "type(area)"
   ]
  },
  {
   "cell_type": "markdown",
   "metadata": {
    "slideshow": {
     "slide_type": "subslide"
    }
   },
   "source": [
    "변수는 왜 사용해야 하는가? 좀 어려운 설명일 수 있겠지만, 값과 값에 대한 명칭을 **분리**할 수 있기 때문이다.\n",
    "\n",
    "변수에 뭔가 값을 저장해 놓고, 명칭으로 사용하기 위해서이다. 예를 들어, 너비 3cm, 높이 2cm인 직사각형의 면적을 구하려면 공식에 따라 ```3 x 2``` 하면 된다. 그러나 변수를 사용하면 너비, 높이에 대한 명칭을 w, h로 정하고 임의의 값으로 연산을 할 수 있게 된다. 즉 ```w x h```, 이 때 w는 3, h는 2를 대입해 계산을 하게 된다. 따라서 **변수는 명칭이기 때문에 값을 저장하고, 저장된 값을 불러 쓰려고** 하기 때문이다.\n",
    "\n",
    "앞서 저장한 area를 불러와 사용해 보자. 또한 **변수로 연산**을 해보자. 변수 w와 h를 서로 곱할 때 ```w x h```, **저장되어 있는 3과 2를 불러와, 곱해서 6을 출력**하게 된다."
   ]
  },
  {
   "cell_type": "code",
   "execution_count": 7,
   "metadata": {},
   "outputs": [
    {
     "name": "stdout",
     "output_type": "stream",
     "text": [
      "면적:  6\n"
     ]
    }
   ],
   "source": [
    "h=2\n",
    "area=w*h\n",
    "print(\"면적: \",area)"
   ]
  },
  {
   "cell_type": "markdown",
   "metadata": {
    "slideshow": {
     "slide_type": "subslide"
    }
   },
   "source": [
    "### 자유로운 타입\n",
    "\n",
    "보통 C, Java와 같은 컴파일 언어에서는 수를 사용하는 변수는 문자를 넣을 수가 없으나 스크립트언어에서는 문제가 되지 않는다.\n",
    "\n",
    "앞서 변수 area는 숫자를 저장하고 있었다.\n",
    "숫자 6이 저장되어 있지만, 문자열을 넣어 본다. 그래도 오류가 없다.\n",
    "타입을 출력하면 'str'이다. 즉 문자열이라는 의미이다. 앞서 **'int'가 \"hello\"를 넣으면서 'str'로 변경**되었다.\n",
    "숫자만 쓸 수 있어야 하지만, Python은 타입을 자유롭게 고정해 놓지 않으므로 가능하다."
   ]
  },
  {
   "cell_type": "code",
   "execution_count": 8,
   "metadata": {},
   "outputs": [
    {
     "data": {
      "text/plain": [
       "str"
      ]
     },
     "execution_count": 8,
     "metadata": {},
     "output_type": "execute_result"
    }
   ],
   "source": [
    "area=\"hello\"\n",
    "type(area)"
   ]
  },
  {
   "cell_type": "markdown",
   "metadata": {
    "slideshow": {
     "slide_type": "subslide"
    }
   },
   "source": [
    "### 연산\n",
    "\n",
    "연산을 할 때 수학과 같이 변수를 사용한다. 앞서 사각형 계산을 했던 것처럼 더하기, 빼기, 곱하기, 나누기 간단한 연산 뿐만 아니라, 복잡한 수학계산도 프로그래밍으로 할 수 있다.\n",
    "\n",
    "이럴 때 **수학계산에 필요한 라이브러리**를 사용하게 된다. 라이브러리를 사용하는 방법은 간단하다. 'import math'라고 하고, 필요한 기능을 앞에 math를 붙여, 호출하여 사용한다.\n",
    "\n",
    "예를 들어, 로그 또는 파이 값을 계산하면 다음과 같다."
   ]
  },
  {
   "cell_type": "code",
   "execution_count": 10,
   "metadata": {},
   "outputs": [
    {
     "name": "stdout",
     "output_type": "stream",
     "text": [
      "0.6931471805599453\n",
      "3.141592653589793\n"
     ]
    }
   ],
   "source": [
    "import math\n",
    "print(math.log(2))\n",
    "print(math.pi)"
   ]
  },
  {
   "cell_type": "markdown",
   "metadata": {
    "slideshow": {
     "slide_type": "subslide"
    }
   },
   "source": [
    "### 연산자가 여러 기능을 할 수 있다\n",
    "\n",
    "하나의 연산자가 여러 의미를 가질 수 있다.\n",
    "예를 들어 ```+```는 숫자를 만나면 덧셈, 문자를 만나면 합성중복 기능을 하게 된다.\n",
    "또한 ```*```를 하면 문자열이 중복되는 결과를 볼 수 있다.\n",
    "이를 연산자 **오버로딩 overloading**이라고 한다. 오버로딩은 한 연산자에 여러 기능을 수행할 수 있게 해 놓았다는 의미이다."
   ]
  },
  {
   "cell_type": "code",
   "execution_count": 20,
   "metadata": {},
   "outputs": [
    {
     "name": "stdout",
     "output_type": "stream",
     "text": [
      "hellohello\n",
      "hellohello\n"
     ]
    }
   ],
   "source": [
    "# operator overloading\n",
    "a=\"hello\"\n",
    "print(a+a) # 연산이 아니라 합성\n",
    "print(2*a) # 연산이 아니라 중복"
   ]
  },
  {
   "cell_type": "markdown",
   "metadata": {},
   "source": [
    "### operator 모듈\n",
    "\n",
    "Python의 operator 모듈은 기본 연산자에 해당하는 함수를 제공한다. Java의 Utility 클래스(예: Collections, Arrays, Math 등)과 비슷하다.\n",
    "\n",
    "operator 모듈은 연산자를 함수로 사용할 수 있게 해주고, lambda보다 빠르고 가독성이 좋으며, 함수형 프로그래밍 스타일이나 정렬/필터링 같은 작업에서 특히 유용하다.\n",
    "\n",
    "- 산술 연산자: add, sub, mul, truediv, floordiv, mod, pow\n",
    "\n",
    "- 비교 연산자: eq, ne, lt, le, gt, ge\n",
    "\n",
    "- 논리 연산자: and_, or_, not_\n",
    "\n",
    "- 시퀀스/객체 접근: getitem, setitem, delitem, itemgetter, attrgetter"
   ]
  },
  {
   "cell_type": "code",
   "execution_count": 32,
   "metadata": {},
   "outputs": [
    {
     "name": "stdout",
     "output_type": "stream",
     "text": [
      "3\n",
      "2\n",
      "15\n",
      "1.5\n"
     ]
    }
   ],
   "source": [
    "import operator\n",
    "print(operator.add(1, 2))  # 3\n",
    "print(operator.sub(5, 3))  # 2\n",
    "print(operator.mul(5, 3))  # 15\n",
    "print(operator.truediv(6, 4))  # 1.5"
   ]
  },
  {
   "cell_type": "code",
   "execution_count": 33,
   "metadata": {},
   "outputs": [
    {
     "name": "stdout",
     "output_type": "stream",
     "text": [
      "32\n",
      "False\n",
      "True\n",
      "False\n",
      "True\n",
      "False\n",
      "2\n"
     ]
    }
   ],
   "source": [
    "print(operator.pow(2, 5))   # 2 ** 5 = 32\n",
    "print(operator.eq(5, 3))    # False\n",
    "print(operator.lt(2, 3))    # True\n",
    "print(operator.lt(3, 2))    # False\n",
    "print(operator.and_(True, True))   # True\n",
    "print(operator.and_(True, False))  # False\n",
    "print(operator.and_(6, 3))   # 6(110) & 3(011) = 2(010) 정수에서도 비트 연산자로 동작"
   ]
  },
  {
   "cell_type": "markdown",
   "metadata": {},
   "source": [
    "Factorial을 계산할 수 있다."
   ]
  },
  {
   "cell_type": "code",
   "execution_count": 34,
   "metadata": {},
   "outputs": [
    {
     "name": "stdout",
     "output_type": "stream",
     "text": [
      "6\n"
     ]
    }
   ],
   "source": [
    "import operator\n",
    "p=1\n",
    "for i in range(1,4):\n",
    "    p=operator.mul(p,i)\n",
    "\n",
    "print(p)"
   ]
  },
  {
   "cell_type": "markdown",
   "metadata": {
    "slideshow": {
     "slide_type": "slide"
    }
   },
   "source": [
    "## 1.5 데이터 타입\n",
    "\n",
    "파이썬은 **타입을 사용하는 언어가 아니라서** 배우기 쉽다. 그러나 사용하는 데이터의 타입을 생각해서 프로그래밍을 하는 편이 좋다. 보통 **숫자**, **문자** 또는 **객체**인지 정도로는 나누어서 사용하자.\n",
    "\n",
    "**논리**는 숫자의 일종이라고 간주할 수 있다. 단 가질 수 있는 값이 0,1 두 개, 즉 참 거짓이다.\n",
    "**수**는 정수와 소수로 구분해서 사용하는 편이 좋다.\n",
    "\n",
    "**문자**는 unicode를 지원하는지에 따라 다르다. 한글은 unicode로 과거 버전2에서는 조심해서 사용했어야 하지만 **버전3에서는 unicode를 기본으로 지원**해서 많이 편해졌다.\n",
    "\n",
    "\n",
    "구분 | 타입 | 설명\n",
    "-----|-----|-----\n",
    "논리 | boolean type | 참, 거짓\n",
    "수 | int | 음, 양 정수\n",
    " || float | 소수점\n",
    "문자 | ascii, unicode | 문자 또는 텍스트\n"
   ]
  },
  {
   "cell_type": "markdown",
   "metadata": {
    "slideshow": {
     "slide_type": "subslide"
    }
   },
   "source": [
    "### 논리타입\n",
    "\n",
    "논리타입은 그 값으로 참, 거짓을 가질 수 있다."
   ]
  },
  {
   "cell_type": "code",
   "execution_count": 21,
   "metadata": {},
   "outputs": [
    {
     "name": "stdout",
     "output_type": "stream",
     "text": [
      "False\n"
     ]
    }
   ],
   "source": [
    "# boolean\n",
    "print(3>4)"
   ]
  },
  {
   "cell_type": "markdown",
   "metadata": {
    "slideshow": {
     "slide_type": "subslide"
    }
   },
   "source": [
    "```3>4``` 라는 연산은 어떤 결과가 나오게 될까? 3이 4보다 크지 않으므로 'False'이다. 이와 같이 논리타입은 True, False 둘 중의 하나 값을 가진다. 그 bigger 타잎을 출력하면 'bool'이라고 출력된다."
   ]
  },
  {
   "cell_type": "code",
   "execution_count": 23,
   "metadata": {},
   "outputs": [],
   "source": [
    "bigger=(3>4)"
   ]
  },
  {
   "cell_type": "code",
   "execution_count": 24,
   "metadata": {},
   "outputs": [
    {
     "name": "stdout",
     "output_type": "stream",
     "text": [
      "<class 'bool'>\n"
     ]
    }
   ],
   "source": [
    "print(type(bigger))"
   ]
  },
  {
   "cell_type": "markdown",
   "metadata": {
    "slideshow": {
     "slide_type": "subslide"
    }
   },
   "source": [
    "### 숫자\n",
    "\n",
    "숫자란 정수, 소수와 같은 연산이 가능한 값을 말한다. 연산의 결과는 당연히 숫자.\n",
    "이 때, **데이터타입**을 주의하면서 하는 편이 좋다. 즉, 정수끼리의 연산은 정수, 소수끼리의 연산은 소수 결과 값을 내어 준다.\n",
    "**정수와 소수와 같이 연산할 때에는 안전, 데이터를 잃어 버리지 않기 위해 큰 쪽의 결과**를 산출한다.\n",
    "아래는 정수 7과 소수 3.이 연산되면 소수 21.0이 결과값이 된다."
   ]
  },
  {
   "cell_type": "code",
   "execution_count": 25,
   "metadata": {},
   "outputs": [
    {
     "name": "stdout",
     "output_type": "stream",
     "text": [
      "21.0\n"
     ]
    }
   ],
   "source": [
    "# float\n",
    "print(7*3.)"
   ]
  },
  {
   "cell_type": "markdown",
   "metadata": {
    "slideshow": {
     "slide_type": "subslide"
    }
   },
   "source": [
    "숫자로 간단한 연산을 해보자. 앞서 설명했던 데이터타입을 유의하자.\n",
    "이와 같이 파이썬은 데이터타입을 꼭 맞추어 사용하지 않아도 되지만, 유의하면서 프로그래밍하는 것이 좋다."
   ]
  },
  {
   "cell_type": "code",
   "execution_count": 26,
   "metadata": {},
   "outputs": [
    {
     "name": "stdout",
     "output_type": "stream",
     "text": [
      "1024\n",
      "1.5\n",
      "1.5\n"
     ]
    }
   ],
   "source": [
    "# power\n",
    "print(2**10)\n",
    "print(3/2)\n",
    "print(3/2.)    #정수 3과 소수 2.의 혼합된 데이터타입이라 결과가 큰 쪽인 소수로 산출"
   ]
  },
  {
   "cell_type": "markdown",
   "metadata": {
    "slideshow": {
     "slide_type": "subslide"
    }
   },
   "source": [
    "## 1.6 제어흐름\n",
    "\n",
    "for 문과 if 문을 어떻게 사용하는지 배워보자."
   ]
  },
  {
   "cell_type": "markdown",
   "metadata": {
    "slideshow": {
     "slide_type": "slide"
    }
   },
   "source": [
    "### 1.6.1 for 문\n",
    "for 문은 **정해진 횟수만큼 코드를 반복**하여 실행한다. for 반복문에는 **시작**, **끝**, **반복조건**이 주어져야 한다. 일반적으로는 정수를 사용해서 시작, 끝, 계수를 지정한다. 예를 들어 1부터 10까지 1씩 증가하면서 반복시키는 예를 들 수 있다. 이러한 시작, 끝, 계수 등과 같은 반복 조건을 범위라고 표현하기도 한다. for 반복문은 아래처럼 사용된다.\n",
    "\n",
    "```python\n",
    "for 변수 in range(범위):\n",
    "\t<반복할 실행문>\n",
    "```\n",
    "\n",
    "- 함수를 구현할 때처럼 '**:**' 과 들여쓰기를 이용해서 `for` 반복문 안에서 반복해야 하는 코드를 구별한다.\n",
    "- 위에서 변수는 사용자가 파이썬의 이름 짓기 규칙에 따라 짓는 이름을 정하면 된다.\n",
    "- `range()` 함수는 숫자의 리스트 조합을 만들어주는 함수인데 아직 리스트를 배우지 않았으므로, 그냥 범위 안에 있는 숫자의 모음을 생성한다고 생각하자. `range()` 함수의 사용법은 뒤에서 다시 보겠지만, 여기서는 우선 `**range(n)**`이라고 함수를 호출하면, **0 ~ n - 1까지의 정수 모음**을 만들어주는 것으로 이해하자. \n",
    "- <반복할 실행문>은 한 줄(line) 이상의 파이썬 코드로 구성되며 변수에 값을 넣는다거나 함수를 호출하는 코드는 물론 심지어는 다른 반복문을 포함할 수도 있다. 단 여기서는 함수의 코드를 작성할 때와 마찬가지로 **들여쓰기**를 통해서 `for` 반복문에서 실행되어야 하는 코드를 구별한다. "
   ]
  },
  {
   "cell_type": "markdown",
   "metadata": {
    "slideshow": {
     "slide_type": "subslide"
    }
   },
   "source": [
    "for 반복문은 **range() 함수에서 생성한 숫자 모음에서 숫자 값을 한 개씩 빼서 변수에 넣고**, 들여쓰기 되어 있는 **<반복할 실행문>을 실행**한다. 숫자 모음에 있는 각 숫자에 대해서 <반복할 실행문>이 수행되면 반복문이 종료된다. <반복할 실행문>에 해당되는 코드에서는 range()에서 생성되는 숫자 모음의 숫자 값을 사용하는 경우가 많다. 간단한 예제 코드를 파이썬 쉘에서 실행시킨 것을 살펴보자.\n"
   ]
  },
  {
   "cell_type": "code",
   "execution_count": 95,
   "metadata": {
    "slideshow": {
     "slide_type": "subslide"
    }
   },
   "outputs": [
    {
     "name": "stdout",
     "output_type": "stream",
     "text": [
      "0\n",
      "1\n",
      "2\n",
      "3\n",
      "4\n"
     ]
    }
   ],
   "source": [
    "for i in range(5):\n",
    "   print(i)"
   ]
  },
  {
   "cell_type": "markdown",
   "metadata": {
    "slideshow": {
     "slide_type": "subslide"
    }
   },
   "source": [
    "#### 연산을 하는 반복\n",
    "이제 또 다른 경우를 생각해보자.\n",
    "\n",
    "5번을 실행시키는데, 만약 1, 3, 5, 7, 9를 출력하고 싶다면 어떻게 할까? 역시 숫자 5개를 출력하는 것은 맞는데, 이번에는 처음 나오는 5개의 **홀수**를 출력한다. 이건 어떻게 **패턴**을 찾아야 할까? 우선 0~4까지 나오는 `range(5)` 함수의 결과물을 이용해서 1 ~ 9까지의 홀수를 만들 수는 없을까?\n",
    "\n",
    "조금만 생각해보면 `i`라는 변수에 `range()`함수의 값이 들어간다고 가정했을 때 `2 * i + 1`로 계산하면 홀수 5개를 만들 수 있다. 따라서 아래처럼 작성하면 홀수 5개를 출력하는 코드를 만들 수 있다."
   ]
  },
  {
   "cell_type": "code",
   "execution_count": 101,
   "metadata": {
    "slideshow": {
     "slide_type": "subslide"
    }
   },
   "outputs": [
    {
     "name": "stdout",
     "output_type": "stream",
     "text": [
      "1\n",
      "3\n",
      "5\n",
      "7\n",
      "9\n"
     ]
    }
   ],
   "source": [
    "for i in range(5):\n",
    "  print(2 * i + 1)"
   ]
  },
  {
   "cell_type": "markdown",
   "metadata": {
    "slideshow": {
     "slide_type": "subslide"
    }
   },
   "source": [
    "1~9까지의 홀수 5개를 출력하는 또 **다른 패턴**을 생각해보자. 첫 번째 홀수는 1이었고, 그 다음 홀수부터는 계속 2씩 증가한다. 이걸 패턴으로 생각해서 만들 수는 없을까? 만약 5번을 실행시키면서 다른 변수를 사용하면 어떻게 될까? 예를 들어 `n` 이라는 변수를 한 개 만들고 1이라는 값으로 초기화시켰다고 가정해보자. 처음에는 1이라는 값이 출력되고, 그 다음부터 반복될 때에는 2가 증가된 값으로 출력한다면 되지 않을까? 이걸 작성해본 코드는 아래와 같다. 실행화면은 위에서 보인 것과 동일하다.\n",
    "\n",
    "`n`이라는 변수의 값을 1로 초기화 시킨 후에 일단 반복문을 실행시키면서 출력부터 했다. 그런 후에 2를 증가시켜서 다시 반복될 때에는 2만큼 증가된 값이 출력되도록 하였다. 이렇게 우리는 계수 반복형 문장을 활용하면서 꼭 그 계수에 해당하는 변수인 `i`라는 변수를 사용하지 않고 다른 변수를 이용해서도 패턴을 만들어낼 수 있음을 확인할 수 있다. "
   ]
  },
  {
   "cell_type": "code",
   "execution_count": 1,
   "metadata": {},
   "outputs": [
    {
     "name": "stdout",
     "output_type": "stream",
     "text": [
      "1\n",
      "3\n",
      "5\n",
      "7\n",
      "9\n"
     ]
    }
   ],
   "source": [
    "n = 1\n",
    "for i in range(5):\n",
    "  print(n)\n",
    "  n = n + 2"
   ]
  },
  {
   "cell_type": "markdown",
   "metadata": {
    "slideshow": {
     "slide_type": "subslide"
    }
   },
   "source": [
    "### 1.6.2 while 문\n",
    "\n",
    "일반적으로 프로그래밍 언어에서 제공되는 반복문은 두 가지가 있다고 했다. 첫 번째는 이미 보았던 것처럼 **정해진 횟수만큼 반복**시키는 계수 반복형 문장이고, 또 다른 것은 **조건이 만족될 때까지 반복되는 조건 반복형** 문장이다. 파이썬에서도 두 가지를 모두 제공한다고 했고, 계수 반복형은 `for` 반복문을 이용해서 구현 가능함을 보았다. \n",
    "\n",
    "파이썬에서 두 번째로 제공되는 조건 반복문은 `while` 예약어를 이용한다. 아래에는 `while` 반복문의 문법 구조를 보인다. \n",
    "\n",
    "```python\n",
    "while <조건표현식>:\n",
    "\t<반복할 실행문>\n",
    "```\n",
    "\n",
    "`while` 반복문은 반복을 시작하기 전에 <조건표현식>의 결과 값을 확인하고 결과가 `True`이면 <반복할 실행문>를 실행시킨다. 만약 결과가 `False`가 나온다면 `while` 반복문을 종료하고 다음 문장이 실행된다. `while`반복문에서 검사하는 조건은 조건 표현식으로 구성되며 우선 여기서는 비교 연산자를 사용하거나 불린 자료형 값을 이용해서 구현하는 경우만 볼 것이다.  다른 경우의 조건 표현식도 살펴볼 예정이다. 실제 예제 코드를 살펴보도록 하자. 0부터 4까지의 숫자를 화면에 출력하는 프로그램을 `for` 반복문과 `while`반복문으로 작성하면 아래와 같다. \n"
   ]
  },
  {
   "cell_type": "markdown",
   "metadata": {
    "slideshow": {
     "slide_type": "subslide"
    }
   },
   "source": [
    "역시 for 반복문을 이용해서 작성했던 1부터 10까지의 합을 구하는 프로그램을 `while` 반복문을 이용해서 작성해보자.\n",
    "\n",
    "우선 합산된 결과 값을 담아둘 `total`이라는 변수를 만들어서 0으로 초기화 한다 (처음에는 더한 것이 없으므로 결과 값이 0이 된다). 1, 2, 3, ..., 10에 대한 숫자를 증가시켜가며 합에 더해줘야 하므로, `i`라는 변수를 만들어서 처음에 1로 초기화 한다. 그런 후에 `i` 변수의 값을 `total`에 더하고 `i`를 1씩 증가시킨다. 이렇게 1을 증가시키고 더하는 것을 반복해야 한다. 단 반복을 진행하기 전에 `i`의 값이 10보다 작거나 같은 경우인지를 확인하고 조건이 만족될 때에만 반복하고, 조건이 만족되지 못할 때엔 클 때에는 중지한다. 아래는 이와 같은 과정으로 작성된 코드를 보인다."
   ]
  },
  {
   "cell_type": "code",
   "execution_count": 102,
   "metadata": {
    "slideshow": {
     "slide_type": "subslide"
    }
   },
   "outputs": [
    {
     "name": "stdout",
     "output_type": "stream",
     "text": [
      "55\n"
     ]
    }
   ],
   "source": [
    "total = 0\n",
    "i = 1\n",
    "while i < 11:\n",
    "\ttotal = total + i\n",
    "\ti = i + 1\n",
    "print(total)"
   ]
  },
  {
   "cell_type": "markdown",
   "metadata": {
    "slideshow": {
     "slide_type": "subslide"
    }
   },
   "source": [
    "for문과 while문을 서로 비교하자. **for 문**은 counter가 하나씩 증가하여 이를 그대로 사용하지만, **while 문**은 끝나는 조건을 가지고 있어서 그 조건에 맞추어 counter를 증가시킨다."
   ]
  },
  {
   "cell_type": "code",
   "execution_count": 27,
   "metadata": {},
   "outputs": [
    {
     "name": "stdout",
     "output_type": "stream",
     "text": [
      "5050\n"
     ]
    }
   ],
   "source": [
    "total=0\n",
    "for i in range(0,101):\n",
    "    total+=i\n",
    "print(total)"
   ]
  },
  {
   "cell_type": "markdown",
   "metadata": {
    "slideshow": {
     "slide_type": "subslide"
    }
   },
   "source": [
    "range() 함수 대신에 **수의 집합**을 사용해 보자. 괄호의 모양에 따라 다른 의미가 있다는 것에 유의하자.\n",
    "\n",
    "**()는 튜플 tuples, []는 리스트 lists**이라고 한다. 모두 값을 여러개 저장해 놓는 저장소라고 이해하자."
   ]
  },
  {
   "cell_type": "code",
   "execution_count": 6,
   "metadata": {
    "slideshow": {
     "slide_type": "-"
    }
   },
   "outputs": [
    {
     "name": "stdout",
     "output_type": "stream",
     "text": [
      "Today is warm\n",
      "Today is sunny\n",
      "Today is beautiful\n"
     ]
    }
   ],
   "source": [
    "for word in ('warm','sunny','beautiful'):\n",
    "   print('Today is %s' % word)"
   ]
  },
  {
   "cell_type": "markdown",
   "metadata": {
    "slideshow": {
     "slide_type": "subslide"
    }
   },
   "source": [
    "enumerate() 함수를 사용하면 **카운터 인덱스**를 추가로 활용할 수 있다."
   ]
  },
  {
   "cell_type": "code",
   "execution_count": 7,
   "metadata": {
    "slideshow": {
     "slide_type": "-"
    }
   },
   "outputs": [
    {
     "name": "stdout",
     "output_type": "stream",
     "text": [
      "0 warm\n",
      "1 sunny\n",
      "2 beautiful\n"
     ]
    }
   ],
   "source": [
    "words=['warm','sunny','beautiful']\n",
    "for index, item in enumerate(words):\n",
    "   print(index, item)"
   ]
  },
  {
   "cell_type": "markdown",
   "metadata": {
    "slideshow": {
     "slide_type": "subslide"
    }
   },
   "source": [
    "Python은 **간단명료한 문법**으로 유명하다. 사람들은 이런 파이썬식의 문법을 **Pythonic**이하고 한다.\n",
    "아래는 for문과 실행문을 한 줄로 줄여쓰고 있다. 처음에는 이런 짧아진 명령문이 어색할 수 있겠지만 차츰 명료해졌다는 것에 익숙해질 것이다."
   ]
  },
  {
   "cell_type": "code",
   "execution_count": 31,
   "metadata": {},
   "outputs": [
    {
     "name": "stdout",
     "output_type": "stream",
     "text": [
      "[1, 2, 3, 4, 5]\n"
     ]
    }
   ],
   "source": [
    "print([x for x in [1, 2, 3, 4, 5]])"
   ]
  },
  {
   "cell_type": "markdown",
   "metadata": {
    "slideshow": {
     "slide_type": "subslide"
    }
   },
   "source": [
    "pythonic 표현으로 제곱의 합계를 구해보자."
   ]
  },
  {
   "cell_type": "code",
   "execution_count": 103,
   "metadata": {
    "scrolled": true,
    "slideshow": {
     "slide_type": "-"
    }
   },
   "outputs": [
    {
     "name": "stdout",
     "output_type": "stream",
     "text": [
      "55\n"
     ]
    }
   ],
   "source": [
    "# sum of square\n",
    "print(sum([x*x for x in [1, 2, 3, 4, 5]]))"
   ]
  },
  {
   "cell_type": "code",
   "execution_count": null,
   "metadata": {},
   "outputs": [],
   "source": [
    "간혹 타입 오류가 나는 경우를 본다. 오류를 막으려면 수를 정수로 타입을 맞추어서 사용한다.\n",
    "int() 함수는 정수로 형변환을 하여 준다."
   ]
  },
  {
   "cell_type": "code",
   "execution_count": 104,
   "metadata": {
    "scrolled": true,
    "slideshow": {
     "slide_type": "-"
    }
   },
   "outputs": [
    {
     "name": "stdout",
     "output_type": "stream",
     "text": [
      "55\n"
     ]
    }
   ],
   "source": [
    "# sum of square\n",
    "print(sum(int(x*x) for x in [1, 2, 3, 4, 5]))"
   ]
  },
  {
   "cell_type": "markdown",
   "metadata": {
    "slideshow": {
     "slide_type": "subslide"
    }
   },
   "source": [
    "#### 문제\n",
    "\n",
    "10부터 200까지의 수 가운데 짝수만을 더하고, 평균을 구해보자.\n",
    "range()에서 만들어지는 수를 사용하여 풀어보자.\n"
   ]
  },
  {
   "cell_type": "markdown",
   "metadata": {
    "slideshow": {
     "slide_type": "subslide"
    }
   },
   "source": [
    "### 1.6.3 if 문\n",
    "\n",
    "단순 조건문은 프로그래밍에 있어서 기초이지만, 반대로 다양한 경우로 발전하련 유용한 조각이기도 하다. 예를 들어, 우리가 방에 들어갔을 때(조건) 전등을 켜준다(처리 작업)거나 방에 사람이 아무도 없는 것이 파악되면 (조건) 전등을 끈다거나(처리 작업), 일정 무게를 넘치면(조건) 짐을 좀 덜어야 한다(처리 작업)는 것같이 다양한 조건에 맞는 적합한 작업의 처리가 가능해진다. 여기서는 좀 더 다양한 형태의 `if`문을 살펴볼 것이다. 먼저 `if`문의 문법에 대해서 살펴보자.\n",
    "\n",
    "```python\n",
    "if 조건식1:\n",
    "\t명령문들1\n",
    "```\n",
    "\n",
    "`조건식1`은 파이썬에서 사용하는 조건 표현식이다. `명령문들1`은 최소한 한 줄 이상의 파이썬 코드(조건문이나 반복문, 함수 호출 포함 가능함) 로 구성되어 있고 '블록'이라 부른다. 반복문과 비슷하게 들여쓰기를 하도록 되어 있고, 조건이 만족되면 블록안에 있는 코드가 순차적으로 실행된다. \n"
   ]
  },
  {
   "cell_type": "markdown",
   "metadata": {
    "slideshow": {
     "slide_type": "subslide"
    }
   },
   "source": [
    "#### 집합으로 이해하는 if-else문\n",
    "\n",
    "만약 앞에서 본 코드처럼 2번 검사하지 않고 한 번만 하려면 if-else를 사용한다. if-else는 조건이 오전-오후와 같이 서로 **배타적 사건**에 적합하다. 만약 사용자 입력문자가 'ㄱ' 또는 'ㄴ'자만 가능하다면 두 번 구별하는 것은 불필요하다고 하겠다. 'ㄱ'자가 아니면 당연히 'ㄴ'자를 입력했다는 것을 알 수 있으니까 굳이 다시 확인하지 않아도 되는 것이다.  이렇게 조건이 상호배타적일 경우 조건을 충족할 때와 그렇지 않을 때로 해야 할 일을 지정하는 구문이  `if-else`문이다. \n",
    "\n",
    "동전을 던지면 앞면이나 뒷면이 나온다. 나오는 면에 따라서 공부할지 놀 지를 정하는 경우를 생각해보자. 명령문이 아닌 말로 표현하면 아래와 같다. \n",
    "\n",
    "```python\n",
    "앞면이면 공부하기\n",
    "뒷면이면 놀기\n",
    "```\n",
    "\n",
    "이 것을 `if`문을 사용해서 표현하면 아래이다.\n",
    "\n",
    "```python\n",
    "if 앞면:\n",
    "    공부하기\n",
    "if 뒷면:\n",
    "    놀기\n",
    "```\n",
    "\n",
    "앞서 말한 것처럼 두 가지 경우만 있고, 동전 앞면 아니면 당연히 뒷면이라면 `if`문을 두 번 사용하지 않는다. 조건 횟수가 늘어날수록 비효율적이다. 물론, 극히 드문 경우이나 동전 직립도 가능하지만 여기서는 고려하지 않기로 한다. 동전을 던지는 상호배타적 집합을 파이썬에서 표현하면 아래와 비슷할 것이다. \n",
    "\n",
    "```python\n",
    "if 앞면:\n",
    "    공부하기\n",
    "else:\n",
    "    놀기\n",
    "```"
   ]
  },
  {
   "cell_type": "code",
   "execution_count": 82,
   "metadata": {
    "slideshow": {
     "slide_type": "subslide"
    }
   },
   "outputs": [
    {
     "name": "stdout",
     "output_type": "stream",
     "text": [
      "a is neither 1 nor 2\n"
     ]
    }
   ],
   "source": [
    "a=3\n",
    "if a==1:\n",
    "   print('a=1')\n",
    "elif a==2:\n",
    "   print('a=2')\n",
    "else:\n",
    "   print('a is neither 1 nor 2')"
   ]
  },
  {
   "cell_type": "code",
   "execution_count": 84,
   "metadata": {
    "slideshow": {
     "slide_type": "subslide"
    }
   },
   "outputs": [
    {
     "name": "stdout",
     "output_type": "stream",
     "text": [
      "Your BMI is 22.79\n",
      "정상체중\n"
     ]
    }
   ],
   "source": [
    "height=1.74\n",
    "weight=69\n",
    "bmi = float(weight /( height * height) )\n",
    "print('Your BMI is %.2f' % bmi)\n",
    "if bmi <= 18.5:\n",
    "    print('저체중')\n",
    "elif bmi >= 18.5 and bmi < 23:\n",
    "    print('정상체중')\n",
    "elif bmi >= 23 and bmi < 25:\n",
    "    print('위험체중')\n",
    "elif bmi >= 25 and bmi < 30:\n",
    "    print(\"비만 1단계\")\n",
    "elif bmi >= 30 and bmi < 40:\n",
    "    print(\"비만 2단계\")\n",
    "elif bmi >= 40:\n",
    "    print(\"비만 3단계\")\n",
    "else:\n",
    "    print(\"오류\")"
   ]
  },
  {
   "cell_type": "markdown",
   "metadata": {
    "slideshow": {
     "slide_type": "subslide"
    }
   },
   "source": [
    "#### 문제\n",
    "\n",
    "자신의 점수가 국어 85, 영어 77, 수학 95이라고 하자.\n",
    "세 과목의 평균을 구하고 학점을 구해보자."
   ]
  },
  {
   "cell_type": "markdown",
   "metadata": {
    "slideshow": {
     "slide_type": "subslide"
    }
   },
   "source": [
    "#### 복합 조건 표현식\n",
    "\n",
    "2개 이상의 조건을 결합시켜 전체에 대해 True 또는 False 를 판단하는 경우가 있다. 이를 복합 조건 표현식이라고 한다. 두 개 이상의 조건 표현식을 결합시킬 때 사용하는 것이 바로 **논리 연산자**이다.논리 연산자는 이미 수학 과정에서 접해본 경우들이 있을 수 있어서 상대적으로 이해가 쉬울 수도 있다. 프로그래밍에서 가장 흔하게 사용하는 논리 연산자는 and, or, not 일 것이다. 일부 프로그래밍 언어에서는 xor 같은 연산들을 지원하는 경우도 있지만, 파이썬에서는 세 가지만 지원한다. 아래는 각 연산자에 대한 설명이다.\n",
    "\n",
    "| 연산자  | 피 연산자 개수 | 설명                                       |\n",
    "| ---- | -------- | ---------------------------------------- |\n",
    "| not  | 1        | 피 연산자의 논리 값을 반대로 바꿈. True를 False로 전환. False를 True로 바꿈 |\n",
    "| and  | 2        | 논리 곱 연산. 양쪽 피 연산자의 값이 True일 때만 결과 값이 True가 됨. 그 외의 모든 경우에는 False가 결과 값이 됨 |\n",
    "| or   | 2        | 논리 합 연산. 양쪽 피 연산자의 값이 False 일 때만 결과 값이 False가 됨. 그 외의 모든 경우에는 True가 결과 값이 됨 |"
   ]
  },
  {
   "cell_type": "code",
   "execution_count": 4,
   "metadata": {
    "slideshow": {
     "slide_type": "subslide"
    }
   },
   "outputs": [
    {
     "name": "stdout",
     "output_type": "stream",
     "text": [
      "사람 2가 이겼습니다.\n"
     ]
    }
   ],
   "source": [
    "person1 = \"가위\"\n",
    "person2 = \"바위\"\n",
    "if person1 == \"가위\" and person2 == \"가위\":\n",
    "  print(\"무승부\")\n",
    "elif person1 == \"가위\" and person2 == \"바위\":\n",
    "  print(\"사람 2가 이겼습니다.\")\n",
    "elif person1 == \"가위\" and person2 == \"보\":\n",
    "  print(\"사람 1이 이겼습니다.\")\n",
    "elif person1 == \"바위\" and person2 == \"가위\":\n",
    "  print(\"사람 1이 이겼습니다.\")\n",
    "elif person1 == \"바위\" and person2 == \"바위\":\n",
    "  print(\"무승부\")\n",
    "elif person1 == \"바위\" and person2 == \"보\":\n",
    "  print(\"사람 2가 이겼습니다.\")\n",
    "elif person1 == \"보\" and person2 == \"가위\":\n",
    "  print(\"사람 2가 이겼습니다.\")\n",
    "elif person1 == \"보\" and person2 == \"바위\":\n",
    "  print(\"사람 1이 이겼습니다.\")\n",
    "elif person1 == \"보\" and person2 == \"보\":\n",
    "  print(\"무승부\")"
   ]
  },
  {
   "cell_type": "markdown",
   "metadata": {
    "slideshow": {
     "slide_type": "subslide"
    }
   },
   "source": [
    "#### 문제\n",
    "\n",
    "사용자로부터 온도를 먼저 입력 받고, 추가로 '화씨' 또는 '섭씨'를 입력 받는다. 사용자가 \"화씨\"를 입력하면 온도를 화씨에서 섭씨로 변환한다. 만약 \"섭씨\"가 입력되었으면 온도를 섭씨에서 화씨로 변환한다. \n",
    "\n",
    "화씨온도를 섭씨온도로 변환하는 공식은\n",
    "\t섭씨온도 = (화씨온도 - 32) / 1.8 \n",
    "섭씨온도를 화씨온도로 변환하는 공식은\n",
    "\t화씨온도 = (섭씨온도 * 1.8) + 32"
   ]
  },
  {
   "cell_type": "code",
   "execution_count": 85,
   "metadata": {},
   "outputs": [
    {
     "name": "stdout",
     "output_type": "stream",
     "text": [
      "25.5F를 변환하면 -3.61입니다\n"
     ]
    }
   ],
   "source": [
    "sel = 'F'\n",
    "temperature = 25.5\n",
    "if sel=='F':\n",
    "    res=(temperature-32)*(5/9.0)\n",
    "elif sel=='C':\n",
    "    res=temperature*(9.0/5.0)+32\n",
    "else:\n",
    "    print(\"선택은 F또는 C이어야 합니다.\")\n",
    "print(\"{0:.1f}{1:s}를 변환하면 {2:.2f}입니다\".format(temperature,sel,res))"
   ]
  },
  {
   "cell_type": "markdown",
   "metadata": {
    "slideshow": {
     "slide_type": "subslide"
    }
   },
   "source": [
    "## 1.7 Containers\n",
    "\n",
    "Python의 데이터 저장소는 다음과 같다.\n",
    "\n",
    "- 튜플 tuples: 불변(immutable)한 자료구조로, 데이터가 한 번 생성되면 변경할 수 없다.\n",
    "- 리스트 list: 가변(mutable)한 자료구조로, 데이터 생성 후에도 요소를 변경할 수 있다.\n",
    "- set: 어떤 데이터를 이미 가지고 있으면, 똑 같은 중복을 가지지 못한다.\n",
    "- dictionaries: key value의 조합으로 이루어진다.\n",
    "\n"
   ]
  },
  {
   "cell_type": "markdown",
   "metadata": {
    "slideshow": {
     "slide_type": "subslide"
    }
   },
   "source": [
    "### 1.7.1 List\n",
    "\n",
    "containers는 그 안에 여러 값을 저장할 수 있기 때문에 그렇게 명명된다.\n",
    "containers의 한 종류로서 **리스트**를 만들어 보자.\n",
    "리스트는 변수명을 정하기만 해서는 안된다.\n",
    "그러나 이렇게 해서는 아무 것도 할 수 없다.\n",
    "예를 들어, my를 다음과 같이 만들게 되면 **오류**가 난다.\n",
    "그 이유를 설명해 보면, **my라고 하면 저장되어 있는 값을 불러오게 되는데 저장된 값이 없으므로 오류**가 나게 되는 것이다."
   ]
  },
  {
   "cell_type": "code",
   "execution_count": 17,
   "metadata": {
    "scrolled": true
   },
   "outputs": [
    {
     "ename": "NameError",
     "evalue": "name 'my' is not defined",
     "output_type": "error",
     "traceback": [
      "\u001b[0;31m---------------------------------------------------------------------------\u001b[0m",
      "\u001b[0;31mNameError\u001b[0m                                 Traceback (most recent call last)",
      "\u001b[0;32m<ipython-input-17-b32c81461c58>\u001b[0m in \u001b[0;36m<module>\u001b[0;34m()\u001b[0m\n\u001b[0;32m----> 1\u001b[0;31m \u001b[0mmy\u001b[0m\u001b[0;34m\u001b[0m\u001b[0m\n\u001b[0m",
      "\u001b[0;31mNameError\u001b[0m: name 'my' is not defined"
     ]
    }
   ],
   "source": [
    "my"
   ]
  },
  {
   "cell_type": "markdown",
   "metadata": {
    "slideshow": {
     "slide_type": "subslide"
    }
   },
   "source": [
    "그렇다면 my를 리스트로 만들려면 어떻게 해야 할까?\n",
    "첫 번째 방법은 my를 리스트로 선언해야 한다."
   ]
  },
  {
   "cell_type": "code",
   "execution_count": 18,
   "metadata": {},
   "outputs": [],
   "source": [
    "my = list()"
   ]
  },
  {
   "cell_type": "markdown",
   "metadata": {
    "slideshow": {
     "slide_type": "subslide"
    }
   },
   "source": [
    "또는 my를 만드는 시점에 값을 넣어야 한다."
   ]
  },
  {
   "cell_type": "code",
   "execution_count": 19,
   "metadata": {},
   "outputs": [],
   "source": [
    "my=[10,20,30]"
   ]
  },
  {
   "cell_type": "markdown",
   "metadata": {
    "slideshow": {
     "slide_type": "subslide"
    }
   },
   "source": [
    "리스트가 앞서 변수와 다른 점은 값을 **하나만 저장하지 않는다**는 점이다.\n",
    "myList에 1,2,3,4,5 여러 숫자를 저장해 놓자."
   ]
  },
  {
   "cell_type": "code",
   "execution_count": 86,
   "metadata": {},
   "outputs": [
    {
     "name": "stdout",
     "output_type": "stream",
     "text": [
      "<class 'list'>\n",
      "myList:  [1, 2, 3, 4, 5]\n"
     ]
    }
   ],
   "source": [
    "# containers\n",
    "myList=[1,2,3,4,5]\n",
    "print(type(myList))\n",
    "print(\"myList: \", myList)"
   ]
  },
  {
   "cell_type": "markdown",
   "metadata": {
    "slideshow": {
     "slide_type": "subslide"
    }
   },
   "source": [
    "리스트는 인덱스로 값을 불러올 수 있다.\n",
    "단 주의할 점은 최초 값은 1이 아니라 0이다."
   ]
  },
  {
   "cell_type": "code",
   "execution_count": 87,
   "metadata": {},
   "outputs": [
    {
     "name": "stdout",
     "output_type": "stream",
     "text": [
      "3\n",
      "5\n",
      "[3, 4]\n",
      "[4, 5]\n",
      "[1, 2, 3]\n",
      "[1, 3, 5]\n"
     ]
    }
   ],
   "source": [
    "print(myList[2])      #3번째\n",
    "print(myList[-1])     #마지막\n",
    "print(myList[2:4])    #3째 ~ 4째 (마지막 인덱스는 제외)\n",
    "print(myList[3:])     #4째 이후 모든 값\n",
    "print(myList[:3])     #처음부터 3째까지\n",
    "print(myList[::2])    #처음부터 끝까지, 하나씩 건너서"
   ]
  },
  {
   "cell_type": "markdown",
   "metadata": {
    "slideshow": {
     "slide_type": "subslide"
    }
   },
   "source": [
    "리스트는 값을 불러 쓸 수 있을 뿐만 아니라, 있는 값을 갱신할 수도 있다."
   ]
  },
  {
   "cell_type": "code",
   "execution_count": 88,
   "metadata": {},
   "outputs": [
    {
     "name": "stdout",
     "output_type": "stream",
     "text": [
      "[28, 2, 3, 4, 5]\n"
     ]
    }
   ],
   "source": [
    "# lists are mutable\n",
    "myList[0]=28\n",
    "print(myList)"
   ]
  },
  {
   "cell_type": "markdown",
   "metadata": {
    "slideshow": {
     "slide_type": "subslide"
    }
   },
   "source": [
    "myList에는 숫자만 저장되어 있다.\n",
    "그런데 'hello'라는 문자열을 저장하면 어떻게 될까?\n",
    "앞서 변수에서 보았던 것과 같이 숫자, 문자 모두 넣을 수 있다. 즉, 혼합타입이 가능하다.\n",
    "비유를 하면, **호랑이만 있는 우리에 사슴을 넣는 격**이다.\n",
    "컴파일 언어에서는 이렇게 하면 안되는 일이지만, Python에서는 **타입을 느슨하게 적용**하므로 상관없다."
   ]
  },
  {
   "cell_type": "code",
   "execution_count": 89,
   "metadata": {},
   "outputs": [
    {
     "name": "stdout",
     "output_type": "stream",
     "text": [
      "['hello', 2, 3, 4, 5]\n"
     ]
    }
   ],
   "source": [
    "# list may have different types\n",
    "myList[0]='hello'\n",
    "print(myList)"
   ]
  },
  {
   "cell_type": "markdown",
   "metadata": {
    "slideshow": {
     "slide_type": "subslide"
    }
   },
   "source": [
    "값을 추가해보자."
   ]
  },
  {
   "cell_type": "code",
   "execution_count": 90,
   "metadata": {},
   "outputs": [
    {
     "name": "stdout",
     "output_type": "stream",
     "text": [
      "['hello', 2, 3, 4, 5, 10]\n"
     ]
    }
   ],
   "source": [
    "myList.append(10)\n",
    "print(myList)"
   ]
  },
  {
   "cell_type": "markdown",
   "metadata": {
    "slideshow": {
     "slide_type": "subslide"
    }
   },
   "source": [
    "myListd에서 값을 삭제해 보자. pop() 함수는 순서대로 넣어진 데이터로부터 마지막 값을 꺼내 버린다."
   ]
  },
  {
   "cell_type": "code",
   "execution_count": 91,
   "metadata": {},
   "outputs": [
    {
     "name": "stdout",
     "output_type": "stream",
     "text": [
      "10\n",
      "['hello', 2, 3, 4, 5]\n"
     ]
    }
   ],
   "source": [
    "print(myList.pop())\n",
    "print(myList)"
   ]
  },
  {
   "cell_type": "markdown",
   "metadata": {
    "slideshow": {
     "slide_type": "subslide"
    }
   },
   "source": [
    "또는 리스트에서 일부 값을 꺼내 새로운 리스트를 생성해보자."
   ]
  },
  {
   "cell_type": "code",
   "execution_count": 24,
   "metadata": {},
   "outputs": [
    {
     "name": "stdout",
     "output_type": "stream",
     "text": [
      "[3, 4, 5]\n"
     ]
    }
   ],
   "source": [
    "my=myList[2:5]\n",
    "print(my)"
   ]
  },
  {
   "cell_type": "markdown",
   "metadata": {
    "slideshow": {
     "slide_type": "subslide"
    }
   },
   "source": [
    "두개의 리스트를 묶어서 처리할 경우에는, zip() 함수를 사용한다."
   ]
  },
  {
   "cell_type": "code",
   "execution_count": 93,
   "metadata": {
    "scrolled": true
   },
   "outputs": [
    {
     "name": "stdout",
     "output_type": "stream",
     "text": [
      "<zip object at 0x000002877EC4D740>\n",
      "[(1, 4), (2, 5), (3, 6)]\n"
     ]
    }
   ],
   "source": [
    "my2=zip([1,2,3],[4,5,6])\n",
    "print(my2)\n",
    "print(list(my2))"
   ]
  },
  {
   "cell_type": "markdown",
   "metadata": {
    "slideshow": {
     "slide_type": "subslide"
    }
   },
   "source": [
    "#### 문제 English, Math의 평균/합계를 구하기.\n",
    "\n",
    "English, Math 점수 평균과 합계를 계산해 보자.\n",
    "이 문제는 데이터타입을 이해해야 풀 수 있는 문제이다.\n",
    "\n",
    "```python\n",
    "names  subjects scores\n",
    "김하나 English 100\n",
    "김하나 Math 80\n",
    "임하나 English 70\n",
    "임하나 Math 100\n",
    "김갑돌 English 82.3\n",
    "김갑돌 Math 98.5\n",
    "```"
   ]
  },
  {
   "cell_type": "markdown",
   "metadata": {
    "slideshow": {
     "slide_type": "subslide"
    }
   },
   "source": [
    "먼저 데이터를 만들어 보자. 데이터를 만들 때는 데이터타입을 감안해서 문자, 숫자인지 살펴본다.\n",
    "문자에는 따옴표를 붙여야 한다\n",
    "숫자는 정수 또는 소수인지 살펴보아야 한다.\n",
    "데이터는 서로 컴마를 넣어 구분한다."
   ]
  },
  {
   "cell_type": "code",
   "execution_count": 49,
   "metadata": {},
   "outputs": [],
   "source": [
    "marks=[\n",
    "    [ 'names', 'subjects','scores'],\n",
    "    ['김하나','English', 100],\n",
    "    ['김하나','Math', 80],\n",
    "    ['임하나','English', 70],\n",
    "    ['임하나','Math', 100],\n",
    "    ['김갑돌','English', 82.3],\n",
    "    ['김갑돌','Math', 98.5]\n",
    "]"
   ]
  },
  {
   "cell_type": "markdown",
   "metadata": {
    "slideshow": {
     "slide_type": "subslide"
    }
   },
   "source": [
    "합계 또는 평균을 구하기 전에 데이터를 올바르게 읽을 수 있는지 확인한다."
   ]
  },
  {
   "cell_type": "code",
   "execution_count": 50,
   "metadata": {},
   "outputs": [
    {
     "name": "stdout",
     "output_type": "stream",
     "text": [
      "['names', 'subjects', 'scores']\n",
      "['김하나', 'English', 100]\n",
      "['김하나', 'Math', 80]\n",
      "['임하나', 'English', 70]\n",
      "['임하나', 'Math', 100]\n",
      "['김갑돌', 'English', 82.3]\n",
      "['김갑돌', 'Math', 98.5]\n"
     ]
    }
   ],
   "source": [
    "for row in marks:\n",
    "    print(row)"
   ]
  },
  {
   "cell_type": "markdown",
   "metadata": {
    "slideshow": {
     "slide_type": "subslide"
    }
   },
   "source": [
    "데이터의 맨 윗 행은 데이터명이고 실제 연산에서는 쓰이지 않기 때문에 제거한다.\n",
    "제거하려면 데이터의 인덱스를 0을 제거하고, 1부터 복사해서 쓰면 된다.\n",
    "```python\n",
    "marks=marks[1:]\n",
    "```"
   ]
  },
  {
   "cell_type": "code",
   "execution_count": 51,
   "metadata": {},
   "outputs": [
    {
     "name": "stdout",
     "output_type": "stream",
     "text": [
      "['김하나', 'English', 100]\n",
      "['김하나', 'Math', 80]\n",
      "['임하나', 'English', 70]\n",
      "['임하나', 'Math', 100]\n",
      "['김갑돌', 'English', 82.3]\n",
      "['김갑돌', 'Math', 98.5]\n"
     ]
    }
   ],
   "source": [
    "marks=marks[1:]\n",
    "for row in marks:\n",
    "    print(row)"
   ]
  },
  {
   "cell_type": "markdown",
   "metadata": {
    "slideshow": {
     "slide_type": "subslide"
    }
   },
   "source": [
    "데이터를 항목별로 구분해 본다.\n",
    "데이터는 3개 항목으로 되어 있으므로, 각 각 row[0], row[1], row[2]이라고 name, subject, scores를 의미한다."
   ]
  },
  {
   "cell_type": "code",
   "execution_count": 52,
   "metadata": {},
   "outputs": [
    {
     "name": "stdout",
     "output_type": "stream",
     "text": [
      "김하나 Math 80\n",
      "임하나 English 70\n",
      "임하나 Math 100\n",
      "김갑돌 English 82.3\n",
      "김갑돌 Math 98.5\n"
     ]
    }
   ],
   "source": [
    "marks=marks[1:]\n",
    "for row in marks:\n",
    "    print(row[0],row[1],row[2])"
   ]
  },
  {
   "cell_type": "markdown",
   "metadata": {
    "slideshow": {
     "slide_type": "subslide"
    }
   },
   "source": [
    "그럼 이제 전체 프로그램을 완성해 보자."
   ]
  },
  {
   "cell_type": "code",
   "execution_count": 53,
   "metadata": {},
   "outputs": [
    {
     "name": "stdout",
     "output_type": "stream",
     "text": [
      "278.5 152.3\n",
      "92.83333333333333 76.15\n"
     ]
    }
   ],
   "source": [
    "englishSum=0\n",
    "mathSum=0\n",
    "englishCount=0\n",
    "mathCount=0\n",
    "for row in marks:\n",
    "    subj = row[1]\n",
    "    mark = float(row[2])\n",
    "    if subj==\"English\":\n",
    "        englishSum+=mark\n",
    "        englishCount+=1\n",
    "    elif subj==\"Math\":\n",
    "        mathSum+=mark\n",
    "        mathCount+=1\n",
    "    else:\n",
    "        pass\n",
    "print(mathSum,englishSum)\n",
    "print(float(mathSum/mathCount),float(englishSum/englishCount))"
   ]
  },
  {
   "cell_type": "markdown",
   "metadata": {
    "slideshow": {
     "slide_type": "subslide"
    }
   },
   "source": [
    "소수점이 불편하다면, 출력양식을 맞추어 자리수를 제한해서 출력할 수 있다."
   ]
  },
  {
   "cell_type": "code",
   "execution_count": 54,
   "metadata": {},
   "outputs": [
    {
     "name": "stdout",
     "output_type": "stream",
     "text": [
      "Math: 92.8 English: 76.15\n"
     ]
    }
   ],
   "source": [
    "print(\"Math: %.1f English: %.2f\" % (float(mathSum/mathCount),float(englishSum/englishCount)))"
   ]
  },
  {
   "cell_type": "markdown",
   "metadata": {
    "slideshow": {
     "slide_type": "subslide"
    }
   },
   "source": [
    "### 1.7.2 Dictionary\n",
    "\n",
    "Dictionary는 말 그대로 사전을 연상하면 이해하기 쉽다.\n",
    "우리가 사용하는 사전에서 단어를 찾으면 의미가 씌여져 있다.\n",
    "이런 경우, 단어는 '키'로, 의미는 '값'으로 바꿔 이해하자.\n",
    "즉, dictionary는 **키:값의 쌍**으로 구성하여 저장한다.\n",
    "사전에서와 같이 키는 유일무이 값이다. **모든 키는 어떤 값을 찾는 열쇠와 같아서 똑 같아서는 안된다**.\n"
   ]
  },
  {
   "cell_type": "code",
   "execution_count": 56,
   "metadata": {},
   "outputs": [
    {
     "name": "stdout",
     "output_type": "stream",
     "text": [
      "{'jsl': 'G405', 'bigData': 'G307'}\n"
     ]
    }
   ],
   "source": [
    "# Dictionary of hash table\n",
    "room={'jsl':\"G405\", 'bigData':\"G307\"}\n",
    "print(room)"
   ]
  },
  {
   "cell_type": "code",
   "execution_count": 57,
   "metadata": {},
   "outputs": [
    {
     "name": "stdout",
     "output_type": "stream",
     "text": [
      "dict_values(['G405', 'G307'])\n",
      "dict_keys(['jsl', 'bigData'])\n"
     ]
    }
   ],
   "source": [
    "print(room.values())\n",
    "print(room.keys())"
   ]
  },
  {
   "cell_type": "code",
   "execution_count": 58,
   "metadata": {
    "scrolled": true
   },
   "outputs": [
    {
     "name": "stdout",
     "output_type": "stream",
     "text": [
      "jsl room:  G405\n"
     ]
    }
   ],
   "source": [
    "print(\"jsl room: \",room['jsl'])"
   ]
  },
  {
   "cell_type": "markdown",
   "metadata": {
    "slideshow": {
     "slide_type": "subslide"
    }
   },
   "source": [
    "- setdefault(k,v)\n",
    "\n",
    "존재하지 않는 키를 사용하면 오류가 발생한다. 오류를 방지하려면 setdefault()함수를 사용한다.\n",
    "\n",
    "**setdefault(key, value)**는 키에 대해 기본 값을 주는 함수이다. 없는 키를 사용하면 그 키와 값을 입력한다.\n",
    "아래 myDict는 menu, price 두 개의 키를 가지고 있다.\n",
    "여기에 vegi 키를 추가해 보자. **vegi 키만 추가하면 값이 없어서 오류가 발생**하게 되나, **setdefault()는 값을 None**으로 비워놓게 된다."
   ]
  },
  {
   "cell_type": "code",
   "execution_count": 59,
   "metadata": {},
   "outputs": [
    {
     "name": "stdout",
     "output_type": "stream",
     "text": [
      "{'menu': 'Noodle', 'price': 5000}\n"
     ]
    }
   ],
   "source": [
    "# %load todel.py\n",
    "myDict = {'menu': 'Noodle', 'price': 5000}\n",
    "print(myDict)"
   ]
  },
  {
   "cell_type": "code",
   "execution_count": 60,
   "metadata": {},
   "outputs": [
    {
     "name": "stdout",
     "output_type": "stream",
     "text": [
      "{'menu': 'Noodle', 'price': 5000, 'vegi': None}\n"
     ]
    }
   ],
   "source": [
    "myDict.setdefault('vegi')\n",
    "print(myDict)"
   ]
  },
  {
   "cell_type": "markdown",
   "metadata": {
    "slideshow": {
     "slide_type": "subslide"
    }
   },
   "source": [
    "키에 대한 값을 입력할 수 있다."
   ]
  },
  {
   "cell_type": "code",
   "execution_count": 62,
   "metadata": {},
   "outputs": [
    {
     "name": "stdout",
     "output_type": "stream",
     "text": [
      "{'menu': 'Noodle', 'price': 5000, 'vegi': None, 'breakfast': 'yes'}\n"
     ]
    }
   ],
   "source": [
    "myDict.setdefault('breakfast', 'yes')\n",
    "print(myDict)"
   ]
  },
  {
   "cell_type": "markdown",
   "metadata": {
    "slideshow": {
     "slide_type": "subslide"
    }
   },
   "source": [
    "- defaultdict은 특별한 dictionary\n",
    "\n",
    "파이썬의 dictionary는 키가 없는 경우 문제가 될 수 있다.\n",
    "**존재하지 않는 키**를 사용하는 경우 당연히 **오류**가 나는 것이다.\n",
    "\n",
    "defaultdict은 없는 key에 대해 오류를 일으키지 않는다.\n",
    "defaultdict() 안의 **괄호에 타입 또는 함수**를 넣어서 기본 값을 가지도록 한다."
   ]
  },
  {
   "cell_type": "code",
   "execution_count": 63,
   "metadata": {},
   "outputs": [
    {
     "name": "stdout",
     "output_type": "stream",
     "text": [
      "int defaultdict: defaultdict(<class 'int'>, {'a': 10, 'b': 12, 'c': 13})\n"
     ]
    }
   ],
   "source": [
    "from collections import defaultdict\n",
    "\n",
    "# 기본 값을 정수 또는 리스트로 정한다.\n",
    "myDictInt = defaultdict(int)\n",
    "d_int = defaultdict(int, a=10, b=12, c=13)\n",
    "print(\"int defaultdict:\",d_int)"
   ]
  },
  {
   "cell_type": "markdown",
   "metadata": {
    "slideshow": {
     "slide_type": "subslide"
    }
   },
   "source": [
    "defaultdict() 괄호 안에 함수를 적는 예이다.\n",
    "\n",
    "default_factory는 defaultdict가 새로운 키에 대한 값을 자동으로 생성할 때 사용하는 함수 또는 클래스를 의미한다."
   ]
  },
  {
   "cell_type": "code",
   "execution_count": 118,
   "metadata": {},
   "outputs": [
    {
     "name": "stdout",
     "output_type": "stream",
     "text": [
      "<class 'int'>\n"
     ]
    }
   ],
   "source": [
    "myDictList = defaultdict(list)\n",
    "print(myDictInt.default_factory) # 자동으로 생성할 경우 사용하는 클래스를 출력"
   ]
  },
  {
   "cell_type": "code",
   "execution_count": 119,
   "metadata": {},
   "outputs": [
    {
     "name": "stdout",
     "output_type": "stream",
     "text": [
      "<function foo at 0x000002877F42AE50>\n",
      "Korea\n",
      "Foreign\n",
      "defaultdict(<function foo at 0x000002877F42AE50>, {'key1': 'Korea', 'key2': 'Foreign'})\n"
     ]
    }
   ],
   "source": [
    "def foo():\n",
    "     return 'Korea'\n",
    "d_foo = defaultdict(foo) # default_factory 함수를 정의\n",
    "\n",
    "print(d_foo.default_factory)\n",
    "\n",
    "print(d_foo['key1'])  # # 딕셔너리에 없는 키 'key1'는 'default value' 출력\n",
    "\n",
    "d_foo['key2'] = 'Foreign'\n",
    "print(d_foo['key2'])  # 'Foreign' 출력\n",
    "\n",
    "print(d_foo)  # 여전히 defaultdict(<function foo at 0x...>, {'key1': 'Korea', 'key2': 'Foreign'})"
   ]
  },
  {
   "cell_type": "code",
   "execution_count": 66,
   "metadata": {
    "slideshow": {
     "slide_type": "subslide"
    }
   },
   "outputs": [
    {
     "name": "stdout",
     "output_type": "stream",
     "text": [
      "<class 'int'>\n",
      "dict_items([('m', 1), ('i', 4), ('s', 4), ('p', 2)])\n",
      "defaultdict(<class 'int'>, {'m': 1, 'i': 4, 's': 4, 'p': 2})\n"
     ]
    }
   ],
   "source": [
    "from collections import defaultdict\n",
    "\n",
    "s = 'mississippi'\n",
    "d = defaultdict(int)\n",
    "print(d.default_factory)\n",
    "for k in s:\n",
    "     d[k] += 1\n",
    "print(d.items())\n",
    "print(d)"
   ]
  },
  {
   "cell_type": "code",
   "execution_count": 67,
   "metadata": {
    "slideshow": {
     "slide_type": "subslide"
    }
   },
   "outputs": [
    {
     "name": "stdout",
     "output_type": "stream",
     "text": [
      "defaultdict(<class 'int'>, {'This': 1, 'is': 2, 'really': 2, 'fun!.': 1, 'Programming': 1, 'a': 1, 'fun': 1, 'and': 1, 'I': 1, 'enjoy': 1, 'it.': 1})\n"
     ]
    }
   ],
   "source": [
    "# use the 'int' factory for counting words\n",
    "myDictInt=defaultdict(int)\n",
    "sentence=\"This is really fun!. Programming is a fun and I really enjoy it.\"\n",
    "for word in sentence.split():\n",
    "    myDictInt[word]+=1\n",
    "print(myDictInt)"
   ]
  },
  {
   "cell_type": "code",
   "execution_count": 68,
   "metadata": {
    "slideshow": {
     "slide_type": "subslide"
    }
   },
   "outputs": [
    {
     "name": "stdout",
     "output_type": "stream",
     "text": [
      "<class 'list'>\n",
      "dict_items([('yellow', [1, 3]), ('blue', [2, 4]), ('red', [1])])\n",
      "defaultdict(<class 'list'>, {'yellow': [1, 3], 'blue': [2, 4], 'red': [1]})\n"
     ]
    }
   ],
   "source": [
    "s = [('yellow', 1), ('blue', 2), ('yellow', 3), ('blue', 4), ('red', 1)]\n",
    "d = defaultdict(list)\n",
    "print(d.default_factory)\n",
    "for k, v in s:\n",
    "     d[k].append(v)\n",
    "print(d.items())\n",
    "print(d)"
   ]
  },
  {
   "cell_type": "code",
   "execution_count": 70,
   "metadata": {
    "slideshow": {
     "slide_type": "subslide"
    }
   },
   "outputs": [
    {
     "name": "stdout",
     "output_type": "stream",
     "text": [
      "key:a value:1\n",
      "key:b value:1.2\n",
      "key:c value:2\n"
     ]
    }
   ],
   "source": [
    "# iterator\n",
    "d={'a':1,'b':1.2,'c':2}\n",
    "for key,val in d.items():\n",
    "   print('key:%s value:%s' % (key,val))"
   ]
  },
  {
   "cell_type": "markdown",
   "metadata": {
    "slideshow": {
     "slide_type": "subslide"
    }
   },
   "source": [
    "## 1.8 함수\n",
    "\n",
    "###  함수란?\n",
    "여러 작업 과정을 처리하는 코드를 묶어서 마치 한 개의 묶음인 것처럼 할 수 있는데, 이를 서브루틴(Subroutine), 프로시듀어 (Procedure) 또는 함수 (Function) 등으로 부른다. 이처럼 여러 단계의 코드를 묶어 놓은 것을 \"함수\"라고 부르고, 사용할 때는 \"함수를 호출\"하게 된다."
   ]
  },
  {
   "cell_type": "markdown",
   "metadata": {
    "slideshow": {
     "slide_type": "subslide"
    }
   },
   "source": [
    "### 프로그래밍의 함수와 수학 함수를 비교하기\n",
    "수학에서 배웠던 함수를 기억하는가? 수학에서 함수를 쓸 때 일반적으로 y = f(x)라는 형태로 표현하였다. 수학에서는 함수를 x라는 입력과 y라는 출력이 있는 형태로 설명하였다. 특히 수학에서는 특정 입력이 들어가면 반드시 그에 대응하는 특정 출력이 사상(mapping) 되는 형태로 설명하였다."
   ]
  },
  {
   "cell_type": "markdown",
   "metadata": {
    "slideshow": {
     "slide_type": "subslide"
    }
   },
   "source": [
    "아래 함수는 x를 입력하면, 주어진 입력 값에 1을 더해서 출력하는 예를 설명한다. \n",
    "\n",
    "수학 함수의 예  | 프로그래밍으로 전환한 함수                           | 설명\n",
    "--------- | ---------------------------------------- | ---------------------------------\n",
    "y=f(x)    | <code>y = f(x)</code>                    | 함수 f(x)의 결과를 y에 저장한다.             \n",
    "f(x)= x+1 | <pre><code>def f(x):<br>&nbsp;&nbsp;xnew=x + 1 <br>&nbsp;&nbsp;return xnew</code></pre> | 함수 f는 x를 주면 x에 1을 더한 값을 결과로 돌려준다.\n"
   ]
  },
  {
   "cell_type": "markdown",
   "metadata": {
    "slideshow": {
     "slide_type": "subslide"
    }
   },
   "source": [
    "파이썬에서는 함수를 작성할 때 문법을 지켜야 한다.\n",
    "```python\n",
    "def 함수명(입력):\n",
    "들여쓰기\n",
    "```"
   ]
  },
  {
   "cell_type": "code",
   "execution_count": 71,
   "metadata": {
    "slideshow": {
     "slide_type": "subslide"
    }
   },
   "outputs": [],
   "source": [
    "def f(x):\n",
    "    xnew=x + 1\n",
    "    return xnew"
   ]
  },
  {
   "cell_type": "code",
   "execution_count": 72,
   "metadata": {
    "slideshow": {
     "slide_type": "-"
    }
   },
   "outputs": [
    {
     "name": "stdout",
     "output_type": "stream",
     "text": [
      "2\n"
     ]
    }
   ],
   "source": [
    "y=f(1)\n",
    "print(y)"
   ]
  },
  {
   "cell_type": "markdown",
   "metadata": {
    "slideshow": {
     "slide_type": "subslide"
    }
   },
   "source": [
    "### 함수의 종류\n",
    "\n",
    "단 파이썬에서는 함수를 구현할 때:\n",
    "* 입력은 괄호안에 넣는다.\n",
    "* 출력은 'return'을 사용한다.\n",
    "\n",
    "구분 | 함수 모양 | 설명\n",
    "-----|-----|-----\n",
    "입력과 출력이 모두 없는 함수 | 함수이름() | myPrint()\n",
    "입력은 있고, 출력이 없는 경우 | 함수이름(입력값) | myPrint(name)\n",
    "입력은 있고, 출력이 없는 경우 | 함수이름(입력값1, 입력값2, ..., 입력값n) | \n",
    "입력은 없고 출력만 있는 경우 | 변수 = 함수이름() | 함수를 호출할 때 전달되는 값들은 없지만, 결과 값을 받아서 변수에 저장했다가 추후에 계속 사용\n",
    "입력과 출력이 모두 있는 경우 | 변수 = 함수이름(입력값) | f(x) = x + 1, 한 개의 입력, x, 를 받아서 그 값에 1을 더한 값을 결과 값으로 반환하는 함수\n",
    "입력과 출력이 모두 있는 경우 | 변수 = 함수이름(입력값1, 입력값2, ..., 입력값n) | add(1,2), 입력 2개를 받아서 더 한 값을 출력"
   ]
  },
  {
   "cell_type": "code",
   "execution_count": 73,
   "metadata": {
    "slideshow": {
     "slide_type": "subslide"
    }
   },
   "outputs": [
    {
     "name": "stdout",
     "output_type": "stream",
     "text": [
      "Hello\n"
     ]
    }
   ],
   "source": [
    "def myPrint():\n",
    "    print(\"Hello\")\n",
    "myPrint()"
   ]
  },
  {
   "cell_type": "code",
   "execution_count": 74,
   "metadata": {
    "slideshow": {
     "slide_type": "subslide"
    }
   },
   "outputs": [
    {
     "name": "stdout",
     "output_type": "stream",
     "text": [
      "Hello, jsl\n"
     ]
    }
   ],
   "source": [
    "def myPrint2(name):\n",
    "    print(\"Hello,\", name)\n",
    "myPrint2(\"jsl\")"
   ]
  },
  {
   "cell_type": "code",
   "execution_count": 75,
   "metadata": {
    "slideshow": {
     "slide_type": "subslide"
    }
   },
   "outputs": [
    {
     "name": "stdout",
     "output_type": "stream",
     "text": [
      "Hello, jsl in Seoul\n"
     ]
    }
   ],
   "source": [
    "def myPrint3(name, city):\n",
    "    print(\"Hello,\", name, \"in\", city)\n",
    "myPrint3(\"jsl\", \"Seoul\")"
   ]
  },
  {
   "cell_type": "code",
   "execution_count": 76,
   "metadata": {
    "slideshow": {
     "slide_type": "subslide"
    }
   },
   "outputs": [
    {
     "name": "stdout",
     "output_type": "stream",
     "text": [
      "78.5\n"
     ]
    }
   ],
   "source": [
    "def getCircleArea():\n",
    "   return 3.14*5*5\n",
    "\n",
    "area=getCircleArea()\n",
    "print(area)"
   ]
  },
  {
   "cell_type": "code",
   "execution_count": 13,
   "metadata": {
    "slideshow": {
     "slide_type": "subslide"
    }
   },
   "outputs": [
    {
     "name": "stdout",
     "output_type": "stream",
     "text": [
      "7.0649999999999995\n"
     ]
    }
   ],
   "source": [
    "def getCircleArea(radius):\n",
    "   return 3.14*radius*radius\n",
    "\n",
    "print(getCircleArea(1.5))"
   ]
  },
  {
   "cell_type": "code",
   "execution_count": 15,
   "metadata": {
    "slideshow": {
     "slide_type": "subslide"
    }
   },
   "outputs": [
    {
     "name": "stdout",
     "output_type": "stream",
     "text": [
      "7.0649999999999995\n",
      "면적: 7.06\n"
     ]
    }
   ],
   "source": [
    "area=getCircleArea(1.5)\n",
    "print(area)\n",
    "print(f\"면적: {area:.2f}\") # f-string 출력"
   ]
  },
  {
   "cell_type": "code",
   "execution_count": 13,
   "metadata": {
    "slideshow": {
     "slide_type": "subslide"
    }
   },
   "outputs": [
    {
     "name": "stdout",
     "output_type": "stream",
     "text": [
      "4\n",
      "4\n",
      "6\n"
     ]
    }
   ],
   "source": [
    "# optional parameters\n",
    "def double_it(x=2):\n",
    "   return x*2\n",
    "print(double_it())\n",
    "print(double_it(2))\n",
    "print(double_it(3))"
   ]
  },
  {
   "cell_type": "markdown",
   "metadata": {
    "slideshow": {
     "slide_type": "subslide"
    }
   },
   "source": [
    "앞서 온도변환 문제를 이번에는 함수로 만들어 풀어보자."
   ]
  },
  {
   "cell_type": "code",
   "execution_count": 2,
   "metadata": {},
   "outputs": [
    {
     "name": "stdout",
     "output_type": "stream",
     "text": [
      "25.5F --> -3.61\n"
     ]
    }
   ],
   "source": [
    "sel = 'F'\n",
    "temperature = 25.5\n",
    "\n",
    "def convertTemperature(sel,temperature):\n",
    "    res=0.0\n",
    "    if sel=='F':\n",
    "        res=(temperature-32)*(5/9.0)\n",
    "    elif sel=='C':\n",
    "        res=temperature*(9.0/5.0)+32\n",
    "    else:\n",
    "        print(\"Error: Enter either F or C!\")\n",
    "    print(\"{0:.1f}{1:s} --> {2:.2f}\".format(temperature,sel,res))\n",
    "    return res\n",
    "\n",
    "result=convertTemperature(sel,temperature)"
   ]
  },
  {
   "cell_type": "markdown",
   "metadata": {},
   "source": [
    "## 1.9 print \n",
    "\n",
    "### % 형식지정자 방식\n",
    "\n",
    "% 연산자를 사용하여 문자열 내에 변수를 삽입하는 방식입니다. Python 2 시절부터 사용되었고, 현재도 지원되지만 최신 방식은 아니다.\n",
    "\n",
    "%s는 문자열, %d는 정수, %f는 실수를 입력할 때 사용하며, 여러 변수를 사용할 때, 괄호로 묶어서 사용한다."
   ]
  },
  {
   "cell_type": "code",
   "execution_count": 5,
   "metadata": {},
   "outputs": [
    {
     "name": "stdout",
     "output_type": "stream",
     "text": [
      "온도 25.5 F --> -3.61\n"
     ]
    }
   ],
   "source": [
    "print(\"온도 %.1f %s --> %.2f\" % (temperature,sel,result))"
   ]
  },
  {
   "cell_type": "markdown",
   "metadata": {},
   "source": [
    "### format 방식\n",
    "\n",
    "print의 format() 방식은 Python 2.7과 Python 3에서 사용 가능한 문자열 포맷팅 방법이고, f-string이 등장하기 전까지는 가장 널리 사용되던 방식이다.\n"
   ]
  },
  {
   "cell_type": "code",
   "execution_count": 4,
   "metadata": {},
   "outputs": [
    {
     "name": "stdout",
     "output_type": "stream",
     "text": [
      "25.5F --> -3.61\n"
     ]
    }
   ],
   "source": [
    "print(\"{0:.1f}{1:s} --> {2:.2f}\".format(temperature,sel,result))"
   ]
  },
  {
   "cell_type": "markdown",
   "metadata": {},
   "source": [
    "### f-string 방식\n",
    "Python 3.6부터 도입된 방법으로, f-string 포맷 문자열은 더 직관적이고 가독성이 좋다.\n",
    "\n",
    "변수를 중괄호 {} 안에 직접 입력할 수 있어서 편리하다."
   ]
  },
  {
   "cell_type": "code",
   "execution_count": 6,
   "metadata": {},
   "outputs": [
    {
     "name": "stdout",
     "output_type": "stream",
     "text": [
      "25.5F --> -3.61\n"
     ]
    }
   ],
   "source": [
    "print(f\"{temperature:.1f}{sel:s} --> {result:.2f}\")"
   ]
  },
  {
   "cell_type": "markdown",
   "metadata": {
    "slideshow": {
     "slide_type": "subslide"
    }
   },
   "source": [
    "## 1.10 파일\n",
    "\n",
    "파일은 저장매체이며, 내용을 손쉽게 저장하는 방법으로 많이 사용된다. 우리가 작성하고 있는 프로그램을 포함해서, 문서, 음악, 그림, 동영상, 사진 모두 파일이다. 이 모든 파일은 (1) 저장 경로와 (2) 파일 이름이 있어야 한다."
   ]
  },
  {
   "cell_type": "markdown",
   "metadata": {
    "slideshow": {
     "slide_type": "subslide"
    }
   },
   "source": [
    "### 저장경로와 파일명\n",
    "\n",
    "파일은 외부저장매체에 내용을 저장하고, 그 저장매체 주소를 가리키는 파일명을 사용한다.\n",
    "* 상대경로는 현재 작업하고 있는 디렉토리를 기준으로 경로를 정한다.\n",
    "    * 점을 사용하여 현재디렉토리 (.) 또는 현재디렉토리의 상위 디렉토리 (..)를 표현한다.\n",
    "    * 다음은 현재디렉토리의 'python.txt' 파일을 말한다.\n",
    "```\n",
    "./python.txt\n",
    "```\n",
    "\n",
    "* 절대경로는 모든 경로를 표시한다. 윈도우는 드라이브부터, 리눅스는 루트부터 적는다.\n",
    "\n",
    "구분 | 예제 | 설명\n",
    "-----|-----|-----\n",
    "절대 경로 | 윈도우 C:/User/Documents/foo.py<br>리눅스 /home/user/Documents/foo.py | 절대경로를 사용하여 파일경로 정한다.\n",
    "상대 경로 | ./foo.py | 현재 디렉토리를 기준으로 파일경로를 정한다.\n"
   ]
  },
  {
   "cell_type": "code",
   "execution_count": 19,
   "metadata": {
    "slideshow": {
     "slide_type": "subslide"
    }
   },
   "outputs": [
    {
     "name": "stdout",
     "output_type": "stream",
     "text": [
      "C:\\Users\\admin\\Code\\git\\bb\\jsl\\pyds\\python.txt\n"
     ]
    }
   ],
   "source": [
    "import os\n",
    "mydir=os.getcwd()\n",
    "filename='python.txt'\n",
    "myfilename=os.path.join(mydir,filename)\n",
    "print(myfilename)"
   ]
  },
  {
   "cell_type": "markdown",
   "metadata": {
    "slideshow": {
     "slide_type": "subslide"
    }
   },
   "source": [
    "### 파일 읽기\n",
    "\n",
    "파일에 한글을 적어보자. 파일을 작성하고 나서는, 앞서 배운 파일 읽기를 해보자. 또는 문서편집기를 사용해서 파일 내용을 확인해 본다."
   ]
  },
  {
   "cell_type": "code",
   "execution_count": 20,
   "metadata": {
    "slideshow": {
     "slide_type": "-"
    }
   },
   "outputs": [],
   "source": [
    "hangul=\"\"\"\n",
    "파이썬[1](Python)은 1991년[2] 프로그래머인 귀도 반 로섬(Guido van Rossum)[3] 이 발표한 고급 프로그래밍 언어로,\n",
    "플랫폼 독립적이며 인터프리터식, 객체지향적, 동적 타이핑(dynamically typed) 대화형 언어이다.\n",
    "파이썬이라는 이름은 귀도가 좋아하는 코미디 〈Monty Python's Flying Circus〉에서 따온 것이다.\n",
    "파이썬은 비영리의 파이썬 소프트웨어 재단이 관리하는 개방형, 공동체 기반 개발 모델을 가지고 있다.\n",
    "C언어로 구현된 C파이썬 구현이 사실상의 표준이다.\n",
    "\"\"\"\n",
    "\n",
    "fout=open('pywikikorean.txt','w')\n",
    "for line in hangul:\n",
    "    fout.write(line)\n",
    "fout.close()"
   ]
  },
  {
   "cell_type": "code",
   "execution_count": 22,
   "metadata": {
    "scrolled": true,
    "slideshow": {
     "slide_type": "subslide"
    }
   },
   "outputs": [
    {
     "name": "stdout",
     "output_type": "stream",
     "text": [
      "\n",
      "\n",
      "파이썬[1](Python)은 1991년[2] 프로그래머인 귀도 반 로섬(Guido van Rossum)[3] 이 발표한 고급 프로그래밍 언어로,\n",
      "\n",
      "플랫폼 독립적이며 인터프리터식, 객체지향적, 동적 타이핑(dynamically typed) 대화형 언어이다.\n",
      "\n",
      "파이썬이라는 이름은 귀도가 좋아하는 코미디 〈Monty Python's Flying Circus〉에서 따온 것이다.\n",
      "\n",
      "파이썬은 비영리의 파이썬 소프트웨어 재단이 관리하는 개방형, 공동체 기반 개발 모델을 가지고 있다.\n",
      "\n",
      "C언어로 구현된 C파이썬 구현이 사실상의 표준이다.\n",
      "\n"
     ]
    }
   ],
   "source": [
    "fin=open('pywikikorean.txt')\n",
    "for line in fin:\n",
    "    print(line,)\n",
    "fin.close()"
   ]
  },
  {
   "cell_type": "markdown",
   "metadata": {
    "slideshow": {
     "slide_type": "slide"
    }
   },
   "source": [
    "## 1.11 recursion\n",
    "\n",
    "재귀 recursive 함수는 종료조건이 있어야 한다.\n",
    "* 종료조건에 도달하기 전까지는 재귀함수를 반복 호출하게 된다.\n",
    "* 종료조건에 도달하면 return을 하고 그 값으로 재귀함수가 사용된 다음 부분이 반복 실행된다."
   ]
  },
  {
   "cell_type": "markdown",
   "metadata": {
    "collapsed": true,
    "jupyter": {
     "outputs_hidden": true
    },
    "slideshow": {
     "slide_type": "subslide"
    }
   },
   "source": [
    "printSymbol() 함수는 별표를 출력하는 간단한 함수이다."
   ]
  },
  {
   "cell_type": "code",
   "execution_count": 23,
   "metadata": {},
   "outputs": [],
   "source": [
    "def printSymbol(n,symbol=\"*\"):\n",
    "    print(symbol*n)"
   ]
  },
  {
   "cell_type": "markdown",
   "metadata": {
    "slideshow": {
     "slide_type": "subslide"
    }
   },
   "source": [
    "재귀함수를 만들어 보자.\n",
    "재귀함수는 n부터 시작해서, **n에서 하나씩 빼서 자신을 재귀적으로 호출**하고 있다. \n",
    "\n",
    "함수 | 설명\n",
    "-----|-----\n",
    "rPrintBefore() |재귀함수를 호출하기 전 별표를 n만큼 출력한다. 종료조건 n==0이 되는 경우, 함수에서 return으로 재귀호출이 멈춘다.\n",
    "rPrintAfter() | 재귀함수를 호출하고 별표를 n만큼 출력한다. 종료조건 n==0이 되는 경우, 함수에서 return되면 미처 실행되지 못했던 printSymbol()이 역순서로 차례 차례 호출된다."
   ]
  },
  {
   "cell_type": "code",
   "execution_count": 24,
   "metadata": {},
   "outputs": [],
   "source": [
    "def rPrintBefore(n):\n",
    "    if n==0:\n",
    "        return 1\n",
    "    printSymbol(n)\n",
    "    rPrintBefore(n-1)\n",
    "\n",
    "def rPrintAfter(n):\n",
    "    if n==0:\n",
    "        return 1\n",
    "    rPrintAfter(n-1)\n",
    "    printSymbol(n)"
   ]
  },
  {
   "cell_type": "code",
   "execution_count": 25,
   "metadata": {},
   "outputs": [
    {
     "name": "stdout",
     "output_type": "stream",
     "text": [
      "*****\n",
      "****\n",
      "***\n",
      "**\n",
      "*\n"
     ]
    }
   ],
   "source": [
    "rPrintBefore(5)"
   ]
  },
  {
   "cell_type": "code",
   "execution_count": 26,
   "metadata": {
    "slideshow": {
     "slide_type": "-"
    }
   },
   "outputs": [
    {
     "name": "stdout",
     "output_type": "stream",
     "text": [
      "*\n",
      "**\n",
      "***\n",
      "****\n",
      "*****\n"
     ]
    }
   ],
   "source": [
    "rPrintAfter(5)"
   ]
  },
  {
   "cell_type": "markdown",
   "metadata": {
    "slideshow": {
     "slide_type": "subslide"
    }
   },
   "source": [
    "factorial 문제를 풀어보자.\n",
    "factorial은 하나씩 빼면서 1까지 연산을 반복적으로 해야 하기 때문에 재귀함수로 만들어 풀기에 적합하다."
   ]
  },
  {
   "cell_type": "code",
   "execution_count": 27,
   "metadata": {},
   "outputs": [
    {
     "name": "stdout",
     "output_type": "stream",
     "text": [
      "120\n"
     ]
    }
   ],
   "source": [
    "def factorial(n):\n",
    "    if n==1:\n",
    "        return 1\n",
    "    return n*factorial(n-1)\n",
    "\n",
    "res=factorial(5)\n",
    "print(res)"
   ]
  },
  {
   "cell_type": "markdown",
   "metadata": {
    "slideshow": {
     "slide_type": "subslide"
    }
   },
   "source": [
    "위 재귀함수에 출력문을 넣어서 어떻게 호출이 되는지 살펴보자.\n",
    "\n",
    "줄 | 설명\n",
    "-----|-----\n",
    "1 | 함수 호출마다 'call', 인자 n이 출력된다.\n",
    "2~3 | n==1 조건이 되면 return, 즉 재귀호출이 종료한다.\n",
    "4 | 재귀호출\n",
    "5 | 결과값 res가 출력\n",
    "6 | 결과값 res를 반환"
   ]
  },
  {
   "cell_type": "code",
   "execution_count": 30,
   "metadata": {
    "slideshow": {
     "slide_type": "-"
    }
   },
   "outputs": [
    {
     "name": "stdout",
     "output_type": "stream",
     "text": [
      "call 5\n",
      "call 4\n",
      "call 3\n",
      "call 2\n",
      "call 1\n",
      "result: 2\n",
      "result: 6\n",
      "result: 24\n",
      "result: 120\n",
      "120\n"
     ]
    }
   ],
   "source": [
    "def factorial(n):\n",
    "    print(\"call\", n)\n",
    "    if n==1:\n",
    "        return 1\n",
    "    res=n*factorial(n-1)\n",
    "    print(\"result:\",res)\n",
    "    return res\n",
    "\n",
    "res=factorial(5)\n",
    "print(res)"
   ]
  },
  {
   "cell_type": "markdown",
   "metadata": {
    "slideshow": {
     "slide_type": "subslide"
    }
   },
   "source": [
    "합계를 계산해보자."
   ]
  },
  {
   "cell_type": "code",
   "execution_count": 78,
   "metadata": {
    "slideshow": {
     "slide_type": "-"
    }
   },
   "outputs": [
    {
     "name": "stdout",
     "output_type": "stream",
     "text": [
      "call 10\n",
      "call 9\n",
      "call 8\n",
      "call 7\n",
      "call 6\n",
      "call 5\n",
      "call 4\n",
      "call 3\n",
      "call 2\n",
      "call 1\n",
      "result= 3\n",
      "result= 6\n",
      "result= 10\n",
      "result= 15\n",
      "result= 21\n",
      "result= 28\n",
      "result= 36\n",
      "result= 45\n",
      "result= 55\n",
      "55\n"
     ]
    }
   ],
   "source": [
    "def sumOf(n):\n",
    "    print(\"call\", n)\n",
    "    if n==1:\n",
    "        return 1\n",
    "    res=n+sumOf(n-1)\n",
    "    print(\"result=\",res)\n",
    "    return res\n",
    "\n",
    "res=sumOf(10)\n",
    "print(res)"
   ]
  },
  {
   "cell_type": "code",
   "execution_count": 32,
   "metadata": {
    "slideshow": {
     "slide_type": "subslide"
    }
   },
   "outputs": [
    {
     "name": "stdout",
     "output_type": "stream",
     "text": [
      "<< i=0 seq=range(1, 11)\n",
      "<< i=1 seq=range(1, 11)\n",
      "<< i=2 seq=range(1, 11)\n",
      "<< i=3 seq=range(1, 11)\n",
      "<< i=4 seq=range(1, 11)\n",
      "<< i=5 seq=range(1, 11)\n",
      "<< i=6 seq=range(1, 11)\n",
      "<< i=7 seq=range(1, 11)\n",
      "<< i=8 seq=range(1, 11)\n",
      "<< i=9 seq=range(1, 11)\n",
      "<< i=9 seq=range(1, 11) res=10\n",
      "<< i=8 seq=range(1, 11) res=19\n",
      "<< i=7 seq=range(1, 11) res=27\n",
      "<< i=6 seq=range(1, 11) res=34\n",
      "<< i=5 seq=range(1, 11) res=40\n",
      "<< i=4 seq=range(1, 11) res=45\n",
      "<< i=3 seq=range(1, 11) res=49\n",
      "<< i=2 seq=range(1, 11) res=52\n",
      "<< i=1 seq=range(1, 11) res=54\n",
      "<< i=0 seq=range(1, 11) res=55\n"
     ]
    },
    {
     "data": {
      "text/plain": [
       "55"
      ]
     },
     "execution_count": 32,
     "metadata": {},
     "output_type": "execute_result"
    }
   ],
   "source": [
    "def power(x,n):\n",
    "    if n==0:\n",
    "        return 1\n",
    "    else:\n",
    "        partial=power(x,n/2)\n",
    "        res=partial*partial\n",
    "    if n%2 ==1:\n",
    "        res*=x\n",
    "    print(\"x={0} n={1} res={2}\".format(x,n,res))\n",
    "    return res\n",
    "\n",
    "def S(seq,i=0):\n",
    "    if i==len(seq): return 0\n",
    "    print(\"<< i={0} seq={1}\".format(i,seq))\n",
    "    res=S(seq,i+1)+seq[i]\n",
    "    print(\"<< i={0} seq={1} res={2}\".format(i,seq,res))\n",
    "    return res\n",
    "\n",
    "seq=range(1,11)\n",
    "S(seq)"
   ]
  },
  {
   "cell_type": "code",
   "execution_count": 33,
   "metadata": {
    "slideshow": {
     "slide_type": "subslide"
    }
   },
   "outputs": [
    {
     "name": "stdout",
     "output_type": "stream",
     "text": [
      "<< i=0 seq=range(1, 11)\n",
      "<< i=1 seq=range(1, 11)\n",
      "<< i=2 seq=range(1, 11)\n",
      "<< i=3 seq=range(1, 11)\n",
      "<< i=4 seq=range(1, 11)\n",
      "<< i=5 seq=range(1, 11)\n",
      "<< i=6 seq=range(1, 11)\n",
      "<< i=7 seq=range(1, 11)\n",
      "<< i=8 seq=range(1, 11)\n",
      "<< i=9 seq=range(1, 11)\n",
      "<< i=9 seq=range(1, 11) res=10\n",
      "<< i=8 seq=range(1, 11) res=19\n",
      "<< i=7 seq=range(1, 11) res=27\n",
      "<< i=6 seq=range(1, 11) res=34\n",
      "<< i=5 seq=range(1, 11) res=40\n",
      "<< i=4 seq=range(1, 11) res=45\n",
      "<< i=3 seq=range(1, 11) res=49\n",
      "<< i=2 seq=range(1, 11) res=52\n",
      "<< i=1 seq=range(1, 11) res=54\n",
      "<< i=0 seq=range(1, 11) res=55\n"
     ]
    },
    {
     "data": {
      "text/plain": [
       "55"
      ]
     },
     "execution_count": 33,
     "metadata": {},
     "output_type": "execute_result"
    }
   ],
   "source": [
    "def power(x,n):\n",
    "    if n==0:\n",
    "        return 1\n",
    "    else:\n",
    "        partial=power(x,n/2)\n",
    "        res=partial*partial\n",
    "    if n%2 ==1:\n",
    "        res*=x\n",
    "    print(\"x={0} n={1} res={2}\".format(x,n,res))\n",
    "    return res\n",
    "\n",
    "def S(seq,i=0):\n",
    "    if i==len(seq): return 0\n",
    "    print(\"<< i={0} seq={1}\".format(i,seq))\n",
    "    res=S(seq,i+1)+seq[i]\n",
    "    print(\"<< i={0} seq={1} res={2}\".format(i,seq,res))\n",
    "    return res\n",
    "\n",
    "seq=range(1,11)\n",
    "S(seq)\n"
   ]
  },
  {
   "cell_type": "markdown",
   "metadata": {
    "slideshow": {
     "slide_type": "subslide"
    }
   },
   "source": [
    "* recursive함수에서 데이터 값을 사용할 경우 주의\n",
    "    * recursive함수에서는 보통 함수에서와 같이 데이터를 돌려주지 않으면, 사용할 수 없다.\n",
    "    * 아래에서 10을 출력할 것을 생각하지만, 결과는 6이 반환된다.\n",
    "\n",
    "```python\n",
    "add(5): x=6\n",
    "-> add(6)\n",
    "--> add(7)\n",
    "---> add(8)\n",
    "----> add(9)\n",
    "-----> add(10)\n",
    "------> return 11 to add(10)\n",
    "-----> return None to add(9)\n",
    "----> return None to add(8)\n",
    "---> return None to add(7)\n",
    "--> return None to add(6)\n",
    "-> return None to add(5)\n",
    "return 6\n",
    "```"
   ]
  },
  {
   "cell_type": "code",
   "execution_count": 35,
   "metadata": {
    "slideshow": {
     "slide_type": "subslide"
    }
   },
   "outputs": [
    {
     "name": "stdout",
     "output_type": "stream",
     "text": [
      "x: 6\n",
      "x: 7\n",
      "x: 8\n",
      "x: 9\n",
      "x: 10\n",
      "returned -> 6\n"
     ]
    }
   ],
   "source": [
    "def add(x): \n",
    "    x += 1 \n",
    "    print(\"x:\",x)\n",
    "    if x < 10: \n",
    "        add(x) \n",
    "    return x\n",
    "\n",
    "res=add(5)\n",
    "print(\"returned ->\",res)"
   ]
  },
  {
   "cell_type": "code",
   "execution_count": 36,
   "metadata": {
    "slideshow": {
     "slide_type": "subslide"
    }
   },
   "outputs": [
    {
     "name": "stdout",
     "output_type": "stream",
     "text": [
      "x: 6\n",
      "x: 7\n",
      "x: 8\n",
      "x: 9\n",
      "x: 10\n",
      "returned -> None\n"
     ]
    }
   ],
   "source": [
    "def add(x): \n",
    "    x += 1 \n",
    "    print(\"x:\",x) \n",
    "    if x < 10: \n",
    "        return add(x)\n",
    "\n",
    "res=add(5)\n",
    "print(\"returned ->\",res)"
   ]
  },
  {
   "cell_type": "code",
   "execution_count": 37,
   "metadata": {
    "slideshow": {
     "slide_type": "subslide"
    }
   },
   "outputs": [
    {
     "name": "stdout",
     "output_type": "stream",
     "text": [
      "x: 6\n",
      "x: 7\n",
      "x: 8\n",
      "x: 9\n",
      "x: 10\n",
      "returned -> 10\n"
     ]
    }
   ],
   "source": [
    "def add(x): \n",
    "    x += 1 \n",
    "    print(\"x:\",x) \n",
    "    if x < 10: \n",
    "        return add(x)\n",
    "    return x\n",
    "\n",
    "res=add(5)\n",
    "print(\"returned ->\",res)"
   ]
  },
  {
   "cell_type": "code",
   "execution_count": 38,
   "metadata": {
    "scrolled": true,
    "slideshow": {
     "slide_type": "subslide"
    }
   },
   "outputs": [
    {
     "name": "stdout",
     "output_type": "stream",
     "text": [
      "if depth: 3\n",
      "if depth: 2\n",
      "if depth: 1\n",
      "else depth: 0\n",
      "3\n"
     ]
    }
   ],
   "source": [
    "# else에서 0이 되면 값 0을 돌려주어야 하지만, 3을 돌려줌.\n",
    "def testDepth(depth):\n",
    "    if depth > 0:\n",
    "        print(\"if depth: {0}\".format(depth))\n",
    "        testDepth(depth - 1)\n",
    "        return depth\n",
    "    else:\n",
    "        print(\"else depth: {0}\".format(depth))\n",
    "        return depth\n",
    "\n",
    "res=testDepth(3)\n",
    "print(res)"
   ]
  },
  {
   "cell_type": "markdown",
   "metadata": {
    "collapsed": true,
    "jupyter": {
     "outputs_hidden": true
    },
    "slideshow": {
     "slide_type": "subslide"
    }
   },
   "source": [
    "- 이진 탐색\n",
    "\n",
    "몇 회에 맞추었는지 어떻게 알 수 있을까?"
   ]
  },
  {
   "cell_type": "markdown",
   "metadata": {
    "slideshow": {
     "slide_type": "subslide"
    }
   },
   "source": [
    "주의: mid-1 또는 mid+1 해주는 이유\n",
    "\n",
    "target < mid일 때 high = mid로 설정하거나, target > mid일 때 low = mid로 설정하면 문제가 발생할 수 있다.\n",
    "\n",
    "예를 들어, target = 5, low = 2, high = 20인 경우를 생각해봅시다:\n",
    "\n",
    "- 첫 번째 호출: low=2, high=20, mid=11 (대략 중간값)\n",
    "    목표값 5가 mid=11보다 작으므로, high = mid로 설정 -> 다음 호출은 low=2, high=11\n",
    "- 두 번째 호출: low=2, high=11, mid=6\n",
    "    목표값 5가 mid=6보다 작으므로, high = mid로 설정 -> 다음 호출은 low=2, high=6\n",
    "- 세 번째 호출: low=2, high=6, mid=4\n",
    "    목표값 5가 mid=4보다 크므로, low = mid로 설정 -> 다음 호출은 low=4, high=6\n",
    "- 네 번째 호출: low=4, high=6, mid=5\n",
    "\n",
    "이제부터 low와 high가 점점 좁혀지지 않고 계속해서 같은 범위를 반복하게 된다. mid는 계속해서 5로 계산되지만, target이 5가 아니면 무한 루프에 빠지게 된다."
   ]
  },
  {
   "cell_type": "code",
   "execution_count": 105,
   "metadata": {},
   "outputs": [
    {
     "name": "stdout",
     "output_type": "stream",
     "text": [
      "low=2, mid=11, high=20, round=0\n",
      "\t--> low <= target < mid --> mid becomes high\n",
      "low=2, mid=6, high=10, round=1\n",
      "\t--> low <= target < mid --> mid becomes high\n",
      "low=2, mid=3, high=5, round=2\n",
      "\t--> mid < target <= high --> mid becomes low\n",
      "low=4, mid=4, high=5, round=3\n",
      "\t--> mid < target <= high --> mid becomes low\n",
      "low=5, mid=5, high=5, round=4\n",
      "mid == target\n",
      "round = 4\n"
     ]
    },
    {
     "data": {
      "text/plain": [
       "4"
      ]
     },
     "execution_count": 105,
     "metadata": {},
     "output_type": "execute_result"
    }
   ],
   "source": [
    "def binary_search(target, low, high, n=0):\n",
    "    if low > high:  # 종료 조건\n",
    "        print(\"Target not found, out of range.\")\n",
    "        return -1  # 검색 실패 시 -1 반환\n",
    "\n",
    "    mid = (low + high) // 2  # 중간 정수값 계산\n",
    "    print(f\"low={low}, mid={mid}, high={high}, round={n}\")\n",
    "\n",
    "    if mid == target:  # 중간값이 타겟과 일치하는 경우\n",
    "        print(\"mid == target\")\n",
    "        print('round =', n)\n",
    "        return n\n",
    "    elif target < mid:  # 타겟이 중간값보다 작은 경우\n",
    "        print(\"\\t--> low <= target < mid --> mid becomes high\")\n",
    "        return binary_search(target, low, mid - 1, n + 1) # 무한루프막기 위해 범위 좁힘\n",
    "        #return binary_search(target, low, mid, n + 1)\n",
    "    else:  # 타겟이 중간값보다 큰 경우\n",
    "        print(\"\\t--> mid < target <= high --> mid becomes low\")\n",
    "        return binary_search(target, mid + 1, high, n + 1) # 무한루프막기 위해 범위 좁힘\n",
    "        #return binary_search(target, mid, high, n + 1)\n",
    "\n",
    "#binary_search(5, 2, 10)\n",
    "binary_search(5, 2, 20)"
   ]
  },
  {
   "cell_type": "markdown",
   "metadata": {
    "slideshow": {
     "slide_type": "slide"
    }
   },
   "source": [
    "## 1.12 lambda\n",
    "\n",
    "### 무명함수\n",
    "\n",
    "lambda는 **무명 함수**이다.\n",
    "lambda는 함수를 정의하는 명령어로서, 이름이 없다는 특징이 있다.\n",
    "lambda함수는 **한 줄의 코드**만을 가질 수 있어서 매우 간단하게 사용할 수 있다.\n",
    "\n",
    "\n",
    "### 인자와 반환\n",
    "인자는 보통 함수와 동일한 방식으로 넘겨줄 수 있다.\n",
    "처리 결과는 **'return'을 사용하지 않아도 반환**된다.\n",
    "즉, lambda함수는 입력 값만을 가지고 연산하여 그 결과를 return 없이 반환할 때 사용한다."
   ]
  },
  {
   "cell_type": "markdown",
   "metadata": {
    "slideshow": {
     "slide_type": "subslide"
    }
   },
   "source": [
    "### 단순한 lamba 만들기\n",
    "\n",
    "단순히 어떤 값을 제곱하는 기능을 lambda 함수로 만들어 보자.\n",
    "\n",
    "#### lambda 없이\n",
    "\n",
    "같은 기능을 lambda를 사용하지 않고, 기존 함수 방식으로 만들면 프로그램이 조금 더 늘어나게 된다"
   ]
  },
  {
   "cell_type": "code",
   "execution_count": 6,
   "metadata": {},
   "outputs": [
    {
     "name": "stdout",
     "output_type": "stream",
     "text": [
      "9\n"
     ]
    }
   ],
   "source": [
    "def f(x):\n",
    "    return x**2\n",
    "y=f(3)\n",
    "print(y)"
   ]
  },
  {
   "cell_type": "markdown",
   "metadata": {
    "slideshow": {
     "slide_type": "subslide"
    }
   },
   "source": [
    "#### lambda를 사용해서\n",
    "\n",
    "단순히 인자에 2를 곱하는 lamdba함수 'y'를 정의하면 다음과 같다. f(x)는 인자 x를 받아서. "
   ]
  },
  {
   "cell_type": "code",
   "execution_count": 5,
   "metadata": {},
   "outputs": [
    {
     "name": "stdout",
     "output_type": "stream",
     "text": [
      "9\n"
     ]
    }
   ],
   "source": [
    "y=lambda x:x**2\n",
    "print(y(3))"
   ]
  },
  {
   "cell_type": "markdown",
   "metadata": {
    "slideshow": {
     "slide_type": "subslide"
    }
   },
   "source": [
    "#### 여러 인자\n",
    "\n",
    "인자는 1개만 사용할 수 있지 않다. x,y 2개의 인자를 넘겨주고 합산을 해보자."
   ]
  },
  {
   "cell_type": "code",
   "execution_count": 79,
   "metadata": {
    "slideshow": {
     "slide_type": "-"
    }
   },
   "outputs": [
    {
     "name": "stdout",
     "output_type": "stream",
     "text": [
      "3\n"
     ]
    }
   ],
   "source": [
    "f=lambda x,y: x+y\n",
    "res=f(1,2)\n",
    "print(res)"
   ]
  },
  {
   "cell_type": "markdown",
   "metadata": {
    "slideshow": {
     "slide_type": "subslide"
    }
   },
   "source": [
    "### map-reduce에 많이 사용\n",
    "\n",
    "빅데이터를 분석하면서 lambda 함수는 map-reduce에서 자주 사용되므로 잘 이해해야 한다.\n",
    "다음에 배우는 Python map-reduce는 동시에 두 함수를 연결해서 처리하지 않는다.\n",
    "즉 map 결과를 산출하고, 이어서 reduce가 받아서 처리하는 식이다.\n",
    "이와 같이 여기서는 두 함수를 별도로 처리하고 빅데이터 분석에 특화된 Spark, Hadoop에서는 연결하여 병렬처리를 한다."
   ]
  },
  {
   "cell_type": "markdown",
   "metadata": {},
   "source": [
    "#### map 하지 않는 경우\n",
    "\n",
    "map함수는 입력데이터 하나 하나에 연산을 적용하게 된다. map 함수 자체는 결과를 바로 출력할 수 있는 리스트가 아닌, map 객체를 반환한다.\n",
    "\n",
    "섭씨 데이터를 하나씩 화씨로 변환하는 **c2f()**함수를 만들어 보자. 나중에 **map()함수를 적용하면 for문이 없어도** 가능하다."
   ]
  },
  {
   "cell_type": "code",
   "execution_count": 1,
   "metadata": {},
   "outputs": [
    {
     "name": "stdout",
     "output_type": "stream",
     "text": [
      "[102.56, 97.7, 99.14, 100.03999999999999]\n"
     ]
    }
   ],
   "source": [
    "def c2f(c):\n",
    "    f=list()\n",
    "    for i in c:\n",
    "        _f=(float(9)/5)*i + 32\n",
    "        f.append(_f)\n",
    "    return f\n",
    "\n",
    "print (c2f([39.2, 36.5, 37.3, 37.8]))"
   ]
  },
  {
   "cell_type": "markdown",
   "metadata": {},
   "source": [
    "- L1: 결과의 저장에 필요한 list\n",
    "- L3~5: 한 항목씩 읽어 **for문으로 처리하고, 리스트f를 만들어 반환**한다.\n",
    "- L5: 리스트에 항목 추가"
   ]
  },
  {
   "cell_type": "markdown",
   "metadata": {},
   "source": [
    "#### map() 함수\n",
    "\n",
    "Python은 map(), reduce(), filter() 함수를 이미 가지고 있다.\n",
    "Python map()을 사용해 보자. **for문이 사라진다**는 점에 유의한다.\n",
    "반복문이 코드에서 보이지 않지만, map() 내부에서는 실행된다는 점에 유의하자.\n",
    "**map() 함수의 인자는 2개** 이다.\n",
    "\n",
    "* (1) 첫째 인자는 **처리 함수**이고, **함수의 return은 반드시 있어야** 한다,\n",
    "* (2) 두 번째 인자는 **처리하려는 데이터**이다.\n",
    "\n",
    "함수 | 설명 | 예\n",
    "-------|-------|-------\n",
    "map() | 각 데이터 요소에 함수를 적용해서 list를 반환 | **map(fn,data)**\n",
    "filter() | 각 데이터 요소에 함수의 결과 True를 선택해서 반환 | **filter(fn, data)**\n",
    "reduce() | 각 데이터 요소에 함수를 적용해서 list를 반환 | **reduce(fn, data)**"
   ]
  },
  {
   "cell_type": "code",
   "execution_count": 8,
   "metadata": {},
   "outputs": [
    {
     "name": "stdout",
     "output_type": "stream",
     "text": [
      "[102.56, 97.7, 99.14, 100.03999999999999]\n"
     ]
    }
   ],
   "source": [
    "def c2f(c):\n",
    "    return (float(9)/5)*c + 32\n",
    "\n",
    "celsius = [39.2, 36.5, 37.3, 37.8]\n",
    "f=map(c2f, celcius)\n",
    "print (list(f))"
   ]
  },
  {
   "cell_type": "markdown",
   "metadata": {},
   "source": [
    "* map lambda 함수의 사용\n",
    "\n",
    "map-reduce 함수에서 자주 사용되므로 잘 이해해야 한다.\n",
    "\n",
    "lambda는 함수를 정의하는 명령어로서 무명 함수이므로 별도의 선언이 필요 없다.\n",
    "\n",
    "함수의 인자를 받아서, 한 줄의 표현식으로 처리하고, 그 결과는 **'return'을 사용하지 않아도 반환**된다. 이런 까닭에 줄 수가 줄어든다.\n",
    "\n",
    "```python\n",
    "lambda 함수인자 : 표현식\n",
    "```\n",
    "\n",
    "단순히 인자에 2를 곱하는 함수 코드가 있다고 하자.\n",
    "\n",
    "```\n",
    "def f(x):\n",
    "    return x * 2\n",
    "```\n",
    "\n",
    "이런 코드에 **lambda함수**를 적용해보자. lamdba함수 'y'를 정의하면 다음과 같다. 같은 기능을 lambda를 사용하지 않은 위 코드와 비교해보자."
   ]
  },
  {
   "cell_type": "code",
   "execution_count": 3,
   "metadata": {},
   "outputs": [
    {
     "name": "stdout",
     "output_type": "stream",
     "text": [
      "2\n"
     ]
    }
   ],
   "source": [
    "y = lambda x : x * 2\n",
    "\n",
    "print (y(1))"
   ]
  },
  {
   "cell_type": "markdown",
   "metadata": {},
   "source": [
    "또는 인자를 2개 가질 수도 있다.\n",
    "x, y인자를 받아 그 합산을 반환하는 lambda 함수이다."
   ]
  },
  {
   "cell_type": "code",
   "execution_count": 4,
   "metadata": {},
   "outputs": [
    {
     "name": "stdout",
     "output_type": "stream",
     "text": [
      "3\n"
     ]
    }
   ],
   "source": [
    "x = lambda x, y : x + y\n",
    "\n",
    "print(x(1, 2))"
   ]
  },
  {
   "cell_type": "markdown",
   "metadata": {},
   "source": [
    "map(lambda함수, 입력데이터) 이런 식으로 lambda를 map에 넣어서 적용해보자."
   ]
  },
  {
   "cell_type": "code",
   "execution_count": 9,
   "metadata": {},
   "outputs": [
    {
     "name": "stdout",
     "output_type": "stream",
     "text": [
      "[102.56, 97.7, 99.14, 100.03999999999999]\n"
     ]
    }
   ],
   "source": [
    "f=map(lambda c:(float(9)/5)*c + 32, celsius)\n",
    "\n",
    "print(list(f))"
   ]
  },
  {
   "cell_type": "markdown",
   "metadata": {},
   "source": [
    "문자열에 map()을 사용해 보자. 단어로 분리되기를 기대하지만, 철자로 분리되고 있다.\n",
    "\n",
    "```str.split(구분자)``` 함수에 구분자를 생략하면 whitespace로 분리한다. whitespace는 공백이나 탭 등의 기호를 말하는 것으로, 문장을 분리해서 단어로 분리할 경우에 사용한다."
   ]
  },
  {
   "cell_type": "code",
   "execution_count": 10,
   "metadata": {},
   "outputs": [
    {
     "data": {
      "text/plain": [
       "[['H'], ['e'], ['l'], ['l'], ['o'], [], ['W'], ['o'], ['r'], ['l'], ['d']]"
      ]
     },
     "execution_count": 10,
     "metadata": {},
     "output_type": "execute_result"
    }
   ],
   "source": [
    "list(map(lambda x:x.split(), \"Hello World\"))"
   ]
  },
  {
   "cell_type": "markdown",
   "metadata": {},
   "source": [
    "* L1: 문자열 \"Hello World\"의 하나씩 문자가 map으로 입력된다. 각 철자를 map()함수의 인자로 처리해서 split()한다. 기대했던 \"Hello\", \"World\"로 나누어지지 않는다. 단 \"Hello World\".split()은 단어로 분리해서 \"Hello\" \"World\"를 출력한다. 문자열 전체 \"Hello World\"가 입력되고, 단어로 분리되기 때문이다.\n",
    "\n",
    "이번에는 문자열의 리스트를 map해보자."
   ]
  },
  {
   "cell_type": "code",
   "execution_count": 11,
   "metadata": {},
   "outputs": [
    {
     "data": {
      "text/plain": [
       "[['Hello', 'World'], ['Good', 'Morining']]"
      ]
     },
     "execution_count": 11,
     "metadata": {},
     "output_type": "execute_result"
    }
   ],
   "source": [
    "sentence = [\"Hello World\", \"Good Morining\"]\n",
    "list(map(lambda x:x.split(), sentence))"
   ]
  },
  {
   "cell_type": "markdown",
   "metadata": {},
   "source": [
    "* L1: 리스트의 요소 하나씩 map을 하기 때문에. \"Hello World\".split()하므로 단어로 분리된다."
   ]
  },
  {
   "cell_type": "markdown",
   "metadata": {},
   "source": [
    "#### filter()\n",
    "\n",
    "filter는 조건에 맞는 데이터를 가려내는 기능이다.\n",
    "아래 예는 모듈러스 ```%```를 사용하여 2로 나누어 나머지가 있는, 즉 홀수를 가려내고 있다.\n",
    "\n",
    "filter()는 데이터를 선별한다."
   ]
  },
  {
   "cell_type": "code",
   "execution_count": 12,
   "metadata": {},
   "outputs": [
    {
     "name": "stdout",
     "output_type": "stream",
     "text": [
      "[1, 1, 3, 5, 13, 21, 55]\n"
     ]
    }
   ],
   "source": [
    "fib = [0,1,1,2,3,5,8,13,21,34,55]\n",
    "result = filter(lambda x: x % 2, fib)\n",
    "print (list(result))"
   ]
  },
  {
   "cell_type": "markdown",
   "metadata": {},
   "source": [
    "#### reduce()\n",
    "\n",
    "\n",
    "reduce(함수,값 집합)는 데이터를 넘겨주면 다음과 같이 reduce해서 연산하게 된다.\n",
    "\n",
    "```python\n",
    "1   2   3   4\n",
    " \\ /   /   /\n",
    "  3   /   /\n",
    "   \\ /   /\n",
    "    6   /\n",
    "     \\ /\n",
    "     10\n",
    "```\n",
    "\n",
    "lambda를 reduce함수와 결합하면 다음과 같다.\n",
    "\n",
    "reduce() 역시 **함수와 데이터 2개의 인자**를 받는다.\n",
    "\n",
    "데이터에 대해 함수를 반복적으로 적용하여 결과 값을 만들게 된다, 즉 [ func(func(s1, s2),s3), ... , sn) ]와 같이 수행한다.\n",
    "\n",
    "아래 예는 1부터 101까지 **두 수 x,y 인자를 반복해서 더한다**는 것이다. x는 부분합계로 y를 계속 저장해 나가는 역할을 하며, 최종 합계에 이르게 된다.\n",
    "\n",
    "단계 | x<p>부분 합계 | y | 함수적용\n",
    "-----|-----|-----|-----\n",
    "1 | 0 | 1 | func(0,1) <--- x는 초기화, y에는 첫번째 값 1을 넣는다\n",
    "2 | 1 | 2 | func(1,2) <-- func(0 + 1, 2) 연산을 수행하고 결과를 x의 값으로 사용하고, y는 다음 수 2를 가져온다.\n",
    "3 | 3 | 3 | func(3,3) <-- func(0 + 1 + 2, 3)\n",
    "4 | 6 | 4 | func(6,4) <-- func(0 + 1 + 2 + 3, 4)\n",
    "...|...|...|..."
   ]
  },
  {
   "cell_type": "code",
   "execution_count": 13,
   "metadata": {},
   "outputs": [
    {
     "data": {
      "text/plain": [
       "5050"
      ]
     },
     "execution_count": 13,
     "metadata": {},
     "output_type": "execute_result"
    }
   ],
   "source": [
    "from functools import reduce\n",
    "reduce(lambda x, y: x + y, range(1,101))"
   ]
  },
  {
   "cell_type": "code",
   "execution_count": null,
   "metadata": {},
   "outputs": [],
   "source": []
  },
  {
   "cell_type": "markdown",
   "metadata": {
    "slideshow": {
     "slide_type": "slide"
    }
   },
   "source": [
    "## 1.13 scripts\n",
    "\n",
    "이제 완성된 Pyton 프로그램을 저장하고 실행해보자.\n",
    "지금까지는 한 줄 한 줄씩 명령문을 실행하는 인터랙티브 interactive 방식이었다.\n",
    "인터랙티브 방식은 한 줄씩 실행하면서, 오류가 있다면 고쳐가면서 완성해나가므로 초보자에게 편리하다.\n",
    "그러나 자동화를 하려면, 전 필요한 코드를 모두 넣고 하나의 프로그램으로 저장한 후, 이를 일괄 실행하는 것이 반드시 필요하다."
   ]
  },
  {
   "cell_type": "markdown",
   "metadata": {
    "slideshow": {
     "slide_type": "subslide"
    }
   },
   "source": [
    "### 간단한 Notebook 명령어\n",
    "\n",
    "노트북이 편리한 이유 가운데 하나는 바로 자신을 떠나지 않고 현재 셀에서 운영체제 명령어도 실행할 수 있다는 것이다.\n",
    "리눅스 또는 윈도우에서 사용하는 몇 가지 필요한 명령어를 배우고 가보자\n",
    "단 앞에 운영체제 명령어는 ```!```를, 셀명령어는 ```%```를 붙인다.\n",
    "사용할 수 있는 명령어는 Help 메뉴를 열어서 참조하자.\n",
    "\n",
    "명령어 | 설명\n",
    "-----|-----\n",
    "ls | 디렉토리 읽기, ls가 안되면 윈도우 명령어인 dir로 하면 된다.\n",
    "~ | 홈디렉토리\n",
    "% | 매직 명령어\n",
    "%% | 셀 명령어\n"
   ]
  },
  {
   "cell_type": "markdown",
   "metadata": {
    "slideshow": {
     "slide_type": "subslide"
    }
   },
   "source": [
    "현재 작업경로를 알아보자. 앞에 ```%```를 붙이고 pwd 명령어를 사용한다."
   ]
  },
  {
   "cell_type": "code",
   "execution_count": 35,
   "metadata": {
    "slideshow": {
     "slide_type": "-"
    }
   },
   "outputs": [
    {
     "data": {
      "text/plain": [
       "'C:\\\\Users\\\\admin\\\\Code\\\\git\\\\bb\\\\jsl\\\\pyds'"
      ]
     },
     "execution_count": 35,
     "metadata": {},
     "output_type": "execute_result"
    }
   ],
   "source": [
    "%pwd"
   ]
  },
  {
   "cell_type": "markdown",
   "metadata": {
    "slideshow": {
     "slide_type": "subslide"
    }
   },
   "source": [
    "파일을 작성하거나, 읽어 보자. 파일탐색기 또는 메모장으로 하는 작업을 편리하고 빠르게 할 수 있다."
   ]
  },
  {
   "cell_type": "code",
   "execution_count": 36,
   "metadata": {},
   "outputs": [
    {
     "name": "stdout",
     "output_type": "stream",
     "text": [
      "Writing my.txt\n"
     ]
    }
   ],
   "source": [
    "%%writefile my.txt\n",
    "hello"
   ]
  },
  {
   "cell_type": "code",
   "execution_count": 37,
   "metadata": {},
   "outputs": [
    {
     "name": "stdout",
     "output_type": "stream",
     "text": [
      " C 드라이브의 볼륨에는 이름이 없습니다.\n",
      " 볼륨 일련 번호: BA86-B12A\n",
      "\n",
      " C:\\Users\\admin\\Code\\git\\bb\\jsl\\pyds 디렉터리\n",
      "\n",
      "2025-09-02  오후 08:21                 7 my.txt\n",
      "               1개 파일                   7 바이트\n",
      "               0개 디렉터리  329,302,601,728 바이트 남음\n"
     ]
    }
   ],
   "source": [
    "!dir my.txt"
   ]
  },
  {
   "cell_type": "markdown",
   "metadata": {
    "slideshow": {
     "slide_type": "subslide"
    }
   },
   "source": [
    "### 프로그램의 실행\n",
    "\n",
    "그럼 간단한 프로그램을 완성해 보자.\n",
    "앞서 만들 파일을 읽어서 출력하는 프로그램이다.\n",
    "아래 명령문을 프로그램 'test.py'으로 저장하고 실행해 보자.\n",
    "\n",
    "줄 | 설명\n",
    "-----|-----\n",
    "2 | 현재 작업디렉토리 출력\n",
    "3 | 파일을 읽기 용도로 열기\n",
    "4 | 파일에서 읽기\n",
    "5 | 줄 수를 출력하기 위해 초기화\n",
    "6-8 | 줄 수, 한 줄씩 출력하기\n",
    "9 | 파일 닫기"
   ]
  },
  {
   "cell_type": "code",
   "execution_count": 38,
   "metadata": {
    "slideshow": {
     "slide_type": "-"
    }
   },
   "outputs": [
    {
     "name": "stdout",
     "output_type": "stream",
     "text": [
      "Overwriting myRead.py\n"
     ]
    }
   ],
   "source": [
    "%%writefile myRead.py\n",
    "import os\n",
    "\n",
    "print(os.getcwd())\n",
    "f=open('myRead.py','r')\n",
    "lineNum=0\n",
    "for line in f.readlines():\n",
    "    lineNum+=1\n",
    "    print(lineNum,\"-\",line)\n",
    "f.close()"
   ]
  },
  {
   "cell_type": "markdown",
   "metadata": {
    "slideshow": {
     "slide_type": "subslide"
    }
   },
   "source": [
    "위 프로그램을 실행해 보자.\n",
    "우선 그 파일이 잘 저장되어 있는지 확인해 보자."
   ]
  },
  {
   "cell_type": "code",
   "execution_count": 39,
   "metadata": {},
   "outputs": [
    {
     "name": "stdout",
     "output_type": "stream",
     "text": [
      " C 드라이브의 볼륨에는 이름이 없습니다.\n",
      " 볼륨 일련 번호: BA86-B12A\n",
      "\n",
      " C:\\Users\\admin\\Code\\git\\bb\\jsl\\pyds 디렉터리\n",
      "\n",
      "2025-09-02  오후 08:21               153 myRead.py\n",
      "               1개 파일                 153 바이트\n",
      "               0개 디렉터리  329,302,597,632 바이트 남음\n"
     ]
    }
   ],
   "source": [
    "!dir myRead.py"
   ]
  },
  {
   "cell_type": "code",
   "execution_count": 40,
   "metadata": {},
   "outputs": [
    {
     "name": "stdout",
     "output_type": "stream",
     "text": [
      "C:\\Users\\admin\\Code\\git\\bb\\jsl\\pyds\n",
      "1 - import os\n",
      "\n",
      "2 - \n",
      "\n",
      "3 - print(os.getcwd())\n",
      "\n",
      "4 - f=open('myRead.py','r')\n",
      "\n",
      "5 - lineNum=0\n",
      "\n",
      "6 - for line in f.readlines():\n",
      "\n",
      "7 -     lineNum+=1\n",
      "\n",
      "8 -     print(lineNum,\"-\",line)\n",
      "\n",
      "9 - f.close()\n",
      "\n"
     ]
    }
   ],
   "source": [
    "%run myRead.py"
   ]
  },
  {
   "cell_type": "markdown",
   "metadata": {
    "slideshow": {
     "slide_type": "subslide"
    }
   },
   "source": [
    "물론 명령 프롬프트에서 실행할 수도 있다. Python은 명령프롬프트에서 실행되므로 앞에 !를 붙이게 된다."
   ]
  },
  {
   "cell_type": "code",
   "execution_count": 41,
   "metadata": {},
   "outputs": [
    {
     "name": "stdout",
     "output_type": "stream",
     "text": [
      "C:\\Users\\admin\\Code\\git\\bb\\jsl\\pyds\n",
      "1 - import os\n",
      "\n",
      "2 - \n",
      "\n",
      "3 - print(os.getcwd())\n",
      "\n",
      "4 - f=open('myRead.py','r')\n",
      "\n",
      "5 - lineNum=0\n",
      "\n",
      "6 - for line in f.readlines():\n",
      "\n",
      "7 -     lineNum+=1\n",
      "\n",
      "8 -     print(lineNum,\"-\",line)\n",
      "\n",
      "9 - f.close()\n",
      "\n"
     ]
    }
   ],
   "source": [
    "!python myRead.py"
   ]
  },
  {
   "cell_type": "markdown",
   "metadata": {
    "slideshow": {
     "slide_type": "subslide"
    }
   },
   "source": [
    "### 프로그램 실행 인자\n",
    "\n",
    "명령 프롬프트에서 Python을 실행하면서 인자를 사용할 경우가 있다.\n",
    "우선 프로그램을 실행하면서 현재 실행하는 파일명을 출력해 보자.\n",
    "```python\n",
    "$ python myRead1.py\n",
    "```\n",
    "\n",
    "아래와 같이 python 명령 다음을 인자로 간주하여 파일명 myRead1.py를 출력할 수 있다.\n",
    "```python\n",
    "argv 0 = myRead1.py\n",
    "```\n"
   ]
  },
  {
   "cell_type": "code",
   "execution_count": 54,
   "metadata": {
    "slideshow": {
     "slide_type": "-"
    }
   },
   "outputs": [
    {
     "name": "stdout",
     "output_type": "stream",
     "text": [
      "Writing myRead1.py\n"
     ]
    }
   ],
   "source": [
    "%%writefile myRead1.py\n",
    "import os\n",
    "import sys\n",
    "\n",
    "print(os.getcwd())\n",
    "for i,argv in enumerate(sys.argv[:]):\n",
    "    print(\"argv %d = %s\" % (i,argv))\n",
    "\n",
    "f=open('myRead.py','r')\n",
    "lineNum=0\n",
    "for line in f.readlines():\n",
    "    lineNum+=1\n",
    "    print(lineNum,\"-\",line)\n",
    "f.close()"
   ]
  },
  {
   "cell_type": "code",
   "execution_count": 55,
   "metadata": {},
   "outputs": [
    {
     "name": "stdout",
     "output_type": "stream",
     "text": [
      "C:\\Users\\admin\\Code\\git\\bb\\jsl\\pyds\n",
      "argv 0 = myRead1.py\n",
      "1 - import os\n",
      "\n",
      "2 - \n",
      "\n",
      "3 - print(os.getcwd())\n",
      "\n",
      "4 - f=open('myRead.py','r')\n",
      "\n",
      "5 - lineNum=0\n",
      "\n",
      "6 - for line in f.readlines():\n",
      "\n",
      "7 -     lineNum+=1\n",
      "\n",
      "8 -     print(lineNum,\"-\",line)\n",
      "\n",
      "9 - f.close()\n",
      "\n"
     ]
    }
   ],
   "source": [
    "%run myRead1.py"
   ]
  },
  {
   "cell_type": "markdown",
   "metadata": {
    "slideshow": {
     "slide_type": "subslide"
    }
   },
   "source": [
    "앞서 프로그램은 읽을 파일을 미리 myRead.py로 정해 놓았다.\n",
    "이와 같이 파일 이름을 고정하지 않고 프로그램을 실행하면서 아래와 같이 주면 보다 편리하겠다.\n",
    "\n",
    "```python\n",
    "$ python myRead1.py '읽을 파일명'\n",
    "```\n",
    "\n",
    "그렇게 하면 아래와 같이 python 명령 다음을 인자로 간주하여 하나씩 출력할 수 있고, 그 값을 사용하여 파일내용을 출력할 수 있다.\n",
    "\n",
    "```python\n",
    "argv 0 = myRead1.py\n",
    "argv 1 = 읽을 파일 명\n",
    "```"
   ]
  },
  {
   "cell_type": "code",
   "execution_count": 58,
   "metadata": {
    "slideshow": {
     "slide_type": "-"
    }
   },
   "outputs": [
    {
     "name": "stdout",
     "output_type": "stream",
     "text": [
      "Overwriting myRead2.py\n"
     ]
    }
   ],
   "source": [
    "%%writefile myRead2.py\n",
    "import os\n",
    "import sys\n",
    "print(os.getcwd())\n",
    "fn=sys.argv[1]\n",
    "print(\"Reading...\",fn)\n",
    "f=open(fn,'r')\n",
    "lineNum=0\n",
    "for line in f.readlines():\n",
    "    lineNum+=1\n",
    "    print(lineNum,\"-\",line)\n",
    "f.close()"
   ]
  },
  {
   "cell_type": "code",
   "execution_count": 59,
   "metadata": {
    "slideshow": {
     "slide_type": "subslide"
    }
   },
   "outputs": [
    {
     "name": "stdout",
     "output_type": "stream",
     "text": [
      "C:\\Users\\admin\\Code\\git\\bb\\jsl\\pyds\n",
      "Reading... myRead2.py\n",
      "1 - import os\n",
      "\n",
      "2 - import sys\n",
      "\n",
      "3 - print(os.getcwd())\n",
      "\n",
      "4 - fn=sys.argv[1]\n",
      "\n",
      "5 - print(\"Reading...\",fn)\n",
      "\n",
      "6 - f=open(fn,'r')\n",
      "\n",
      "7 - lineNum=0\n",
      "\n",
      "8 - for line in f.readlines():\n",
      "\n",
      "9 -     lineNum+=1\n",
      "\n",
      "10 -     print(lineNum,\"-\",line)\n",
      "\n",
      "11 - f.close()\n",
      "\n"
     ]
    }
   ],
   "source": [
    "%run myRead2.py myRead2.py"
   ]
  },
  {
   "cell_type": "markdown",
   "metadata": {
    "slideshow": {
     "slide_type": "subslide"
    }
   },
   "source": [
    "### 라이브러리 만들기\n",
    "\n",
    "자신이 노력을 들여 프로그램을 만들었다고 하자.\n",
    "이런 프로그램을 라이브러리로 만들면 자신이 또 사용하거나 타인에게 공유하기도 편리할 것이다."
   ]
  },
  {
   "cell_type": "markdown",
   "metadata": {
    "slideshow": {
     "slide_type": "subslide"
    }
   },
   "source": [
    "라이브러리를 만드는 방법은 생각보다 간단하다.\n",
    "우선 라이브러리에서 제공할 함수를 만들어 넣어두자.\n",
    "myPrint() 함수가 그것이다.\n",
    "이 함수를 가지고 있는 파일은 myTestLib.py라고 하자."
   ]
  },
  {
   "cell_type": "code",
   "execution_count": 42,
   "metadata": {},
   "outputs": [
    {
     "name": "stdout",
     "output_type": "stream",
     "text": [
      "Overwriting myTestLib.py\n"
     ]
    }
   ],
   "source": [
    "%%writefile myTestLib.py\n",
    "def myPrint():\n",
    "   print('This is my test function in myTestLib.py')"
   ]
  },
  {
   "cell_type": "code",
   "execution_count": 43,
   "metadata": {},
   "outputs": [
    {
     "name": "stdout",
     "output_type": "stream",
     "text": [
      " C 드라이브의 볼륨에는 이름이 없습니다.\n",
      " 볼륨 일련 번호: BA86-B12A\n",
      "\n",
      " C:\\Users\\admin\\Code\\git\\bb\\jsl\\pyds 디렉터리\n",
      "\n",
      "2025-09-02  오후 08:25                70 myTestLib.py\n",
      "               1개 파일                  70 바이트\n",
      "               0개 디렉터리  329,302,269,952 바이트 남음\n"
     ]
    }
   ],
   "source": [
    "!dir myTestLib.py"
   ]
  },
  {
   "cell_type": "markdown",
   "metadata": {
    "slideshow": {
     "slide_type": "subslide"
    }
   },
   "source": [
    "이 프로그램은 실행할 수 있지만 아무런 결과를 볼 수가 없다.\n",
    "당연히 가지고 있는 함수 myPrint()를 호출하지 않으니 그렇다.\n",
    "그러나 이 함수를 다른 프로그램에서 사용한다고 하면 어떻게 할까?\n",
    "다른 프로그램에서 myTestLib의 myPrint()를 불러 사용할 수 있게 하는 것이 '라이브러리'이다.\n",
    "어렵게 들릴 수 있었겠지만, 우리는 라이브러리를 만들었다. 쉽지 않은가!\n",
    "자, 지금 만든 라이브러리를 호출하여 사용해 보자.\n"
   ]
  },
  {
   "cell_type": "code",
   "execution_count": 44,
   "metadata": {
    "slideshow": {
     "slide_type": "-"
    }
   },
   "outputs": [
    {
     "name": "stdout",
     "output_type": "stream",
     "text": [
      "This is my test function in myTestLib.py\n"
     ]
    }
   ],
   "source": [
    "import myTestLib\n",
    "myTestLib.myPrint()"
   ]
  },
  {
   "cell_type": "markdown",
   "metadata": {
    "slideshow": {
     "slide_type": "subslide"
    }
   },
   "source": [
    "### 라이브러리 수정후 다시 로딩\n",
    "\n",
    "프로그램을 하면서, 자신의 라이브러리를 사용하다가 변경하는 경우를 생각해 보자.\n",
    "이와 같이 사용 중인 라이브러리를 수정하는 경우는 지금 것을 교체해야 한다.\n",
    "좀 어렵게 말하면, 메모리에 올려져 있는 라이브러리를 재로딩, 교체하는 것이다.\n",
    "지금 사용하고 있는 라이브러리에 함수를 추가하거나 변경을 하고 다시 메모리에 올려 보자."
   ]
  },
  {
   "cell_type": "markdown",
   "metadata": {
    "slideshow": {
     "slide_type": "subslide"
    }
   },
   "source": [
    "앞서 라이브러리를 수정하여 다시 실행하여 보자.\n",
    "myPrint()를 수정하였고, myPrint2()를 추가하였다.\n",
    "물론 수정된 내용이 출력되어야 올바르게 재로딩이 된 것이다."
   ]
  },
  {
   "cell_type": "code",
   "execution_count": 45,
   "metadata": {},
   "outputs": [
    {
     "name": "stdout",
     "output_type": "stream",
     "text": [
      "Overwriting myTestLib.py\n"
     ]
    }
   ],
   "source": [
    "%%writefile myTestLib.py\n",
    "def myPrint():\n",
    "    print('Modified 2018.09.30.SUN.0940AM')\n",
    "    print('This is my test function in myTestLib.py')\n",
    "def myPrint2():\n",
    "    print(\"This is myPrint2 added on 2018.09.30.SUN.0940AM\")"
   ]
  },
  {
   "cell_type": "markdown",
   "metadata": {
    "slideshow": {
     "slide_type": "subslide"
    }
   },
   "source": [
    "프로그램을 재로딩을 하지 않았으므로 수정하였다 하더라도 그 수정내용이 반영되지 않았다."
   ]
  },
  {
   "cell_type": "code",
   "execution_count": 46,
   "metadata": {
    "slideshow": {
     "slide_type": "-"
    }
   },
   "outputs": [
    {
     "name": "stdout",
     "output_type": "stream",
     "text": [
      "This is my test function in myTestLib.py\n"
     ]
    }
   ],
   "source": [
    "import myTestLib\n",
    "myTestLib.myPrint()"
   ]
  },
  {
   "cell_type": "markdown",
   "metadata": {
    "slideshow": {
     "slide_type": "subslide"
    }
   },
   "source": [
    "myTestLib 모듈을 다시 올리는 예이다.\n",
    "reload() 함수를 이용하여, 메모리에 올려져 있는 라이브러리를 재로딩하게 된다.\n",
    "\n",
    "```python\n",
    "importlib.reload(sys.modules['myTestLib']\n",
    "```"
   ]
  },
  {
   "cell_type": "code",
   "execution_count": 47,
   "metadata": {
    "slideshow": {
     "slide_type": "-"
    }
   },
   "outputs": [
    {
     "data": {
      "text/plain": [
       "<module 'myTestLib' from 'C:\\\\Users\\\\admin\\\\Code\\\\git\\\\bb\\\\jsl\\\\pyds\\\\myTestLib.py'>"
      ]
     },
     "execution_count": 47,
     "metadata": {},
     "output_type": "execute_result"
    }
   ],
   "source": [
    "import importlib\n",
    "import sys\n",
    "importlib.reload(sys.modules['myTestLib'])"
   ]
  },
  {
   "cell_type": "markdown",
   "metadata": {
    "slideshow": {
     "slide_type": "subslide"
    }
   },
   "source": [
    "라이브러리를 다시 올리고 나서는 test() 함수를 실행하면 그 결과가 변경되어 있게 된다."
   ]
  },
  {
   "cell_type": "code",
   "execution_count": 48,
   "metadata": {
    "slideshow": {
     "slide_type": "-"
    }
   },
   "outputs": [
    {
     "name": "stdout",
     "output_type": "stream",
     "text": [
      "Modified 2018.09.30.SUN.0940AM\n",
      "This is my test function in myTestLib.py\n"
     ]
    }
   ],
   "source": [
    "import myTestLib\n",
    "myTestLib.myPrint()"
   ]
  },
  {
   "cell_type": "code",
   "execution_count": 49,
   "metadata": {
    "slideshow": {
     "slide_type": "-"
    }
   },
   "outputs": [
    {
     "name": "stdout",
     "output_type": "stream",
     "text": [
      "This is myPrint2 added on 2018.09.30.SUN.0940AM\n"
     ]
    }
   ],
   "source": [
    "import myTestLib\n",
    "myTestLib.myPrint2()"
   ]
  },
  {
   "cell_type": "code",
   "execution_count": null,
   "metadata": {},
   "outputs": [],
   "source": []
  },
  {
   "cell_type": "markdown",
   "metadata": {},
   "source": [
    "# 2. numpy\n",
    "\n",
    "numpy는 배열프로그래밍 (또는 벡터프로그래밍)을 지원한다.\n",
    "\n",
    "배열프로그래밍은 데이터를 배열(array) 형태로 다루며, 배열 전체나 다차원 데이터에 대해 동시에 연산을 수행할 수 있는 프로그래밍 기법이다.\n",
    "Python의 numpy, pandas, R, MATLAB, Fortran, Julia 등이 배열 프로그래밍을 지원한다.\n",
    "\n",
    "배열 프로그래밍의 핵심 개념은 벡터화(vectorization)이고, 설명하면 다음과 같다.\n",
    "\n",
    "- 전통적인 프로그래밍에서는 반복문을 사용해 각 요소에 대해 연산을 수행하지만, 배열프로그래밍에서는 반복문 없이 한 번에 계산할 수 있다.\n",
    "- 벡터화 덕분에 빠른 연산이 가능하다. 이는 CPU의 단일명령어 다중데이터 SIMD(Single Instruction, Multiple Data) 방식을 활용하여 여러 데이터를 동시에 처리할 수 있기 때문이다. 참고로 GPU는 단일명령어 다중쓰레드 방식이다 (SIMT Single Instruction Multiple Threads)\n",
    "- 배열 프로그래밍에서는 다차원 배열에 대해 축(axis)을 따라 연산을 수행하거나, 작은 배열을 큰 배열의 차원에 맞춰 자동으로 확장하는 브로드캐스팅(broadcasting)을 지원한다.\n",
    "\n",
    "NumPy는 과학 계산, 금융 분석, 데이터 과학, 인공지능, 머신러닝 등 다양한 산업 분야에서 널리 사용되고 있다. Pandas, scikit-learn(기계학습), SciPy(수치 해석/과학 계산), TensorFlow, PyTorch 등 거의 모든 데이터 분석/머신러닝 라이브러리의 토대로 자리잡고 있어서 직접 사용하지 않더라도 무의식적으로 의존하는 경우가 많다.\n",
    "\n",
    "Pandas는 Seris나 DataFrame를 통해 벡터화된 연산을 지원하고 있다. Pandas DataFrame은 2차원 구조로, 각 열이 시리즈로 구성되고 요소별 연산과 브로드캐스팅을 지원하여 배열 프로그래밍과 유사한 방식으로 데이터를 처리할 수 있다.\n",
    "\n",
    "Apache Spark는 오히려 대규모 데이터를 분산 처리하는 데 최적화되어 있으며, 분산 처리와 병렬 연산에 더 중점을 두고 있다. \n",
    "Spark는 RDD(Resilient Distributed Dataset)와 DataFrame이라는 데이터 구조를 통해 데이터를 처리하고, Spark DataFrame에서는 벡터의 요소별 연산을 지원하지 않지만, 사용자 정의 함수(UDF)를 사용하거나 SQL 표현식으로 유사한 처리를 할 수 있다.\n"
   ]
  },
  {
   "cell_type": "markdown",
   "metadata": {},
   "source": [
    "## 2.1 배열 생성\n",
    "\n",
    "NumPy에서 배열을 생성하는 기본적인 방법은 np.array() 함수를 사용하는 것이고, 리스트를 입력으로 받아 배열로 변환다."
   ]
  },
  {
   "cell_type": "code",
   "execution_count": 7,
   "metadata": {},
   "outputs": [
    {
     "name": "stdout",
     "output_type": "stream",
     "text": [
      "[0 1 2]\n"
     ]
    }
   ],
   "source": [
    "import numpy as np\n",
    "\n",
    "a = np.array([0, 1, 2])\n",
    "print(a)  # [0 1 2]"
   ]
  },
  {
   "cell_type": "markdown",
   "metadata": {},
   "source": [
    "배열을 생성할 수 있는 다양한 함수들:\n",
    "- np.arange(start, stop, step): 주어진 범위 내에서 일정한 간격으로 값을 생성\n",
    "- np.zeros(shape): 주어진 형태(shape)와 데이터 타입을 가지는 0으로 채워진 배열\n",
    "- np.ones(shape): 주어진 형태(shape)와 데이터 타입을 가지는 1로 채워진 배열\n",
    "- np.empty(): np.ones()와 비슷하지만, 초기화되지 않음(즉, 임의의 값들로 채워짐).\n",
    "- np.linespace(start, stop, n): 등간격 배열\n",
    "- np.logspace(start, stop, n): 로그 스케일의 등간격 배열\n",
    "- np.eye(N): 주어진 크기의 단위 행렬(identity matrix)을 생성"
   ]
  },
  {
   "cell_type": "code",
   "execution_count": 8,
   "metadata": {},
   "outputs": [
    {
     "name": "stdout",
     "output_type": "stream",
     "text": [
      "[0 1 2 3 4 5 6 7 8 9]\n"
     ]
    }
   ],
   "source": [
    "c = np.arange(10)\n",
    "print(c)  # [0 1 2 3 4 5 6 7 8 9]"
   ]
  },
  {
   "cell_type": "code",
   "execution_count": 9,
   "metadata": {},
   "outputs": [
    {
     "name": "stdout",
     "output_type": "stream",
     "text": [
      "[[0. 0. 0.]\n",
      " [0. 0. 0.]]\n"
     ]
    }
   ],
   "source": [
    "d = np.zeros((2, 3))\n",
    "print(d)\n",
    "# [[0. 0. 0.]\n",
    "#  [0. 0. 0.]]"
   ]
  },
  {
   "cell_type": "code",
   "execution_count": 10,
   "metadata": {},
   "outputs": [
    {
     "name": "stdout",
     "output_type": "stream",
     "text": [
      "[[1. 1. 1.]\n",
      " [1. 1. 1.]]\n"
     ]
    }
   ],
   "source": [
    "e = np.ones((2, 3))\n",
    "print(e)\n",
    "# [[1. 1. 1.]\n",
    "#  [1. 1. 1.]]"
   ]
  },
  {
   "cell_type": "code",
   "execution_count": 11,
   "metadata": {},
   "outputs": [
    {
     "name": "stdout",
     "output_type": "stream",
     "text": [
      "empty: [ 8.47452895e-015 -6.39278337e-146] \n",
      "empty3x3float: [[0.00e+000 0.00e+000 0.00e+000]\n",
      " [0.00e+000 0.00e+000 7.47e-321]\n",
      " [0.00e+000 0.00e+000 0.00e+000]]\n"
     ]
    }
   ],
   "source": [
    "print(f\"empty: {np.empty(2)} \\nempty3x3float: {np.empty((3, 3), dtype=float)}\")"
   ]
  },
  {
   "cell_type": "markdown",
   "metadata": {},
   "source": [
    "np.empty 는 배열을 생성하되 초기화는 하지 않는다. 그래서 대부분 0.000... 같이 보이지만, 어떤 위치에는 아주 작은 수(9.624e-321) 같은 값이 남아 있을 수 있다. 이건 메모리에 남아 있던 찌꺼기 값이지, 특별한 의미가 있는 값이 아니다."
   ]
  },
  {
   "cell_type": "code",
   "execution_count": 7,
   "metadata": {},
   "outputs": [
    {
     "name": "stdout",
     "output_type": "stream",
     "text": [
      "linspace: [ 0.   2.5  5.   7.5 10. ]\n",
      "logspace: [1.00000000e+00 1.77827941e+01 3.16227766e+02 5.62341325e+03\n",
      " 1.00000000e+05]\n"
     ]
    }
   ],
   "source": [
    "print(f\"linspace: {np.linspace(0, 10, num=5)}\")\n",
    "print(f\"logspace: {np.logspace(0, 5, 5)}\") # 10의 0 ~ 5 승 5개"
   ]
  },
  {
   "cell_type": "code",
   "execution_count": 8,
   "metadata": {},
   "outputs": [
    {
     "name": "stdout",
     "output_type": "stream",
     "text": [
      "[[1. 0. 0. 0.]\n",
      " [0. 1. 0. 0.]\n",
      " [0. 0. 1. 0.]\n",
      " [0. 0. 0. 1.]]\n"
     ]
    }
   ],
   "source": [
    "f = np.eye(4)\n",
    "print(f)\n",
    "# [[1. 0. 0. 0.]\n",
    "#  [0. 1. 0. 0.]\n",
    "#  [0. 0. 1. 0.]\n",
    "#  [0. 0. 0. 1.]]"
   ]
  },
  {
   "cell_type": "markdown",
   "metadata": {},
   "source": [
    "## 2.2 배열 속성\n",
    "\n",
    "배열의 속성은 ndim (차원), size (길이), shape (행, 열의 모양), dtype(자료형)이 있다.\n",
    "\n",
    "1차원, 2차원, 다차원으로 생성하고, 이런 속성들을 확인해보자.\n"
   ]
  },
  {
   "cell_type": "code",
   "execution_count": 33,
   "metadata": {},
   "outputs": [
    {
     "name": "stdout",
     "output_type": "stream",
     "text": [
      "shape:(3,) size:3\n",
      "shape: (2, 3) ndim: 2\n",
      "(2, 2, 3)\n"
     ]
    }
   ],
   "source": [
    "# 1차원 배열\n",
    "a = np.array([1, 2, 3])\n",
    "print(f\"shape:{a.shape} size:{a.size}\")  # (3,) 1차원의 3개 요소라는 의미\n",
    "\n",
    "# 2차원 배열\n",
    "b = np.array([[1, 2, 3], [4, 5, 6]])\n",
    "print(f\"shape: {b.shape} ndim: {b.ndim}\")  # shape: (2, 3) ndim: 2\n",
    "\n",
    "# 다차원 배열\n",
    "c = np.array([[[1, 2, 3], [4, 5, 6]], [[7, 8, 9], [10, 11, 12]]])\n",
    "print(c.shape)  # (2, 2, 3)"
   ]
  },
  {
   "cell_type": "markdown",
   "metadata": {},
   "source": [
    "- 코드 .shape .dim .size 를 통해 배열의 속성을 출력한다.\n",
    "- 출력: (3,)는 1차원 배열로서 3개의 요소가 있다는 뜻이지, 3행 (또는 3열)이라는 의미는 아니다."
   ]
  },
  {
   "cell_type": "markdown",
   "metadata": {},
   "source": [
    "### 데이터 타입\n",
    "\n",
    "NumPy 배열은 다양한 데이터 타입을 지원한다. 배열을 생성할 때 데이터 타입을 명시적으로 지정할 수 있으며, dtype 속성을 통해 확인할 수 있다.\n",
    "\n",
    "NumPy에서 뒤에 바이트 수(byte size)를 붙여서 줄여 쓸 수 있다.\n",
    "\n",
    "    * bool\n",
    "    * int - int8, int16, int32, int64, uint8, uint16, uint32, uint64 (i1 i2, i4, i8, u1, u2, u4, u8)\n",
    "    * float - float16, float64 (f2, f8)\n",
    "    * complex - complex64, complex128 (c8, c16)"
   ]
  },
  {
   "cell_type": "code",
   "execution_count": 32,
   "metadata": {},
   "outputs": [
    {
     "name": "stdout",
     "output_type": "stream",
     "text": [
      "float64\n",
      "int32\n",
      "float64\n",
      "complex128\n"
     ]
    }
   ],
   "source": [
    "# 정수형 배열\n",
    "a2=np.array([3,4,5], float)\n",
    "print(a2.dtype) #float64\n",
    "\n",
    "int_array = np.array([1, 2, 3], dtype=np.int32)\n",
    "print(int_array.dtype)  # int32\n",
    "\n",
    "# 실수형 배열\n",
    "float_array = np.array([1.0, 2.0, 3.0], dtype=np.float64)\n",
    "print(float_array.dtype)  # float64\n",
    "\n",
    "# 복소수형 배열\n",
    "complex_array = np.array([1+2j, 3+4j], dtype=np.complex128)\n",
    "print(complex_array.dtype)  # complex128"
   ]
  },
  {
   "cell_type": "markdown",
   "metadata": {},
   "source": [
    "numpy에서 데이터 타입을 정의할 때 바이트 오더를 명시적으로 지정하지 않으면 (예: np.dtype('f4')), 기본적으로 시스템의 기본 바이트 오더를 사용한다. 즉 파이프 문자 (|)가 사용된 것과 같은 효과를 가진다 (np.dtype('|f4')과 같은 효과)."
   ]
  },
  {
   "cell_type": "code",
   "execution_count": 15,
   "metadata": {},
   "outputs": [
    {
     "name": "stdout",
     "output_type": "stream",
     "text": [
      "[1. 4.]\n",
      "[2. 5.]\n",
      "[3. 6.]\n"
     ]
    }
   ],
   "source": [
    "import numpy as np\n",
    "\n",
    "dtype_example = np.dtype({'names': ['A', 'B', 'C'], 'formats': ['<f4', '|f4', '|f4']})\n",
    "\n",
    "data = np.array([(1.0, 2.0, 3.0), (4.0, 5.0, 6.0)], dtype=dtype_example)\n",
    "\n",
    "print(data['A'])  # [1. 4.]\n",
    "print(data['B'])  # [2. 5.]\n",
    "print(data['C'])  # [3. 6.]"
   ]
  },
  {
   "cell_type": "markdown",
   "metadata": {},
   "source": [
    "- 코드 운영체제에 따라 바이트 순서 byte order가 다르게 저장되는데, little endian과 big endian 방식이 있다.\n",
    "    - '|' : 원래 시스템의 native byte order 기본 바이트 순서를 의미하며, little-endian 또는 big-endian일 수 있다.\n",
    "    - '<' : little-endian 바이트 오더를 의미한다. 즉, 데이터의 가장 낮은 바이트가 메모리의 가장 낮은 주소에 저장\n",
    "    - '>' : big-endian\n",
    "- '<f4': 데이터가 little-endian 방식으로 f4로 저장\n",
    "- '|f4': 데이터가 native byte order로 f4로 저장"
   ]
  },
  {
   "cell_type": "markdown",
   "metadata": {},
   "source": [
    "> 더 알아보기: 엔디안 차이\n",
    "\n",
    "대부분의 일반적인 데이터 처리 작업에서는 시스템의 기본 바이트 오더를 따르는 것이 충분하다.\n",
    "윈도우와 리눅스 대부분의 시스템에서는 little-endian이 기본이다.\n",
    "\n",
    "Python에서는 기본적으로 사용하는 운영 체제의 엔디안을 따르는데, x86 아키텍처를 사용하는 시스템은 리틀 엔디안을 사용한다.\n",
    "\n",
    "import sys\n",
    "print(sys.byteorder)  # 'little' 또는 'big'\n",
    "\n",
    "Java는 플랫폼에 관계없이 빅 엔디안을 사용한다.\n",
    "\n",
    "그렇다면 윈도우에서 Java를 사용하면 이러한 의문이 떠오를 수 있다.\n",
    "\n",
    "엔디안이 다른 시스템 간에 데이터 전송이나 저장 시에는 변환이 필요할 수 있다. 그렇다면 데이터 파일의 포맷을 설계할 때 일관된 엔디안을 사용하거나, 변환 로직을 포함시켜야 한다.\n",
    "\n",
    "그러나 다행히도 JVM이 데이터의 엔디안 문제를 처리하므로, Java 개발자는 엔디안을 직접 처리할 필요가 없다. 신경 쓰지 않고도 플랫폼 간 호환성 있는 코드를 작성할 수 있다.\n",
    "\n",
    "Java에서는 다음과 같은 방식으로 엔디안 문제를 처리한다:\n",
    "- JVM: Java 코드는 JVM에서 실행되므로, JVM이 플랫폼의 엔디안 문제를 처리한다.\n",
    "- 표준화된 데이터 타입: Java의 기본 데이터 타입은 플랫폼에 관계없이 일관되게 동작한다.\n",
    "- Java NIO: ByteBuffer를 사용하여 엔디안을 명시적으로 설정할 수 있다.\n",
    "- 직렬화: Java의 직렬화 메커니즘은 엔디안 문제를 자동으로 처리한다.\n",
    "- 네트워크 API: 네트워크 통신에서 빅 엔디안을 사용하여 호환성을 보장한다."
   ]
  },
  {
   "cell_type": "markdown",
   "metadata": {},
   "source": [
    "## 2.2 배열 인덱싱\n",
    "\n",
    "### 인덱스 방식\n",
    "\n",
    "Python의 리스트와 유사하게, 배열의 각 요소는 인덱스를 통해 접근할 수 있으며, 배열은 0부터 시작하는 정수 인덱스를 사용한다.\n",
    "\n",
    "배열의 특정 요소에 접근할 때 정수 인덱스를 사용한다. 다차원 배열의 경우, 각 차원의 인덱스를 대괄호 [] 안에 쉼표로 구분하여 입력한다."
   ]
  },
  {
   "cell_type": "code",
   "execution_count": 51,
   "metadata": {},
   "outputs": [
    {
     "name": "stdout",
     "output_type": "stream",
     "text": [
      "[[1. 1. 1.]\n",
      " [1. 1. 1.]\n",
      " [1. 1. 1.]]\n",
      "1.0\n"
     ]
    }
   ],
   "source": [
    "import numpy as np\n",
    "\n",
    "# 3x3 배열 생성\n",
    "f = np.ones((3, 3))\n",
    "print(f)\n",
    "# [[1. 1. 1.]\n",
    "#  [1. 1. 1.]\n",
    "#  [1. 1. 1.]]\n",
    "\n",
    "# 첫 번째 행, 두 번째 열의 요소 접근\n",
    "print(f[0][1])  # 1.0"
   ]
  },
  {
   "cell_type": "markdown",
   "metadata": {},
   "source": [
    "### 범위 인덱스\n",
    "\n",
    "배열의 여러 요소를 한 번에 읽기 위해 특정 범위 내의 요소를 슬라이싱(slicing)하여 가져온다."
   ]
  },
  {
   "cell_type": "code",
   "execution_count": 52,
   "metadata": {},
   "outputs": [
    {
     "name": "stdout",
     "output_type": "stream",
     "text": [
      "[1. 1. 1.]\n",
      "[1. 1.]\n",
      "[[1. 1. 1.]\n",
      " [1. 1. 1.]]\n"
     ]
    }
   ],
   "source": [
    "\n",
    "print(f[0])  # [1. 1. 1.] 첫 번째 행 전체를 가져오기\n",
    "\n",
    "print(f[0][:2])  # [1. 1.] 첫 번째 행의 첫 두 요소를 가져오기\n",
    "\n",
    "\n",
    "print(f[:2]) # 첫 두 행을 가져오기\n",
    "# [[1. 1. 1.]\n",
    "#  [1. 1. 1.]]"
   ]
  },
  {
   "cell_type": "code",
   "execution_count": null,
   "metadata": {},
   "outputs": [],
   "source": [
    "행과 열을 따로 조회한다.\n",
    "행은 전체 ```:```, 열은 끝에서 하나만 빼고 ```:-1```조회한다."
   ]
  },
  {
   "cell_type": "code",
   "execution_count": 53,
   "metadata": {},
   "outputs": [
    {
     "name": "stdout",
     "output_type": "stream",
     "text": [
      "xshape: (2, 3)\n",
      "[[1 2]\n",
      " [4 5]]\n"
     ]
    }
   ],
   "source": [
    "x=np.array([[1,2,3],[4,5,6]])\n",
    "print(f\"xshape: {x.shape}\")\n",
    "print(x[:,:-1])"
   ]
  },
  {
   "cell_type": "markdown",
   "metadata": {},
   "source": [
    "### 논리인덱싱"
   ]
  },
  {
   "cell_type": "code",
   "execution_count": 54,
   "metadata": {},
   "outputs": [
    {
     "data": {
      "text/plain": [
       "array([[False,  True, False],\n",
       "       [ True, False,  True]])"
      ]
     },
     "execution_count": 54,
     "metadata": {},
     "output_type": "execute_result"
    }
   ],
   "source": [
    "x%2 == 0 # 2로 나누어지면 True 인덱싱을 한다"
   ]
  },
  {
   "cell_type": "code",
   "execution_count": 55,
   "metadata": {},
   "outputs": [
    {
     "data": {
      "text/plain": [
       "array([2, 4, 6])"
      ]
     },
     "execution_count": 55,
     "metadata": {},
     "output_type": "execute_result"
    }
   ],
   "source": [
    "x[x%2==0] #논리 인덱스가 True만 추출한다"
   ]
  },
  {
   "cell_type": "markdown",
   "metadata": {},
   "source": [
    "## 2.3 배열 쓰기\n",
    "NumPy 배열은 mutable, 즉 변경 가능(mutable)한 데이터 구조이다. 이는 배열의 특정 요소 또는 범위를 변경할 수 있음을 의미한다."
   ]
  },
  {
   "cell_type": "code",
   "execution_count": 56,
   "metadata": {},
   "outputs": [
    {
     "name": "stdout",
     "output_type": "stream",
     "text": [
      "[[2. 1. 1.]\n",
      " [1. 1. 1.]\n",
      " [1. 1. 1.]]\n"
     ]
    }
   ],
   "source": [
    "# 첫 번째 행, 첫 번째 열의 요소를 2로 변경\n",
    "f[0][0] = 2\n",
    "print(f)\n",
    "# [[2. 1. 1.]\n",
    "#  [1. 1. 1.]\n",
    "#  [1. 1. 1.]]"
   ]
  },
  {
   "cell_type": "markdown",
   "metadata": {},
   "source": [
    "## 2.4 연산\n",
    "\n",
    "Numpy 배열은 같은 위치의 요소들끼리 덧셈, 뺄셈, 곱셈, 나눗셈 등 항목별 계산 (Elementwise Operations)을 쉽게 수행할 수 있다."
   ]
  },
  {
   "cell_type": "code",
   "execution_count": 57,
   "metadata": {},
   "outputs": [
    {
     "name": "stdout",
     "output_type": "stream",
     "text": [
      "[ 7. 10. 10.]\n",
      "[-5. -6. -4.]\n",
      "[ 6. 16. 21.]\n",
      "[6.         4.         2.33333333]\n",
      "[1. 2. 3.]\n",
      "[  6.  64. 343.]\n"
     ]
    }
   ],
   "source": [
    "import numpy as np\n",
    "\n",
    "a = np.array([1, 2, 3], float)\n",
    "b = np.array([6, 8, 7], float)\n",
    "\n",
    "\n",
    "print(a + b) # 덧셈\n",
    "\n",
    "\n",
    "print(a - b) # 뺄셈\n",
    "\n",
    "\n",
    "print(a * b) # 곱셈\n",
    "\n",
    "\n",
    "print(b / a) # 나눗셈\n",
    "\n",
    "\n",
    "print(a % b) # 나머지 연산\n",
    "\n",
    "\n",
    "print(b ** a) # 지수 연산"
   ]
  },
  {
   "cell_type": "markdown",
   "metadata": {},
   "source": [
    "    \n",
    "Numpy는 배열의 합계와 곱을 계산하는 다양한 함수를 제공한다. 또한, 최솟값과 최댓값의 인덱스를 찾을 수도 있다.\n",
    "\n",
    "axis=0과 axis=1의 개념은 Numpy 배열에서 데이터의 연산 방향을 결정하거나 배열을 조작할 때 자주 사용된다.\n",
    "\n",
    "- axis=0은 행 단위로 연산하는 것을 의미하고, 연산의 대상이 되는 축이다.\n",
    "    - 연산 함수(예: mean): axis는 연산이 적용되는 축이다. axis=0은 행을 따라 연산이 수행되고, 행을 축소해서 결과가 열별로 나온다.\n",
    "    - 조작 함수 (예: insert): axis는 조작이 일어나는 축을 지정한다. axis=0은 새로운 행을 추가한다.\n",
    "- axis=1은 열 단위로 연산하는 것을 의미하고, 결과가 해당 방향으로 축소되거나 확장된다.\n",
    "\n",
    "계산과 조작할 경우 다른 듯 보이지만, 일관되게 0은 행, 1은 열을 기준으로 적용된다."
   ]
  },
  {
   "cell_type": "code",
   "execution_count": 13,
   "metadata": {},
   "outputs": [
    {
     "name": "stdout",
     "output_type": "stream",
     "text": [
      "15.0\n",
      "120.0\n",
      "15.0\n",
      "120.0\n",
      "0\n",
      "4\n",
      "sum0:  [5 7 9]\n",
      "sum1:  [ 6 15]\n",
      "평균0:  [2.5 3.5 4.5]\n",
      "평균1:  [2. 5.]\n",
      "min0:  [1 2 3]\n",
      "min1:  [3 6]\n"
     ]
    }
   ],
   "source": [
    "v = np.array([1, 2, 3, 4, 5], float)\n",
    "\n",
    "print(v.sum())      # 합계: 15.0\n",
    "print(v.prod())     # 곱: 120.0\n",
    "\n",
    "print(np.sum(v))    # 합계: 15.0\n",
    "print(np.prod(v))   # 곱: 120.0\n",
    "\n",
    "print(v.argmin())   # 최소값의 인덱스: 0\n",
    "print(v.argmax())   # 최대값의 인덱스: 4\n",
    "\n",
    "w = np.array([[1, 2, 3], [4, 5, 6]])\n",
    "print(\"sum0: \", w.sum(axis=0)) # 행을 따라 합계 (열별 합계) [5 7 9]\n",
    "print(\"sum1: \", w.sum(axis=1)) # 열을 따라 합계 (행별 합계) [ 6 15]\n",
    "\n",
    "print(\"평균0: \", w.mean(axis=0))  # [2.5 3.5 4.5] 열에 대한 평균\n",
    "\n",
    "print(\"평균1: \", w.mean(axis=1))  # [2. 5.] 행에 대한 평균\n",
    " \n",
    "print(\"min0: \", w.min(axis=0))   # [1 2 3] 열에 대한 최솟값\n",
    "\n",
    "print(\"min1: \", w.max(axis=1))   # [3 6] 행에 대한 최댓값"
   ]
  },
  {
   "cell_type": "markdown",
   "metadata": {},
   "source": [
    "## 2.5 정렬"
   ]
  },
  {
   "cell_type": "code",
   "execution_count": 58,
   "metadata": {},
   "outputs": [
    {
     "name": "stdout",
     "output_type": "stream",
     "text": [
      "정렬: [ 1  1  1  2  3  3  4  5  5  6  6  7  9  9 10]\n",
      "[ 1  2  3  4  5  6  7  9 10]\n"
     ]
    }
   ],
   "source": [
    "a = np.array([1, 1, 2, 3, 4, 5, 6, 3, 7, 9, 10, 5, 6, 9, 1])\n",
    "print(f\"정렬: {np.sort(a)}\") # 정렬\n",
    "unique_values = np.unique(a)\n",
    "print(unique_values)"
   ]
  },
  {
   "cell_type": "markdown",
   "metadata": {},
   "source": [
    "## 2.6 무작위수 생성\n",
    "\n",
    "Numpy는 다양한 무작위 수를 생성하는 기능을 제공한다. 여기에는 균등 분포, 정수, 정규 분포 등이 포함된다.\n",
    "np.random.randint(low, high=None, size=None, dtype=int)"
   ]
  },
  {
   "cell_type": "code",
   "execution_count": 64,
   "metadata": {},
   "outputs": [
    {
     "name": "stdout",
     "output_type": "stream",
     "text": [
      "[0.2  0.77 0.69 0.3  0.5  0.6  0.08 0.89 0.49 0.54]\n",
      "4\n",
      "162.76017032118824\n"
     ]
    }
   ],
   "source": [
    "print(np.random.rand(10)) # 0에서 1 사이의 균등 분포를 따르는 무작위 수\n",
    "\n",
    "print(np.random.randint(0, 9)) #5\n",
    "\n",
    "print(np.random.normal(170,10)) # 평균 170, 표준편차 10을 갖는 정규 분포에서 무작위 수 생성"
   ]
  },
  {
   "cell_type": "markdown",
   "metadata": {},
   "source": [
    "## 2.7 배열과 반복문\n",
    "\n",
    "numpy 제공함수를 사용하면 굳이 반복문이 필요없다.\n",
    "\n",
    "for문을 이용한 반복과 sum함수를 보자."
   ]
  },
  {
   "cell_type": "code",
   "execution_count": 80,
   "metadata": {},
   "outputs": [
    {
     "name": "stdout",
     "output_type": "stream",
     "text": [
      "sumFor: 5050\n",
      "sumnp: 5050\n",
      "sumnp: 5050\n"
     ]
    }
   ],
   "source": [
    "x=range(1,101)\n",
    "total=0\n",
    "for i in x:\n",
    "    total+=i\n",
    "print(f\"sumFor: {total}\") #5050\n",
    "print(f\"sumnp: {np.sum(x)}\") #5050\n",
    "print(f\"sumnp: {np.array(x).sum()}\") #5050"
   ]
  },
  {
   "cell_type": "markdown",
   "metadata": {},
   "source": [
    "product 연산도 마찬가지로 반복문을 사용할 필요가 없다."
   ]
  },
  {
   "cell_type": "markdown",
   "metadata": {},
   "source": [
    "$\\prod_{n=1}^{4} (n+2) = (1+2)(2+2)(3+2)(4+2)(5+2) = 2520$"
   ]
  },
  {
   "cell_type": "code",
   "execution_count": 7,
   "metadata": {},
   "outputs": [
    {
     "name": "stdout",
     "output_type": "stream",
     "text": [
      "2520\n",
      "135\n"
     ]
    }
   ],
   "source": [
    "import numpy as np\n",
    "print(np.prod([3,4,5,6,7])) #2520\n",
    "print(np.dot([3,4,5,6,7],[3,4,5,6,7])) #135 = 3x3 + 4x4 + 5x5 + 6x6 + 7x7"
   ]
  },
  {
   "cell_type": "code",
   "execution_count": 81,
   "metadata": {},
   "outputs": [
    {
     "name": "stdout",
     "output_type": "stream",
     "text": [
      "sumSqFor:338350\n",
      "sumSqdot:338350\n",
      "sumSqnp:338350.0\n"
     ]
    }
   ],
   "source": [
    "x=range(1,101)\n",
    "total=0\n",
    "for i in x:\n",
    "    total+=i**2\n",
    "\n",
    "print(f\"sumSqFor:{total}\") # 338350\n",
    "print(f\"sumSqdot:{np.dot(x,x)}\") #338350\n",
    "\n",
    "_x=np.linspace(1, 100, num=100)\n",
    "print(f\"sumSqnp:{np.sum(_x*_x)}\") #338350"
   ]
  },
  {
   "cell_type": "markdown",
   "metadata": {},
   "source": [
    "## 2.8 Print Format\n",
    "\n",
    "NumPy의 배열을 출력할 때, 배열 요소의 형식을 조정할 수 있다. 특히, 소수점 이하 자릿수(precision)와 지수 표기법(scientific notation) 사용 여부를 설정할 수 있다."
   ]
  },
  {
   "cell_type": "code",
   "execution_count": 9,
   "metadata": {},
   "outputs": [],
   "source": [
    "import numpy as np\n",
    "\n",
    "y = np.array([[6, 8, 4, 5, 3, 4], \n",
    "              [8, 12, 9, 13, 6, 8], \n",
    "              [13, 9, 11, 8, 7, 12]])"
   ]
  },
  {
   "cell_type": "markdown",
   "metadata": {},
   "source": [
    "- e 표기법 (지수 표기법)\n",
    "\n",
    "np.mean() 함수는 지정된 축(axis)에 따라 배열의 평균을 계산한다.\n",
    "출력 형식을 조정하기 위해 np.set_printoptions() 함수를 사용한다."
   ]
  },
  {
   "cell_type": "code",
   "execution_count": 11,
   "metadata": {},
   "outputs": [
    {
     "name": "stdout",
     "output_type": "stream",
     "text": [
      "(3, 6)\n"
     ]
    }
   ],
   "source": [
    "print(y.shape)"
   ]
  },
  {
   "cell_type": "code",
   "execution_count": 26,
   "metadata": {},
   "outputs": [
    {
     "name": "stdout",
     "output_type": "stream",
     "text": [
      "[9.  9.7 8.  8.7 5.3 8. ]\n",
      "[ 5.  9. 10.]\n",
      "[ 9. 10.  8.  9.  5.  8.]\n"
     ]
    }
   ],
   "source": [
    "np.set_printoptions(precision=1) # 소수점 이하 자릿수를 1자리로 설정\n",
    "print(y.mean(axis=0))  # 각 열의 평균(axis=0)\n",
    "np.set_printoptions(precision=0) # 소수점 이하 자릿수를 0으로 설정\n",
    "print(y.mean(axis=1)) # 각 행의 평균(axis=1)\n",
    "np.set_printoptions(suppress=True) # 지수 표기법을 사용하지 않는다.\n",
    "print(y.mean(axis=0)) # 각 행의 평균(axis=1)\n",
    "np.set_printoptions(precision=2)"
   ]
  },
  {
   "cell_type": "markdown",
   "metadata": {},
   "source": [
    "## 2.9 복사\n",
    "\n",
    "배열을 복사할 때는 \"얕은 복사\"와 \"깊은 복사\"라는 두 가지 방법이 있다. 이 두 가지 방법은 배열이 복사된 후 변경될 때 다른 배열에 미치는 영향을 달리한다.\n",
    "\n",
    "구분 | 사용하는 명령어 | 설명\n",
    "-----|-----|-----\n",
    "얕은 복사 | = (변수할당) | 실제 값이 복사되는 것이 아니다. 두 변수는 같은 메모리 주소를 참조하게 된다. 복사 후, 한쪽이 변경되면 다른 쪽도 따라서 변경된다는 점에 주의한다.\n",
    "깊은 복사 | copy() | 실제 값이 복사된다."
   ]
  },
  {
   "cell_type": "code",
   "execution_count": 27,
   "metadata": {},
   "outputs": [
    {
     "name": "stdout",
     "output_type": "stream",
     "text": [
      "[3.14 2.   3.  ]\n",
      "[3.14 2.   3.  ]\n",
      "[0. 2. 3.]\n",
      "[0. 2. 3.]\n",
      "[3.14 2.   3.  ]\n"
     ]
    }
   ],
   "source": [
    "import numpy as np\n",
    "\n",
    "x = np.array([1, 2, 3], float)\n",
    "\n",
    "y = x # 얕은 복사: y는 x와 동일한 배열을 참조\n",
    "y[0] = np.pi # y의 첫 번째 요소를 변경\n",
    "\n",
    "# x와 y를 출력y[0] 값을 변경하면, x[0] 값도 동일하게 변경된다. 이는 x와 y가 동일한 데이터(메모리)를 참조하고 있기 때문이다.\n",
    "print(x)  # [3.14159265  2.          3.        ]\n",
    "print(y)  # [3.14159265  2.          3.        ]\n",
    "\n",
    "\n",
    "z = x.copy() # 깊은 복사: z는 x의 복사본을 가짐\n",
    "x[0] = 0\n",
    "\n",
    "# x, y, z 출력\n",
    "print(x)  # [0.  2.  3.]\n",
    "print(y)  # [0.  2.  3.]\n",
    "print(z)  # [3.14159265  2.          3.        ] # x[0] 값을 변경했지만, z는 영향을 받지 않고 원래 복사된 값을 유지"
   ]
  },
  {
   "cell_type": "code",
   "execution_count": null,
   "metadata": {},
   "outputs": [],
   "source": []
  },
  {
   "cell_type": "markdown",
   "metadata": {},
   "source": [
    "## 2.10 배열 재구조\n",
    "\n",
    "배열의 구조를 수정하려면, axis 어느 축으로 실행할 것인지 지정해야 한다.\n",
    "axis는 collapse (delete)하는 방향을 말한다.\n",
    "* shape (행,열)에서 0일 때는 행을 삭제, 1일 때는 열을 삭제 (drop)\n",
    "* 0은 행을 삭제 (collapse) -> 열로 결과를 내서 4,6,8을 출력\n",
    "* 1은 열을 삭제 (collapse) -> 행으로 결과를 내서 6,12\n",
    "\n",
    "배열을 결합하거나, 추가하거나, 차원을 낮추는 명령어를 살펴보자.\n",
    "- insert는 배열, 위치, 값, 방향의 인자를 가진다. (1) 배열의 (2) 인덱스 위치에 (3) 값을 (4) 방향으로 삽입한다.\n",
    "- stack은 배열을 쌓는데, 방향에 따라 vstack, hstack으로 구분한다.\n",
    "- concatenate 배열을 결합\n",
    "- _r, _c: 배열의 결합 stack, concatenate와 같은 기능이지만 명령어가 간단한다.\n",
    "\n",
    "e 표기법(지수 표기법)으로 출력이 불편하면, np.set_printoptions(suppress=True) 설정이 필요할 수 있다."
   ]
  },
  {
   "cell_type": "code",
   "execution_count": 62,
   "metadata": {},
   "outputs": [
    {
     "name": "stdout",
     "output_type": "stream",
     "text": [
      "x:\n",
      "[[ 1.  3.  2.]\n",
      " [11. 33. 22.]]\n",
      "y:\n",
      "[[ 5.  7.  7.]\n",
      " [77. 99. 88.]]\n"
     ]
    }
   ],
   "source": [
    "import numpy as np\n",
    "x = np.array([[1,3,2], [11,33,22]], float)\n",
    "y = np.array([[5,7,7], [77,99,88]], float)\n",
    "print(f\"x:\\n{x}\")\n",
    "print(f\"y:\\n{y}\")"
   ]
  },
  {
   "cell_type": "code",
   "execution_count": 63,
   "metadata": {},
   "outputs": [
    {
     "name": "stdout",
     "output_type": "stream",
     "text": [
      "insert0:\n",
      "[[1.000e+00 3.000e+00 2.000e+00]\n",
      " [1.111e+03 1.111e+03 1.111e+03]\n",
      " [1.100e+01 3.300e+01 2.200e+01]]\n",
      "insert1:\n",
      "[[1.000e+00 1.111e+03 3.000e+00 2.000e+00]\n",
      " [1.100e+01 1.111e+03 3.300e+01 2.200e+01]]\n",
      "vstack:\n",
      "[[ 1.  3.  2.]\n",
      " [11. 33. 22.]\n",
      " [ 5.  7.  7.]\n",
      " [77. 99. 88.]]\n",
      "hstack:\n",
      "[[ 1.  3.  2.  5.  7.  7.]\n",
      " [11. 33. 22. 77. 99. 88.]]\n"
     ]
    }
   ],
   "source": [
    "print(f\"insert0:\\n{np.insert(x, 1, 1111, axis=0)}\") # 인덱스1에 1111을 행(axis=0) 삽입\n",
    "print(f\"insert1:\\n{np.insert(x, 1, 1111, axis=1)}\") # 인덱스1에 1111을 열(axis=1)삽입\n",
    "print(f\"vstack:\\n{np.vstack((x, y))}\")\n",
    "print(f\"hstack:\\n{np.hstack((x, y))}\")"
   ]
  },
  {
   "cell_type": "code",
   "execution_count": 64,
   "metadata": {},
   "outputs": [
    {
     "name": "stdout",
     "output_type": "stream",
     "text": [
      "[[ 1.  3.  2.]\n",
      " [11. 33. 22.]\n",
      " [ 5.  7.  7.]\n",
      " [77. 99. 88.]]\n",
      "[[ 1.  3.  2.]\n",
      " [11. 33. 22.]\n",
      " [ 5.  7.  7.]\n",
      " [77. 99. 88.]]\n",
      "[[ 1.  3.  2.  5.  7.  7.]\n",
      " [11. 33. 22. 77. 99. 88.]]\n"
     ]
    }
   ],
   "source": [
    "print(np.concatenate((x, y))) # 배열을 축 없이 결합\n",
    "print(np.concatenate((x, y), axis=0)) # 배열을 행(axis=0)을 따라 결합\n",
    "print(np.concatenate((x, y), axis=1)) # 배열을 열(axis=1)을 따라 결합"
   ]
  },
  {
   "cell_type": "code",
   "execution_count": 65,
   "metadata": {},
   "outputs": [
    {
     "name": "stdout",
     "output_type": "stream",
     "text": [
      "_r:\n",
      "[[ 1.  3.  2.]\n",
      " [11. 33. 22.]\n",
      " [ 5.  7.  7.]\n",
      " [77. 99. 88.]]\n",
      "_c:\n",
      "[[ 1.  3.  2.  5.  7.  7.]\n",
      " [11. 33. 22. 77. 99. 88.]]\n"
     ]
    }
   ],
   "source": [
    "print(f\"_r:\\n{np.r_[x, y]}\") #vstack\n",
    "print(f\"_c:\\n{np.c_[x, y]}\") #hstack"
   ]
  },
  {
   "cell_type": "code",
   "execution_count": 67,
   "metadata": {},
   "outputs": [
    {
     "name": "stdout",
     "output_type": "stream",
     "text": [
      "_r x1y1:\n",
      "[1 3 5 7]\n",
      "_c x1y1:\n",
      "[[1 5]\n",
      " [3 7]]\n"
     ]
    }
   ],
   "source": [
    "x1 = np.array([1,3])\n",
    "y1 = np.array([5,7])\n",
    "print(f\"_r x1y1:\\n{np.r_[x1, y1]}\") #row 방향: 배열을 1D로 이어붙임\n",
    "print(f\"_c x1y1:\\n{np.c_[x1, y1]}\") #column 방향: 배열을 2D 열 단위로 합침"
   ]
  },
  {
   "cell_type": "code",
   "execution_count": 68,
   "metadata": {},
   "outputs": [
    {
     "name": "stdout",
     "output_type": "stream",
     "text": [
      "[[1.0, 3.0, 2.0, 5.0, 7.0, 7.0], [11.0, 33.0, 22.0, 77.0, 99.0, 88.0]]\n",
      "재구조: [[ 1.  3.  2.  5.]\n",
      " [ 7.  7. 11. 33.]\n",
      " [22. 77. 99. 88.]]\n",
      "flat: [ 1.  3.  2.  5.  7.  7. 11. 33. 22. 77. 99. 88.]\n"
     ]
    }
   ],
   "source": [
    "z=np.concatenate((x,y), axis=1)\n",
    "zlist=z.tolist() #리스트 변환\n",
    "print(zlist)\n",
    "print(f\"재구조: {z.reshape(3, 4)}\") #(행, 열) shape으로 재구성\n",
    "print(f\"flat: {z.flatten()}\")"
   ]
  },
  {
   "cell_type": "markdown",
   "metadata": {},
   "source": [
    "newaxis 차원을 추가한다."
   ]
  },
  {
   "cell_type": "code",
   "execution_count": 69,
   "metadata": {},
   "outputs": [
    {
     "name": "stdout",
     "output_type": "stream",
     "text": [
      "a: (3,)\n",
      "a1: (1, 3)\n",
      "a2: (3, 1)\n"
     ]
    }
   ],
   "source": [
    "a = np.array([1, 2, 3])\n",
    "print(f\"a: {a.shape}\") #3개의 행(row)과 1개의 열(column)을 가진 2차원\n",
    "a1=a[np.newaxis, :] #a1: 1차원 배열을 2차원으로 확장하여 행 벡터로 변환\n",
    "print(f\"a1: {a1.shape}\") # 1개의 행(row)과 3개의 열(column)을 가진 2차원\n",
    "a2=a[:, np.newaxis] # a2: 1차원 배열을 2차원으로 확장하여 열 벡터로 변환\n",
    "print(f\"a2: {a2.shape}\") #3개의 행(row)과 1개의 열(column)을 가진 2차원"
   ]
  },
  {
   "cell_type": "markdown",
   "metadata": {},
   "source": [
    "flat은 다차원을 1차원으로 누르는 기능이다.\n",
    "- 1차원 배열로서, iterator(반복자)를 제공하거나,\n",
    "- 원형을 변환하지 않고서, 배열 요소를 수정할 수 있다."
   ]
  },
  {
   "cell_type": "code",
   "execution_count": 129,
   "metadata": {},
   "outputs": [
    {
     "name": "stdout",
     "output_type": "stream",
     "text": [
      "[[  1   2 333]\n",
      " [  4   5   6]]\n",
      "1,2,333,4,5,6,"
     ]
    }
   ],
   "source": [
    "arr = np.array([[1, 2, 3], [4, 5, 6]])\n",
    "\n",
    "arr.flat[2] = 333  # 2차원 배열의 세 번째 요소를 수정\n",
    "print(arr)\n",
    "\n",
    "for item in arr.flat:\n",
    "    print(item, end=',')"
   ]
  },
  {
   "cell_type": "markdown",
   "metadata": {},
   "source": [
    "## 2.11 broadcasting\n",
    "\n",
    "서로 shape이 다른 배열의 연산은 오류가 발생하는데, 맞추어 주는 것을 broadcasting이라고 한다.\n",
    "\n",
    "일반적으로 작은 배열을 큰 배열에 맞춰 확장하면서 계산한다.\n",
    "\n",
    "### 규칙 1: 차원맞추기\n",
    "\n",
    "배열의 차원이 서로 다른 경우, 적은 차원 배열의 왼쪽에 1을 채운다.\n",
    "\n",
    "- (4,3)은 2차원, (3,)은 1차원이다. 따라서 (3,)을 (1,3)으로 전환한다.\n",
    "- 이제 두 배열의 차원이 일치하므로, 두 배열 간의 연산.\n",
    "- 결과적으로, 두 배열의 dot product 연산 결과는 (4,) 형태의 1차원 배열이 된다.\n"
   ]
  },
  {
   "cell_type": "code",
   "execution_count": 12,
   "metadata": {},
   "outputs": [
    {
     "name": "stdout",
     "output_type": "stream",
     "text": [
      "xshape:(4, 3) yshape: (3,)\n"
     ]
    }
   ],
   "source": [
    "import numpy as np\n",
    "x = np.array([[1,2,3],[4,5,6],[7,8,9],[3,2,1]])\n",
    "y = np.array([1,2,3])\n",
    "print(f\"xshape:{x.shape} yshape: {y.shape}\")"
   ]
  },
  {
   "cell_type": "code",
   "execution_count": 19,
   "metadata": {},
   "outputs": [
    {
     "name": "stdout",
     "output_type": "stream",
     "text": [
      "z:[14 32 50 10] zshape: (4,)\n"
     ]
    }
   ],
   "source": [
    "z=x.dot(y)\n",
    "print(f\"z:{z} zshape: {z.shape}\")\n",
    "\n",
    "# x[0] . y = (1*1) + (2*2) + (3*3) = 1 + 4 + 9 = 14\n",
    "# x[1] . y = (4*1) + (5*2) + (6*3) = 4 + 10 + 18 = 32\n",
    "# x[2] . y = (7*1) + (8*2) + (9*3) = 7 + 16 + 27 = 50\n",
    "# x[3] . y = (3*1) + (2*2) + (1*3) = 3 + 4 + 3 = 10\n"
   ]
  },
  {
   "cell_type": "code",
   "execution_count": 20,
   "metadata": {},
   "outputs": [
    {
     "name": "stdout",
     "output_type": "stream",
     "text": [
      "xshape:(2,) yshape: (2, 2)\n",
      "c:[13 16] cshape: (2,)\n"
     ]
    }
   ],
   "source": [
    "a = np.array([1, 2])\n",
    "B = np.array([[3, 4], [5, 6]])\n",
    "print(f\"xshape:{a.shape} yshape: {B.shape}\")\n",
    "c = np.dot(a, B)  # 벡터를 B의 행으로 간주: [1*3 + 2*5, 1*4 + 2*6] = [13, 16]\n",
    "print(f\"c:{c} cshape: {c.shape}\")"
   ]
  },
  {
   "cell_type": "markdown",
   "metadata": {},
   "source": [
    "덧셈을 보자."
   ]
  },
  {
   "cell_type": "code",
   "execution_count": 21,
   "metadata": {},
   "outputs": [
    {
     "name": "stdout",
     "output_type": "stream",
     "text": [
      "xshape:(3,) yshape: (3, 1)\n",
      "c:[[2 3 4]\n",
      " [3 4 5]\n",
      " [4 5 6]] cshape: (3, 3)\n"
     ]
    }
   ],
   "source": [
    "a = np.array([1,2,3]) # (3,) array([1, 2, 3])\n",
    "b = a[:, np.newaxis] # (3, 1) array([[1],[2],[3]])\n",
    "print(f\"xshape:{a.shape} yshape: {b.shape}\")\n",
    "c=a+b\n",
    "print(f\"c:{c} cshape: {c.shape}\")"
   ]
  },
  {
   "cell_type": "markdown",
   "metadata": {},
   "source": [
    "(3,) + (3,1) -> 규칙 1에 따라 (1,3) + (3,1) -> 규칙 2에 따라 (3,3) + (3,3)\n",
    "따라서 결과는 (3,3)이 된다.\n",
    "\n",
    "[1×1+2×2+3×3]=[1+4+9]=[14]"
   ]
  },
  {
   "cell_type": "code",
   "execution_count": 22,
   "metadata": {},
   "outputs": [
    {
     "data": {
      "text/plain": [
       "array([14])"
      ]
     },
     "execution_count": 22,
     "metadata": {},
     "output_type": "execute_result"
    }
   ],
   "source": [
    "a.dot(b)"
   ]
  },
  {
   "cell_type": "markdown",
   "metadata": {},
   "source": [
    "### 규칙 2: 차원비교\n",
    "\n",
    "배열이 서로 행과 열이 다를 경우, 1이 확장된다.\n",
    "\n",
    "(4,3) + (1,3) -> (4,3) + (4,3)으로 확장 -> (4,3)으로 더해진다."
   ]
  },
  {
   "cell_type": "code",
   "execution_count": 23,
   "metadata": {},
   "outputs": [
    {
     "data": {
      "text/plain": [
       "array([[ 2,  4,  6],\n",
       "       [ 5,  7,  9],\n",
       "       [ 8, 10, 12],\n",
       "       [ 4,  4,  4]])"
      ]
     },
     "execution_count": 23,
     "metadata": {},
     "output_type": "execute_result"
    }
   ],
   "source": [
    "x+y"
   ]
  },
  {
   "cell_type": "markdown",
   "metadata": {},
   "source": [
    "### 규칙 3: 오류발생 조건\n",
    "\n",
    "차원이 서로 일치하지 않는 경우, 어느 것도 1이 아닌 경우 오류가 발생한다.\n",
    "\n",
    "오류를 발생하기 위해 y를 4 또는 3이 아닌 (2,)로 정의해보자.\n",
    "규칙 1에 따라 (2,) -> (1,2)\n",
    "규칙 2에 따라 (4,3)에 맞추기 위해 (4,2)\n",
    "규칙 3에 따라 (4,3)과 (4,2)가 서로 차원이 다르므로 오류\n"
   ]
  },
  {
   "cell_type": "code",
   "execution_count": 73,
   "metadata": {},
   "outputs": [
    {
     "ename": "ValueError",
     "evalue": "operands could not be broadcast together with shapes (4,3) (2,) ",
     "output_type": "error",
     "traceback": [
      "\u001b[1;31m---------------------------------------------------------------------------\u001b[0m",
      "\u001b[1;31mValueError\u001b[0m                                Traceback (most recent call last)",
      "Cell \u001b[1;32mIn[73], line 2\u001b[0m\n\u001b[0;32m      1\u001b[0m y\u001b[38;5;241m=\u001b[39mnp\u001b[38;5;241m.\u001b[39marray([\u001b[38;5;241m1\u001b[39m,\u001b[38;5;241m2\u001b[39m])\n\u001b[1;32m----> 2\u001b[0m \u001b[43mx\u001b[49m\u001b[38;5;241;43m+\u001b[39;49m\u001b[43my\u001b[49m\n",
      "\u001b[1;31mValueError\u001b[0m: operands could not be broadcast together with shapes (4,3) (2,) "
     ]
    }
   ],
   "source": [
    "y=np.array([1,2])\n",
    "x+y # error x(4, 3), y(2,)"
   ]
  },
  {
   "cell_type": "markdown",
   "metadata": {},
   "source": [
    "## 2.12 matrix\n",
    "\n",
    "```np.array```는 기본으로 사용되는 데이터형식인 반면에, 그 중 2차원 데이터를 표현하는 경우에 국한하여 ```np.matrix```를 사용할 수 있다.\n",
    "즉 ```np.matrix```는 2d array이며 ```np.array```의 하위클래스로서 설계되었고, 그러므로 ```array```의 모든 특징을 물려받는다.\n",
    "\n",
    "두 데이터형식은 연산할 경우 차이가 있을 수 있다.\n",
    "- np.array는 다차원 배열을 표현하는데 사용된다. 기본적으로 요소별 연산(element-wise operations)이 수행된다.\n",
    "- np.matrix는 2차원 행렬을 표현하는데 특화되어 있으며, 행렬 연산(matrix operations)을 기본으로 한다.\n",
    "\n",
    "**곱셈**을 보자. ```matrix```는 직관적으로 ```*``` 연산기호를 사용하여 할 수 있기 때문에 편리하다.\n",
    "```**```도 역시 다르게 연산된다."
   ]
  },
  {
   "cell_type": "code",
   "execution_count": 79,
   "metadata": {},
   "outputs": [
    {
     "name": "stdout",
     "output_type": "stream",
     "text": [
      "[[19 22]\n",
      " [43 50]]\n"
     ]
    }
   ],
   "source": [
    "m1 = np.mat([[1, 2], [3, 4]])\n",
    "m2 = np.mat([[5, 6], [7, 8]])\n",
    "print(m1 * m2) # np.matrix 사용\n",
    "# [[19 22]\n",
    "#  [43 50]]"
   ]
  },
  {
   "cell_type": "code",
   "execution_count": 80,
   "metadata": {},
   "outputs": [
    {
     "name": "stdout",
     "output_type": "stream",
     "text": [
      "[[ 5 12]\n",
      " [21 32]]\n"
     ]
    }
   ],
   "source": [
    "a1 = np.array([[1, 2], [3, 4]])\n",
    "a2 = np.array([[5, 6], [7, 8]])\n",
    "print(a1 * a2)  # 요소별 곱셈 np.array 사용\n",
    "# [[ 5 12]\n",
    "#  [21 32]]"
   ]
  },
  {
   "cell_type": "code",
   "execution_count": 81,
   "metadata": {},
   "outputs": [
    {
     "name": "stdout",
     "output_type": "stream",
     "text": [
      "[[19 22]\n",
      " [43 50]]\n"
     ]
    }
   ],
   "source": [
    "print(np.dot(a1, a2)) # 배열의 행렬 곱셈을 위해 dot() 함수 사용\n",
    "# [[19 22]\n",
    "#  [43 50]]"
   ]
  },
  {
   "cell_type": "markdown",
   "metadata": {},
   "source": [
    "아래에서 보듯이, 곱하기 연산의 경우, array에 대해서는 요소별로 실제 곱셈을 하고, matrix는 ```dot()``` 연산을 한다."
   ]
  },
  {
   "cell_type": "code",
   "execution_count": 82,
   "metadata": {},
   "outputs": [
    {
     "name": "stdout",
     "output_type": "stream",
     "text": [
      "xTx: [ 1  4  9 16]\n",
      "_xT_x: [[ 1  2  3  4]\n",
      " [ 2  4  6  8]\n",
      " [ 3  6  9 12]\n",
      " [ 4  8 12 16]]\n"
     ]
    }
   ],
   "source": [
    "import numpy as np\n",
    "x=np.array([1,2,3,4])\n",
    "_x=np.asmatrix(x)\n",
    "print(\"xTx:\",x.T*x)\n",
    "print(\"_xT_x:\",_x.T*_x)"
   ]
  },
  {
   "cell_type": "markdown",
   "metadata": {},
   "source": [
    "인덱싱을 하면:\n",
    "- array는 동일하거나 낮은 차원을 반환\n",
    "- matrix는 2차원을 유지한 반환"
   ]
  },
  {
   "cell_type": "code",
   "execution_count": 83,
   "metadata": {},
   "outputs": [
    {
     "name": "stdout",
     "output_type": "stream",
     "text": [
      "[1 2 3]\n",
      "[[1 2 3]]\n"
     ]
    }
   ],
   "source": [
    "a = np.array([[1, 2, 3], [4, 5, 6]])\n",
    "print(a[0])  # Returns a 1D array: array([1, 2, 3])\n",
    "m = np.matrix([[1, 2, 3], [4, 5, 6]])\n",
    "print(m[0])  # Returns a 1x3 matrix: matrix([[1, 2, 3]])"
   ]
  },
  {
   "cell_type": "code",
   "execution_count": null,
   "metadata": {},
   "outputs": [],
   "source": []
  },
  {
   "cell_type": "markdown",
   "metadata": {},
   "source": [
    "## 2.13 곱의 계산\n",
    "\n",
    "numpy에서 cross와 dot 함수는 벡터와 행렬의 곱을 계산하는 데 사용되며, 1차원 벡터와 2차원 행렬에 대해 다르게 동작한다.\n",
    "\n",
    "특히 차원과 형상이 다르면 ValueError가 발생할 수 있다. 예를 들어, (3,) 형태의 벡터와 (2, 3) 형태의 행렬은 곱할 수 없다.\n",
    "\n",
    "- (1) 1d array cross\n",
    "\n",
    "```\n",
    "a=(a1 a2 a3)\n",
    "\n",
    "b=(b1 b2 b3)\n",
    "\n",
    "a cross b = (a2b3 - a3b2)i + (a3b1 - a1b3)j + (a1b2 - a2b1)k\n",
    "```"
   ]
  },
  {
   "cell_type": "code",
   "execution_count": 80,
   "metadata": {},
   "outputs": [
    {
     "name": "stdout",
     "output_type": "stream",
     "text": [
      "crossByHand: [-23  -2  14]\n",
      "np.cross: [-23  -2  14]\n"
     ]
    }
   ],
   "source": [
    "import numpy as np\n",
    "a=np.array( [4,3,7] )\n",
    "b=np.array( [2,5,4] )\n",
    "\n",
    "i=a[1]*b[2] - a[2]*b[1]\n",
    "j=a[2]*b[0] - a[0]*b[2]\n",
    "k=a[0]*b[1] - a[1]*b[0]\n",
    "a_cross_b=np.array( [i,j,k] )\n",
    "print(f\"crossByHand: {a_cross_b}\\nnp.cross: {np.cross(a,b)}\") # array([-23,  -2,  14])"
   ]
  },
  {
   "cell_type": "markdown",
   "metadata": {},
   "source": [
    "- (2) 1d array dot\n",
    "\n",
    "1st row x 1st column해서 같은 식으로.\n",
    "```\n",
    "a dot b = a1b1 + a2b2 + a3b3\n",
    "\n",
    "a_dot_b=a[0]*b[0] + a[1]*b[1] + a[2]*b[2]\n",
    "```"
   ]
  },
  {
   "cell_type": "code",
   "execution_count": 81,
   "metadata": {},
   "outputs": [
    {
     "data": {
      "text/plain": [
       "51"
      ]
     },
     "execution_count": 81,
     "metadata": {},
     "output_type": "execute_result"
    }
   ],
   "source": [
    "np.dot(a,b)  # 51"
   ]
  },
  {
   "cell_type": "markdown",
   "metadata": {},
   "source": [
    "- (3) 2d array cross\n",
    "\n",
    "\n",
    "```python\n",
    "2*2-3*4, 3*1-1*2, 1*4-2*1\n",
    "5*6-6*3, 6*5-4*6, 4*3-5*5\n",
    "  ([[ -8,   1,   2],\n",
    "    [ 12,   6, -13]])\n",
    "```"
   ]
  },
  {
   "cell_type": "code",
   "execution_count": 82,
   "metadata": {},
   "outputs": [
    {
     "data": {
      "text/plain": [
       "array([[ -8,   1,   2],\n",
       "       [ 12,   6, -13]])"
      ]
     },
     "execution_count": 82,
     "metadata": {},
     "output_type": "execute_result"
    }
   ],
   "source": [
    "a=([[1, 2, 3],\n",
    "    [4, 5, 6]])\n",
    "b=([[1, 4, 2],\n",
    "    [5, 3, 6]])\n",
    "np.cross(a,b) #array([[ -8,   1,   2], [ 12,   6, -13]])"
   ]
  },
  {
   "cell_type": "markdown",
   "metadata": {},
   "source": [
    "- (4) 2d array dot\n",
    "\n",
    "아래 a b의 dot product은 안된다.\n",
    "b를 b.T로 변경\n",
    "\n",
    "1st row x 1st col, 1st row x 2nd col \n",
    "이런 식으로 하는 이유는\n",
    "\n",
    "아래와 같이 판매\n",
    "\n",
    "- 판매가 (아메리카노 4000, 카페라테 4500)\n",
    "```\n",
    "           월 화 수 목 금\n",
    "아메리카노 10 20 30 20 10\n",
    "카페라떼   11 21 31 21 11\n",
    "```\n",
    "매출액을 계산하면.\n",
    "\n",
    "r1xc1 x r2xc2 = r1xc2\n",
    "\n",
    "a는 2x3 b.T는 3x2이므로 결과는 2x2"
   ]
  },
  {
   "cell_type": "code",
   "execution_count": 83,
   "metadata": {},
   "outputs": [
    {
     "data": {
      "text/plain": [
       "array([[15, 29],\n",
       "       [36, 71]])"
      ]
     },
     "execution_count": 83,
     "metadata": {},
     "output_type": "execute_result"
    }
   ],
   "source": [
    "a=np.array([[1, 2, 3],[4, 5, 6]])\n",
    "b=np.array([[1, 4, 2],[5, 3, 6]])\n",
    "np.dot(a,b.T) # array([[15, 29], [36, 71]])"
   ]
  },
  {
   "cell_type": "code",
   "execution_count": null,
   "metadata": {},
   "outputs": [],
   "source": []
  },
  {
   "cell_type": "markdown",
   "metadata": {},
   "source": [
    "## 2.14 Record Array\n",
    "\n",
    "Record Array는 구조화된 배열 (structured array)의 형식이고, 다양한 데이터 타입을 각 필드에 저장할 수 있다.\n",
    "pandas DataFrame 없이도 열 이름으로 dot 접근이 가능하게 해준다.\n",
    "\n",
    "Numpy에서 구조화 배열을 생성할 때, 데이터 타입을 정의하는 dtype을 지정해야 한다. 이때, 데이터는 일반적으로 튜플로 제공된다. 예를 들어, np.array([(1, 2, 3), (4, 5, 6)], dtype=[('a', 'i4'), ('b', 'i4'), ('c', 'i4')])과 같이 사용한다.\n",
    "\n",
    "이는 튜플이 불변(immutable)이고 각 필드의 데이터가 고정된 형태로 저장되기 때문에, Numpy가 데이터 필드를 명확하게 해석할 수 있다. 그러나, 리스트를 사용할 경우에도 구조화 배열을 생성할 수 있다."
   ]
  },
  {
   "cell_type": "code",
   "execution_count": 13,
   "metadata": {},
   "outputs": [
    {
     "name": "stdout",
     "output_type": "stream",
     "text": [
      "['b' 's' 'q' 's' 'q']\n"
     ]
    }
   ],
   "source": [
    "import numpy as np\n",
    "\n",
    "_dt=np.dtype( {'names': ['A','B','C'], 'formats':['a1','a1','a1'] } ) # a1: 길이1의 문자열, S1: 바이트 문자열\n",
    "npRarr=np.array(\n",
    "   [('m', 'b', 't'),\n",
    "    ('m', 's', 't'),\n",
    "    ('g', 'q', 't'),\n",
    "    ('h', 's', 't'),\n",
    "    ('g', 'q', 't'),\n",
    "    ('g', 'q', 'f'),\n",
    "    ('g', 's', 'f'),\n",
    "    ('h', 'b', 'f'),\n",
    "    ('h', 'q', 'f'),\n",
    "    ('m', 'b', 'f')],dtype=_dt) # 구조화 배열 생성\n",
    "_x=np.array(npRarr.tolist(), dtype=str) # 일반 배열로 변환\n",
    "_xT=_x.T # convert columnwise 열단위로 변환\n",
    "print(_xT[1][_xT[2]=='t']) # slicing columnwise data --> ['b' 's' 'q' 's' 'q']"
   ]
  },
  {
   "cell_type": "markdown",
   "metadata": {},
   "source": [
    "- 코드 _dt:\n",
    "    - a1은 길이가 1인 ASCII 문자열, S1 길이1의 바이트 문자열 (byte string) 을 의미한다. S1을 사용하는 것이 더 일반적이다.\n",
    "- 코드 np.array(npRarr.tolist(), dtype=str) --> dtype=str로 정해주어야 슬라이싱이 가능하다.\n"
   ]
  },
  {
   "cell_type": "code",
   "execution_count": 16,
   "metadata": {},
   "outputs": [
    {
     "name": "stdout",
     "output_type": "stream",
     "text": [
      "[(1. , 2) (0.5, 1)]\n"
     ]
    }
   ],
   "source": [
    "x=np.array( [ (1.0,2),(.5,1) ], dtype=[ ('x',float), ('y',int) ] )\n",
    "print(x) # array([(1.0, 2),(0.5, 1)], dtype=[('x','<f8'),('y','<i8')])"
   ]
  },
  {
   "cell_type": "markdown",
   "metadata": {},
   "source": [
    "Record Array는 .view(np.recarray) numpy.recarray 클래스를 사용해 구현하면, 필드에 속성처럼(data.x) 접근할 수 있다."
   ]
  },
  {
   "cell_type": "code",
   "execution_count": 17,
   "metadata": {},
   "outputs": [
    {
     "name": "stdout",
     "output_type": "stream",
     "text": [
      "[1.  0.5]\n",
      "[2 1]\n",
      "3\n",
      "1.5\n"
     ]
    }
   ],
   "source": [
    "x=x.view(np.recarray) # view는 배열을 recarray로 변환 (메모리를 사용하지 않고)\n",
    "print(x.x) # array([ 1., 0.5])\n",
    "\n",
    "print(x.y) # array([2, 1])\n",
    "\n",
    "print(x.y.sum()) # 3\n",
    "\n",
    "print(x.y.mean()) # 1.5\n",
    "\n"
   ]
  },
  {
   "cell_type": "markdown",
   "metadata": {},
   "source": [
    "## 2.15 파일\n",
    "\n",
    "또 다른 예제:\n",
    "np.array()를 사용하여 세 개의 튜플 (1.5, 2.5, 'big'), (3.0, 4.0, 'small'), (1.0, 3.0, 'medium')으로 이루어진 배열을 생성\n",
    "- 'x' 필드: 32비트 부동소수점('f4').\n",
    "- 'y' 필드: 32비트 부동소수점(np.float32).\n",
    "- 'z' 필드: 길이 6의 문자열('a6')."
   ]
  },
  {
   "cell_type": "code",
   "execution_count": 21,
   "metadata": {},
   "outputs": [
    {
     "name": "stdout",
     "output_type": "stream",
     "text": [
      "C:\\Users\\admin\n",
      "C:\\Users\\admin\\Code\\git\\bb\\jsl\\pyds\n",
      "C:\\Users\\admin\\Code\\git\\bb\\jsl\\pyds\\nparr.csv\n"
     ]
    }
   ],
   "source": [
    "import os\n",
    "homepath=os.path.expanduser('~') # 윈도우 리눅스 모두 가능\n",
    "print(homepath)\n",
    "print(os.getcwd())\n",
    "print(os.path.join(homepath, os.getcwd(),'nparr.csv'))"
   ]
  },
  {
   "cell_type": "code",
   "execution_count": null,
   "metadata": {},
   "outputs": [],
   "source": [
    "구조화 배열을 다룰 때는 np.save와 np.load를 사용하여 바이너리 파일로 저장하고 읽는 것이 좋다."
   ]
  },
  {
   "cell_type": "code",
   "execution_count": 48,
   "metadata": {},
   "outputs": [
    {
     "name": "stdout",
     "output_type": "stream",
     "text": [
      "Loaded data: [(11., 22. , b'big') ( 3.,  4.5, b'small')]\n"
     ]
    }
   ],
   "source": [
    "import numpy as np\n",
    "import os\n",
    "\n",
    "npRarr = np.array([(11.0, 22.0, 'big'), (3.0, 4.5, 'small')],\n",
    "                  dtype=[('x', 'f4'), ('y', 'f4'), ('z', 'S6')])\n",
    "\n",
    "homepath = os.path.expanduser(\"~\")\n",
    "file_path = os.path.join(homepath, os.getcwd(),'nparrbin.npy')\n",
    "\n",
    "np.save(file_path, npRarr) # 바이너리 파일로 저장\n",
    "\n",
    "npRarrLoaded = np.load(file_path)  # save로 쓴 바이너리를 읽는다\n",
    "print(\"Loaded data:\", npRarrLoaded)"
   ]
  },
  {
   "cell_type": "markdown",
   "metadata": {},
   "source": [
    "일반 배열을 텍스트 형식으로 저장하고 읽을 때는 np.savetxt와 np.genfromtxt를 사용할 수 있다. 이때 포맷과 데이터 타입이 일치해야 한다.\n",
    "\n",
    "np.genfromtxt('data.csv', names=True, delimiter=',', dtype=None)\n",
    "* names=True하면, 첫째 행을 데이터명으로 간주.\n",
    "* 또는 missing을 처리하는 것이 가능(masked)\n",
    "\n",
    "np.loadtxt('data.csv', skiprows=1, delimiter=',', usecols=(1,2,3))\n",
    "    * 파일을 읽을 경우 헤더를 제외하고, 특정 컬럼을 읽어 올 수 있다.\n",
    "    * np.genfromtxt는 더 다양한 기능을 제공."
   ]
  },
  {
   "cell_type": "code",
   "execution_count": 50,
   "metadata": {},
   "outputs": [
    {
     "name": "stdout",
     "output_type": "stream",
     "text": [
      "Loaded data: [(11., 22., 'big') ( 1.,  2., 'small')]\n"
     ]
    }
   ],
   "source": [
    "import numpy as np\n",
    "import os\n",
    "\n",
    "npRarr = np.array([(11.0, 22.0, 'big'), (1.0, 2.0, 'small')],\n",
    "                  dtype=[('x', 'f4'), ('y', 'f4'), ('z', 'S6')])\n",
    "npRarrList = np.array(list(map(lambda x: (x[0], x[1], x[2].decode('utf-8')), npRarr))) # 구조화 배열이 아닌 일반 배열로 변환\n",
    "\n",
    "homepath = os.path.expanduser(\"~\")\n",
    "file_path = os.path.join(homepath, 'nparrtxt.csv')\n",
    "\n",
    "np.savetxt(file_path, npRarrList, delimiter=',', fmt='%s')\n",
    "\n",
    "npRarrListLoaded = np.genfromtxt(file_path, delimiter=',', dtype=None, encoding=None)\n",
    "print(\"Loaded data:\", npRarrListLoaded)"
   ]
  },
  {
   "cell_type": "markdown",
   "metadata": {},
   "source": [
    "## 2.16 확률\n",
    "\n",
    "- factorial\n",
    "\n",
    "gamma(n) = factorial(n-1)\n",
    "\n",
    "감마 함수는 주로 실수와 복소수에서 정의되며, 양의 정수 n에 대해서는 (n-1)! 즉, (n-1) 팩토리얼과 같다."
   ]
  },
  {
   "cell_type": "code",
   "execution_count": 57,
   "metadata": {},
   "outputs": [
    {
     "data": {
      "text/plain": [
       "24.0"
      ]
     },
     "execution_count": 57,
     "metadata": {},
     "output_type": "execute_result"
    }
   ],
   "source": [
    "math.gamma(4+1)"
   ]
  },
  {
   "cell_type": "code",
   "execution_count": 61,
   "metadata": {
    "scrolled": true
   },
   "outputs": [
    {
     "name": "stdout",
     "output_type": "stream",
     "text": [
      "math factorial: 24\n",
      "numpy prod: 24\n"
     ]
    }
   ],
   "source": [
    "import math\n",
    "print(f\"math factorial: {math.factorial(4)}\") # python math 이용\n",
    "\n",
    "print(f\"numpy prod: {np.prod(range(1,5))}\") # numpy를 이용"
   ]
  },
  {
   "cell_type": "markdown",
   "metadata": {},
   "source": [
    "- product\n",
    "\n",
    "multiplication의 확장.\n",
    "\n",
    "$$\n",
    "\\prod _{i=1}^k\\ p_i^{\\alpha_i}\n",
    "$$\n",
    "\n",
    "이항계산 - 4회 앞면 2번, 뒷면 2번"
   ]
  },
  {
   "cell_type": "code",
   "execution_count": 120,
   "metadata": {},
   "outputs": [
    {
     "data": {
      "text/plain": [
       "0.0625"
      ]
     },
     "execution_count": 120,
     "metadata": {},
     "output_type": "execute_result"
    }
   ],
   "source": [
    "np.prod( [pow(0.5,2), pow(0.5,2)] ) # 0.0625"
   ]
  },
  {
   "cell_type": "markdown",
   "metadata": {},
   "source": [
    "람다함수를 사용해서 구하면"
   ]
  },
  {
   "cell_type": "code",
   "execution_count": 123,
   "metadata": {},
   "outputs": [
    {
     "name": "stdout",
     "output_type": "stream",
     "text": [
      "0.5^2: 0.25\n",
      "0.5^4: 0.0625\n"
     ]
    }
   ],
   "source": [
    "x=lambda x,y: pow(x,y)\n",
    "print(f\"0.5^2: {x(0.5,2)}\") # 0.25\n",
    "print(f\"0.5^4: {np.prod( [x(0.5,2),x(0.5,2)] )}\") #0.0625"
   ]
  },
  {
   "cell_type": "markdown",
   "metadata": {},
   "source": [
    "다항 계산 - 0.2 1회, 0.3 2회, 0.5 3회"
   ]
  },
  {
   "cell_type": "code",
   "execution_count": 125,
   "metadata": {},
   "outputs": [
    {
     "name": "stdout",
     "output_type": "stream",
     "text": [
      "0.00225\n",
      "0.00225\n"
     ]
    }
   ],
   "source": [
    "print(np.prod( [pow(0.2,1), pow(0.3,2), pow(0.5,3)] )) # 0.0022499999999999998\n",
    "print(np.prod( [x(0.2,1), x(0.3,2), x(0.5,3)] )) # 0.0022499999999999998"
   ]
  },
  {
   "cell_type": "markdown",
   "metadata": {},
   "source": [
    "위 계산에 따라 다항확률을 구해보면 값이 맞음을 확인 할 수 있다.\n",
    "$$\n",
    "\\Pr(A=1,B=2,C=3) = \\frac{6!}{1! 2! 3!}(0.2^1) (0.3^2) (0.5^3) = 60 * 0.00225 = 0.135 \n",
    "$$"
   ]
  },
  {
   "cell_type": "markdown",
   "metadata": {},
   "source": [
    "## 2.17 선형대수 모듈\n",
    "\n",
    "numpy는 선형 대수 (linear algebra) 모듈을 제공하는데, 벡터, 행렬, 연립방정식, 변환, 고유값 등을 포함한다.\n",
    "\n",
    "| 기능                        | 함수                         | 설명                              |\n",
    "| ------------------------- | -------------------------- | ------------------------------- |\n",
    "| **전치(Transpose)**         | `A.T`                      | 행과 열을 뒤바꾼 행렬                    |\n",
    "| **역행렬(Inverse)**          | `np.linalg.inv(A)`         | 정방행렬 A의 역행렬                     |\n",
    "| **행렬식(Determinant)**      | `np.linalg.det(A)`         | 행렬 A의 determinant 계산            |\n",
    "| **고유값/고유벡터**              | `np.linalg.eig(A)`         | A의 eigenvalues와 eigenvectors 반환 |\n",
    "| **선형 연립방정식 풀이**           | `np.linalg.solve(A, b)`    | Ax = b 형태의 방정식 해                |\n",
    "| **특이값 분해(SVD)**           | `np.linalg.svd(A)`         | 행렬을 U, Σ, V^T로 분해               |\n",
    "| **노름(Norm)**              | `np.linalg.norm(x)`        | 벡터 또는 행렬의 크기 계산                 |\n",
    "| **행렬 랭크(Rank)**           | `np.linalg.matrix_rank(A)` | 행렬 A의 선형 독립 열 개수                |\n",
    "| **조건수(Condition Number)** | `np.linalg.cond(A)`        | 선형 시스템 안정성 판단                   |\n",
    "\n",
    "- 변환\n",
    "\n",
    "1차원 배열에서 전치(transpose) 연산을 수행하면 배열은 변환되지 않고 원래 배열과 동일하게 유지된다. \n",
    "\n",
    "A.T=A라는 등식이 성립한다.\n",
    "\n",
    "내적 계산, 전치는 벡터를 행 벡터 <-> 열 벡터 로 바꿔 곱셈 연산을 가능하게 하거나, 대칭 행렬과 특성분석에 요긴하게 쓰인다.\n",
    "\n",
    "1차원 배열은 수학적으로 벡터와 같은 개념으로, 방향(행 또는 열)을 지정할 필요가 없다. 2차원 이상의 배열에서는 전치 연산이 행과 열을 바꾸는 효과가 있지만, 1차원 배열에서는 전치할 행이나 열의 개념이 없기 때문에 원래 배열과 전치된 배열이 동일하게 유지된다.\n"
   ]
  },
  {
   "cell_type": "code",
   "execution_count": 3,
   "metadata": {},
   "outputs": [
    {
     "name": "stdout",
     "output_type": "stream",
     "text": [
      "[ 9  7 11 12  8]\n"
     ]
    }
   ],
   "source": [
    "import numpy as np\n",
    "x=np.array([9,7,11,12,8])\n",
    "print(x.T) #[ 9,  7, 11, 12,  8]"
   ]
  },
  {
   "cell_type": "markdown",
   "metadata": {},
   "source": [
    "2차원 배열(또는 행렬)의 전치 행렬을 다시 전치하면 원래 행렬로 돌아온다.\n",
    "\n",
    "$$\n",
    "(A^T)^T = A\n",
    "$$"
   ]
  },
  {
   "cell_type": "code",
   "execution_count": 4,
   "metadata": {},
   "outputs": [
    {
     "name": "stdout",
     "output_type": "stream",
     "text": [
      "[[ 5  4]\n",
      " [-8  0]\n",
      " [ 1  0]]\n",
      "[[ 5 -8  1]\n",
      " [ 4  0  0]]\n"
     ]
    }
   ],
   "source": [
    "A=np.array([[5,-8,1],[4,0,0]])\n",
    "print(A.T) # [[ 5  4] [-8  0] [ 1  0]]\n",
    "\n",
    "print(A.T.T) # [[ 5 -8  1] [ 4  0  0]]"
   ]
  },
  {
   "cell_type": "markdown",
   "metadata": {},
   "source": [
    "아래 식 우변 x의 가중합계제곱 (weighted sum of squares)는 \n",
    "아래 식 좌변의 x에 Dw를 곱하고, x.T를 곱하는 것과 같음.\n",
    "\n",
    "$$\n",
    "x D_w x^T=\\sum_{i=1}^n w_i x_i^2\n",
    "$$\n",
    "\n",
    "- 좌변\n",
    "    - x는 n x 1 벡터\n",
    "    - 𝐷_w는 n×n 대각 행렬(diagonal matrix)로, 대각선 요소는 각 w_i 가중치\n",
    "    - x^T는 1 x n 백터로 x의 전치 행렬\n",
    "\n",
    "- 우변: 이 값은 가중치  w_i에 따라 x_i^2의 기여도를 조정하여 합산한 값\n"
   ]
  },
  {
   "cell_type": "code",
   "execution_count": 5,
   "metadata": {},
   "outputs": [
    {
     "name": "stdout",
     "output_type": "stream",
     "text": [
      "162.39\n"
     ]
    }
   ],
   "source": [
    "w=np.array([0.1,0.25,0.12,0.45,0.98])\n",
    "x=np.array([9,7,11,12,8])\n",
    "#x.T=x (1d array이라서)\n",
    "y=np.dot(x,np.dot(np.diag(w),x)) #162.39\n",
    "print(np.sum(w*x**2)) #162.39"
   ]
  },
  {
   "cell_type": "markdown",
   "metadata": {},
   "source": [
    "또한 3개의 벡터를 곱하는 것은\n",
    "\n",
    "$$\n",
    "x D_w y^T=\\sum_{i=1}^n w_i x_i y_i\n",
    "$$"
   ]
  },
  {
   "cell_type": "markdown",
   "metadata": {},
   "source": [
    "- Euclidean norm (parallelogram)\n",
    "\n",
    "||a|| = sqrt(a.a)\n",
    "\n",
    "$$\n",
    "\\| a \\| = \\sqrt{a.a}\n",
    "$$\n",
    "\n",
    "sqrt( (a1 - b1)^2 + (a2 - b2)^2 + (a3 - b3)^2 )"
   ]
  },
  {
   "cell_type": "code",
   "execution_count": 79,
   "metadata": {},
   "outputs": [
    {
     "name": "stdout",
     "output_type": "stream",
     "text": [
      "1.4142135623730951\n",
      "1.4142135623730951\n",
      "1.4142135623730951\n"
     ]
    }
   ],
   "source": [
    "a=np.array([3,5,7])\n",
    "b=np.array([2,5,8])\n",
    "\n",
    "print(np.linalg.norm(a-b)) # 4.1231056256176606\n",
    "print(np.sqrt(np.sum((a-b)**2))) # 4.1231056256176606\n",
    "print(np.sqrt( (a[0]-b[0])**2 + (a[1]-b[1])**2 + (a[2]-b[2])**2 )) # 4.1231056256176606"
   ]
  },
  {
   "cell_type": "markdown",
   "metadata": {},
   "source": [
    "- 행렬식 determinant\n",
    "\n",
    "행렬식은 행렬이 얼마나 공간을 \"늘리거나 줄이는\"지에 대한 척도이다. 주로 행렬이 가역적인지(역행렬이 존재하는지) 판단하는 데 사용된다.\n",
    "\n",
    "The plus (minus) sign is taken if the permutation ( $j_1, j_2 \\cdots j_n$ ) is even (odd)\n",
    "\n",
    "$$\n",
    "\\det(A) =  a_{1,1} a_{2,2} \\cdots a_{n,n} = \\prod_{i=1}^n a_{i,i}\n",
    "$$\n",
    "\n",
    "$$\n",
    "\\begin{vmatrix}\n",
    " a & b\\\\c & d\n",
    "\\end{vmatrix}=ad - bc\n",
    "$$\n",
    "\n",
    "짝수번째에는 +. 홀수번째에는 -를 곱함.\n",
    "\n",
    "$$\n",
    "\\begin{align}\n",
    "    \\begin{vmatrix}\n",
    "        a&b&c\\\\d&e&f\\\\g&h&i\n",
    "    \\end{vmatrix}\n",
    "& = a\\begin{vmatrix}e&f\\\\h&i\\end{vmatrix}\n",
    "    -b\\begin{vmatrix}d&f\\\\g&i\\end{vmatrix}\n",
    "    +c\\begin{vmatrix}d&e\\\\g&h\\end{vmatrix} \\\\\n",
    "& = a(ei-fh)-b(di-fg)+c(dh-eg) \\\\\n",
    "& = aei+bfg+cdh-ceg-bdi-afh.\n",
    "\\end{align}\n",
    "$$\n"
   ]
  },
  {
   "cell_type": "code",
   "execution_count": 67,
   "metadata": {},
   "outputs": [
    {
     "name": "stdout",
     "output_type": "stream",
     "text": [
      "-10.000000000000002\n"
     ]
    }
   ],
   "source": [
    "a=np.array([[3,4],[1,-2]])\n",
    "print(np.linalg.det(a))"
   ]
  },
  {
   "cell_type": "markdown",
   "metadata": {},
   "source": [
    "- 역행렬\n",
    "\n",
    "역행렬은 주어진 행렬을 곱했을 때 단위 행렬(identity matrix)을 만드는 행렬이다. 단, 역행렬은 모든 행렬에 존재하지 않는다.\n",
    "\n",
    "주어진 정방행렬(정사각형 모양의 행렬)의 역행렬을 보자.\n"
   ]
  },
  {
   "cell_type": "code",
   "execution_count": 74,
   "metadata": {},
   "outputs": [
    {
     "name": "stdout",
     "output_type": "stream",
     "text": [
      "det: 6.66133814775094e-16\n",
      "inv: [[ 3.00239975e+15 -9.00719925e+15  1.50119988e+15]\n",
      " [-3.00239975e+15  9.00719925e+15 -1.50119988e+15]\n",
      " [-3.00239975e+15  9.00719925e+15 -1.50119988e+15]]\n"
     ]
    }
   ],
   "source": [
    "A = np.array([[3, 2, 1],[2, 1, 1],[6, 2, 4]])\n",
    "print(f\"det: {np.linalg.det(A)}\")\n",
    "print(f\"inv: {np.linalg.inv(A)}\") # 역행렬"
   ]
  },
  {
   "cell_type": "markdown",
   "metadata": {},
   "source": [
    "- QR 분해\n"
   ]
  },
  {
   "cell_type": "code",
   "execution_count": 72,
   "metadata": {
    "scrolled": true
   },
   "outputs": [
    {
     "name": "stdout",
     "output_type": "stream",
     "text": [
      "Q: [[-0.12309149  0.90453403  0.40824829]\n",
      " [-0.49236596  0.30151134 -0.81649658]\n",
      " [-0.86164044 -0.30151134  0.40824829]]\n",
      "R: [[-8.12403840e+00 -9.60113630e+00 -1.10782342e+01]\n",
      " [ 0.00000000e+00  9.04534034e-01  1.80906807e+00]\n",
      " [ 0.00000000e+00  0.00000000e+00 -7.58790979e-16]]\n"
     ]
    }
   ],
   "source": [
    "matrix = np.array([[1, 2, 3], [4, 5, 6], [7, 8, 9]])\n",
    "Q, R = np.linalg.qr(matrix)\n",
    "print(f\"Q: {Q}\\nR: {R}\")"
   ]
  },
  {
   "cell_type": "code",
   "execution_count": null,
   "metadata": {},
   "outputs": [],
   "source": [
    "- 특이값 분해 (SVD)\n",
    "\n",
    "행렬을 특이값 분해하여 데이터를 축소하거나 노이즈를 줄이는 등 다양한 응용에 사용된다.\n"
   ]
  },
  {
   "cell_type": "code",
   "execution_count": null,
   "metadata": {},
   "outputs": [],
   "source": [
    "matrix = np.array([[1, 2], [3, 4], [5, 6]])\n",
    "U, S, V = np.linalg.svd(matrix)"
   ]
  },
  {
   "cell_type": "markdown",
   "metadata": {},
   "source": [
    "- 고유값, 고유벡터 계산\n",
    "\n",
    "고유값은 행렬을 곱했을 때 벡터의 방향이 변하지 않고 크기만 변하게 하는 스칼라 값이다. 이때 그 벡터는 고유벡터라고 한다.\n",
    "고유값과 고유벡터는 데이터 분석과 기계 학습에서 중요한 역할을 한다."
   ]
  },
  {
   "cell_type": "code",
   "execution_count": 77,
   "metadata": {},
   "outputs": [
    {
     "name": "stdout",
     "output_type": "stream",
     "text": [
      "고유값: [ 3. -1.]\n",
      "고유벡터: [[ 0.70710678 -0.70710678]\n",
      " [ 0.70710678  0.70710678]]\n"
     ]
    }
   ],
   "source": [
    "matrix = np.array([[1, 2], [2, 1]])\n",
    "eigenvalues, eigenvectors = np.linalg.eig(matrix)\n",
    "print(f\"고유값: {eigenvalues}\\n고유벡터: {eigenvectors}\")"
   ]
  },
  {
   "cell_type": "markdown",
   "metadata": {},
   "source": [
    "- rank"
   ]
  },
  {
   "cell_type": "code",
   "execution_count": 69,
   "metadata": {},
   "outputs": [
    {
     "name": "stdout",
     "output_type": "stream",
     "text": [
      "2\n"
     ]
    }
   ],
   "source": [
    "print(np.linalg.matrix_rank(a))"
   ]
  },
  {
   "cell_type": "code",
   "execution_count": null,
   "metadata": {},
   "outputs": [],
   "source": [
    "- 선형 방정식 \n",
    "\n",
    "Ax=b를 풀어서 x를 구한다."
   ]
  },
  {
   "cell_type": "code",
   "execution_count": 78,
   "metadata": {},
   "outputs": [
    {
     "data": {
      "text/plain": [
       "array([-4. ,  4.5])"
      ]
     },
     "execution_count": 78,
     "metadata": {},
     "output_type": "execute_result"
    }
   ],
   "source": [
    "A = np.array([[1, 2], [3, 4]])\n",
    "b = np.array([5, 6])\n",
    "np.linalg.solve(A, b)"
   ]
  },
  {
   "cell_type": "markdown",
   "metadata": {},
   "source": [
    "## 2.18 경고 메지지\n",
    "\n",
    "```np.warnings.filterwarnings('ignore')```는 오류메시지를 출력하지 않는다."
   ]
  },
  {
   "cell_type": "code",
   "execution_count": 50,
   "metadata": {},
   "outputs": [
    {
     "name": "stdout",
     "output_type": "stream",
     "text": [
      "결과: [0.5 inf nan 2. ]\n"
     ]
    }
   ],
   "source": [
    "import numpy as np\n",
    "\n",
    "np.warnings.filterwarnings('ignore')\n",
    "\n",
    "# 예: 0으로 나누기 같은 경고 발생할 수 있는 연산\n",
    "a = np.array([1, 2, 0, 4])\n",
    "b = np.array([2, 0, 0, 2])\n",
    "\n",
    "# 보통은 ZeroDivisionWarning 또는 RuntimeWarning 발생\n",
    "c = np.divide(a, b)\n",
    "\n",
    "print(\"결과:\", c)"
   ]
  },
  {
   "cell_type": "markdown",
   "metadata": {},
   "source": [
    "## 연습문제\n",
    "\n",
    "1. sys.executable를 출력하시오. 어떤 실행파일을 가리키고 있는지 확인하시오.\n",
    "\n",
    "3. 수익률은 가격 변화율이다. 무작위 수익률 시리즈 100개를 생성하시오.\n",
    "\n",
    "예제 코드 - 무작위 시리즈 생성:\n",
    "import random\n",
    "random.seed(13)\n",
    "[random.uniform(-0.05, 0.05) for _ in range(100)]\n",
    "\n",
    "map, reduce, lambda 함수를 적용하여 로그 수익률을 계산하시오.\n",
    "\n",
    "로그수익률은 수익률에 로그를 취하고 합산한 값이다.\n",
    "단순수익률은 수익률의 단순 합산이다.\n",
    "\n",
    "로그, 단순 수익률을 출력하시오.\n",
    "\n",
    "출력:\n",
    "로그 수익률의 합계: -0.4958\n",
    "단순 합계: -0.4973787222727564\n",
    "\n",
    "\n",
    "3. numpy를 사용하여, 0~10까지 10개 수의 1차원 배열을 생성하시오. 배열의 합계, 표준편차, 최대값의 인덱스를 소수점 2자리로 출력한다.\n",
    "\n",
    "출력예시\n",
    "sum: 50.00 std: 3.19 최대값 위치: 9\n",
    "\n",
    "4. 열린데이터광장과 공공데이터포털의 인증키를 신청하시오. 공공데이터포털에서는 다음 3건을 활용신청하고 마이페이지 API신청 내용을 (아래와 비슷하게) 출력한다.\n",
    "\n",
    "환경기상 한국환경공단\n",
    "연장신청 [승인] 한국환경공단_에어코리아_대기오염정보\n",
    "계정 개발 신청일 2024-09-14 만료예정일 2026-09-14\n",
    "\n",
    "교육 서울특별시교육청\n",
    "연장신청 [승인] 서울특별시교육청 공공도서관 소장도서정보\n",
    "계정 개발 신청일 2024-09-14 만료예정일 2026-09-14\n",
    "\n",
    "재난안전 한국도로교통공단\n",
    "연장신청 [승인] 도로교통공단_사망교통사고정보서비스\n",
    "계정 개발 신청일 2023-09-12 만료예정일 2025-09-12"
   ]
  },
  {
   "cell_type": "code",
   "execution_count": 1,
   "metadata": {},
   "outputs": [
    {
     "name": "stdout",
     "output_type": "stream",
     "text": [
      "sum: 50.00 std: 3.19 최대값 위치: 9\n"
     ]
    }
   ],
   "source": [
    "import numpy as np\n",
    "\n",
    "x = np.linspace(0, 10, num=10)\n",
    "print(f\"sum: {x.sum():.2f} std: {x.std():.2f} 최대값 위치: {x.argmax()}\")"
   ]
  },
  {
   "cell_type": "markdown",
   "metadata": {},
   "source": []
  },
  {
   "cell_type": "code",
   "execution_count": null,
   "metadata": {},
   "outputs": [],
   "source": []
  }
 ],
 "metadata": {
  "celltoolbar": "Slideshow",
  "kernelspec": {
   "display_name": "Python 3.9",
   "language": "python",
   "name": "python39"
  },
  "language_info": {
   "codemirror_mode": {
    "name": "ipython",
    "version": 3
   },
   "file_extension": ".py",
   "mimetype": "text/x-python",
   "name": "python",
   "nbconvert_exporter": "python",
   "pygments_lexer": "ipython3",
   "version": "3.9.1"
  }
 },
 "nbformat": 4,
 "nbformat_minor": 4
}
