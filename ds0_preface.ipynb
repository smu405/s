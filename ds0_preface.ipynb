{
 "cells": [
  {
   "cell_type": "markdown",
   "metadata": {
    "slideshow": {
     "slide_type": "slide"
    }
   },
   "source": [
    "# 시작에 앞서\n",
    "\n",
    "Last updated 202508_202408_202308_202009_201909\n",
    "\n",
    "## 빅데이터 분석\n",
    "\n",
    "데이터는 급증하고 있어 빅데이터라고 한다. 양적인 규모뿐만 아니라 텍스트, 영상, 음성 등 원천이 다양하고 실시간으로 발생하기도 한다.\n",
    "\n",
    "이른바 빅데이터의 3V(Volume, Variety, Velocity)이다 (Veracity(정확성, 신뢰성), Value(활용 가치)를 포함하여 5V라고 확장하기도 한다).\n",
    "\n",
    "바햐흐로, 데이터는 단순한 자원이 아니라 국가 경쟁력과 산업 혁신의 핵심 무기로 평가된다.\n",
    "\n",
    "데이터 분석은 정적인 작업이라고 말하기 어렵고, 다음 절차를 포함하는 동적인 작업이다.\n",
    "\n",
    "- 수집: 원천(웹, IoT, SNS 등)에서 데이터 확보\n",
    "- 저장/처리: 분산 환경(Hadoop, Spark 등)에 저장하고 전처리\n",
    "- 분석/모델링: 기계학습, 자연어처리, 추천, 예측, 분류, 군집화 등\n",
    "- 시각화/활용: 대시보드, 리포트, 비즈니스 의사결정, 자동화된 서비스로 연결\n",
    "\n",
    "## 누가 배워야 할까?\n",
    "\n",
    "빅데이터 처리, 분석하는 기법, 도구를 배우려면:\n",
    "\n",
    "- 프로그래밍 기초 지식: 데이터 처리에 필요한 프로그래밍 지식이 필요하다. 특히 Python, Pandas, Spark 등을 배우게 된다.\n",
    "- 수학 기초 지식: 통계, 기계 학습 등 데이터 분석의 핵심 개념을 이해하기 위해 기본적인 수학 지식이 요구된다.\n",
    "- 웹에 대한 기초 지식: 데이터 수집 등의 과정에서 웹 관련 지식이 필요할 수 있다.\n",
    "\n",
    "이 과목은 빅데이터의 수집, 정제, 저장, 분석, 시각화 등 모든 단계를 다루기보다는 분석에 초점을 맞춰 진행된다. 구체적으로는 Python, Pandas, 그리고 분산/병렬 처리를 위한 Spark를 활용해 데이터 처리, 통계 분석, 기계 학습 등을 배우게 된다."
   ]
  },
  {
   "cell_type": "markdown",
   "metadata": {
    "slideshow": {
     "slide_type": "slide"
    }
   },
   "source": [
    "## 누가 배워야 할 필요가 없을까?\n",
    "\n",
    "이 과목은 이러한 경우에는 적합하지 않을 수 있다.\n",
    "\n",
    "* 엑셀만으로 충분한 경우: 엑셀은 적은 양의 데이터를 다룰 때 매우 유용하다. 만약 다루는 데이터의 크기가 엑셀로 충분히 처리 가능하며, 기계 학습과 같은 복잡한 분석 기법을 사용할 필요가 없다면 이 과목은 불필요하다고 느껴질 수 있다. 엑셀의 VBA(Visual Basic for Applications)를 활용한 프로그래밍이 가능하지만, 빅데이터 분석에서는 일반적으로 사용되지 않는다.\n",
    "* **이론으로 또는 수식으로 풀어서** 데이터를 분석하는 경우 이 과목이 유용하지 않을 것이다. 이론을, 수식을 실행가능하게 변환한 매우 구체적인 작업이 프로그래밍이다. 데이터를 분석하는 단계를 구체적으로 실행하게 된다.\n",
    "* **GUI가 있는 패키지**를 통해 지원되는 기능을 실행하여 데이터를 분석하는 경우에는 이 과목이 어렵고 쓰임이 적다고 생각될 것이다. GUI를 통해 풀지 못하는 문제가 있으면 어떻게 하지? 이 과목은 대장장이, 데이터를 분석하는 장인이 되려는 경우에 필요하다."
   ]
  },
  {
   "cell_type": "markdown",
   "metadata": {
    "slideshow": {
     "slide_type": "slide"
    }
   },
   "source": [
    "## 특징\n",
    "\n",
    "* 프로그래밍을 도구로 데이터 분석을 하게 되니까, 직접 코딩을 해보는 경험이 중요하다(hands on experience). 그렇다고 Python, Spark의 프로그래밍 기초부터 배우는 것은 아니다. 기초는 알고 있다고 전제하고, 프로그래밍으로 어떻게 데이터를 읽고, 정제하고, 분석해야 하는지 응용 능력을 키우는 쪽으로 진행한다.\n",
    "* Python 환경에서 널리 사용되는 Jupyter Notebook을 사용한다. Python과 같은 인터프리터는 컴파일 언어에 비해 프로그래밍을 상호작용하면서 결과를 바로 확인할 수 있는 '재미'가 있다. Jupypter Notebook은 그러한 프로그래밍 상호작용을 지원할 뿐 아니라 문서 편집도 지원하고 있다.\n",
    "* 데이터를 분석하는 과정은 **창의적**이어야 한다. 문제에 대한 솔루션을 따라하기 보다는, **풀이하는 과정**을 배우도록 하는 '문제 중심'이다."
   ]
  },
  {
   "cell_type": "markdown",
   "metadata": {
    "slideshow": {
     "slide_type": "slide"
    }
   },
   "source": [
    "## 마치고 나면\n",
    "\n",
    "* 데이터를 보면, 이를 데이터를 분석할 수 있는 지식을 가지게 된다.\n",
    "* 데이터를 분석하는 경우, 특히 중요한 것은 **문제가 무엇인지 알아내는 것**이다. 데이터분석을 배우고 나면, 비로서 문제를 인지하고, 그 문제를 풀기 위해, 데이터를 분석할 수 있는 지식을 가지게 될 수 있다. 사례를 기획해서, 데이터 분석 프로젝트를 할 수 있다."
   ]
  },
  {
   "cell_type": "markdown",
   "metadata": {
    "slideshow": {
     "slide_type": "slide"
    }
   },
   "source": [
    "## 프로그래밍 언어의 선택\n",
    "\n",
    "프로그래밍은 '하는 법'을 배우는 것이 우선한다. 어떤 언어를 선택하는지는 덜 중요하다. 한국어이든 영어이든 내 의사를 표현할 수 있으면 된다. 어느 언어를 선택하든지, 프로그래밍하는 요소 및 방법을 배우면 다른 언어를 배우는 것은 문법의 문제일 뿐이다.\n",
    "이 강의에서는 데이터 분석에서 많이 널리 쓰이는 Python을 채택한다.\n",
    "\n",
    "월가에서 Python은 연구, 분석, 머신러닝, 프로토타이핑 분야에서 사실상 독점적 언어이다.\n",
    "실시간 초저지연 트레이딩(HFT)이나 대규모 백엔드 인프라에서는 여전히 C++/Java가 강세지만, 그 이전 단계(연구, 실험, 분석)는 거의 다 Python으로 진행된다.\n",
    "\n",
    "Python 인기는:\n",
    "* [TIOBE지수](https://www.tiobe.com/tiobe-index/) 그래프를 보면 2018년을 기준으로 상승하여 현재 최상위권,\n",
    "* [PYPL PopularitY of Programming Language](http://pypl.github.io) 역시 2018년 기준으로 상승추세, 현재 최상위권\n",
    "\n",
    "Python은 다양한 라이브러리를 제공하는데, Pandas, backtrader, sklearn, 빅데이터를 클러스터 방식으로 처리하는 Spark 등을 배우기로 한다."
   ]
  },
  {
   "cell_type": "markdown",
   "metadata": {
    "slideshow": {
     "slide_type": "slide"
    }
   },
   "source": [
    "## 프로그래밍에 임하는 자세\n",
    "\n",
    "* 무엇보다 어렵게 생각하지 않고 **스스로** 해보려는 의지가 있어야 한다. 작은 예제부터 따라 해보고 변형해보자.\n",
    "* 프로그래밍은 학습에 **일정한 시간이 투자**되어야 한다. 만시간의 법칙은 프로그래밍에도 당연히 적용된다. 너무 겁먹지 말자. 프로그래밍은 재능이 있는 사람만의 혜택은 결코 아니다. 매일 30분이라도 꾸준히 코딩해보자.\n",
    "* **실수**를 두렵다고 생각하지 말자. 오류가 나와도 좋다. 차츰 좋아지게 된다. 시작부터 오류를 경험하지 않고 배우는 사람은 없다. **프로그래밍의 실수는 컴퓨터가 화내는 것이 아니다. 고쳐야 할 부분을 '친철하게' 알려주는 것이다**.\n",
    "* 프로그래밍을 어렵다고 생각하지 말자. 자신이 어렵다고 생각하면, 작업을 실제 수행하는 컴퓨터는 더 어렵다. 컴퓨터에게 작업을 시키는 '나'의 문제로, 컴퓨터의 주인인 자신이 무엇을 어떻게 풀어나갈지 **논리적으로 잘 정리가 되어 있어야** 한다."
   ]
  },
  {
   "cell_type": "markdown",
   "metadata": {
    "slideshow": {
     "slide_type": "slide"
    }
   },
   "source": [
    "## 배우는 내용\n",
    "\n",
    "데이터를 수집, 정리, 저장, 분석, 시각화하는 단계를 프로그래밍으로 배운다.\n",
    "\n",
    "* (세모) 웹에서 데이터를 수집하는 크롤링 및 API\n",
    "* (세모) html, json, xml을 처리\n",
    "* (+) 주식분석\n",
    "* (세모) NoSql\n",
    "* (+) Spark map-reduce, machine learning\n",
    "* (+) Spark, Python numpy, Pandas 등\n",
    "* (+) RDD, DataFrame\n",
    "* (+) 통계, 그래프\n",
    "* (+) 데이터 변환, 자연어 처리\n",
    "* (+) 클러스터링\n",
    "* (+) 회귀분석, 로지스틱 회귀분석\n",
    "* (+) kNN, 의사결정트리, 베이지언, SVM, 추천\n",
    "\n",
    "## 주별 강의: 주식분석, 빅데이터분석\n",
    "\n",
    "주 | 일자 | 내용 | 실제\n",
    "-----|-----|-----|-----\n",
    "주 1 |  9월 1주 | 강의 소개, 환경설치, Python, Numpy\n",
    "주 2 |  9월 2주 | 오픈데이터 OAuth, REST API, XML, JSON, 공공데이터\n",
    "주 3 |  9월 3주 | 오픈데이터\n",
    "주 4 |  9월 4주 | 주식분석 Pandas, matplotlib\n",
    "주 5 |  10월 1주 | 백테스팅\n",
    "주 6 |  10월 2주 | 추석\n",
    "주 7 |  10월 3주 | 기계학습 백테스팅\n",
    "주 8 |  10월 4주 | 중간 시험 (수업시간 시험)\n",
    "주 9 |  10월 5주 | Spark RDD, map reduce\n",
    "주 10 |  11월 1주 | Spark Dataframe, schema, graph, plot\n",
    "주 11 |  11월 2주 | Spark Dataframe, groupby\n",
    "주 12 |  11월 3주 | 통계, histogram, boxplot, zscore, 윈도우 함수, Anova, 상관관계\n",
    "주 13 |  11월 4주 | 기계학습 소개, vectors, tokenizer, 자연어 처리 scikit-learn\n",
    "주 14 |  12월 1주 | 기계학습, 데이터변환, clustering\n",
    "주 15 |  12월 2주 | 기말시험 (수업시간 시험)"
   ]
  },
  {
   "cell_type": "markdown",
   "metadata": {},
   "source": [
    "빅데이터 관련 강좌는 매우 많은 국내외 대학에 개설되고 있으니 (chatGPT 생성), 무엇을 배우는지 본 강좌와 차이가 있는지 살펴보자.\n",
    "\n",
    "| 구분      | 대학                      | 학과/프로그램                       | 강의/과목 예시                                                                | 특징                                   | 사용 언어/도구                                |\n",
    "| ------- | ----------------------- | ----------------------------- | ----------------------------------------------------------------------- | ------------------------------------ | --------------------------------------- |\n",
    "| **국내**  | 서울대                     | 경제학부, 경영대, 컴퓨터공학부             | “빅데이터 분석”, “금융 데이터 분석”, “계량금융”                                          | 일반 빅데이터 분석 + 금융 데이터 분석, 포트폴리오·리스크 실습 | Python, R, SQL, Excel, Bloomberg API    |\n",
    "|         | 고려대                     | 데이터사이언스학과, 금융공학               | “빅데이터 분석 기초”, “머신러닝 기반 금융 분석”                                           | 금융시장 데이터, 머신러닝 모델 활용                 | Python, R, SQL                          |\n",
    "|         | 연세대                     | 경제학과, 경영학과, 컴퓨터과학과            | “데이터 과학 입문”, “금융 데이터 분석”, “데이터 마이닝”                                     | 주식/옵션/채권 데이터 분석, 통계 기반 리스크 평가        | Python, R, Excel                        |\n",
    "|         | 한양대                     | 경제학과, 경영학부, 데이터사이언스학과         | “빅데이터 분석 및 시각화”, “AI 기반 데이터 분석”                                         | 일반 빅데이터 + 금융 데이터 분석, 실습 중심           | Python, R, Spark                        |\n",
    "|         | 성균관대                    | 경제학과, 경영학과, 컴퓨터공학과            | “빅데이터 분석 기초”, “데이터 분석 및 시각화”                                            | 산업체 협력 프로젝트, 금융 데이터 포함               | Python, R, SQL                          |\n",
    "| **미국**  | MIT                     | CSAIL, Sloan School           | “Big Data Analytics”, “Financial Data Analysis”, “Quantitative Finance” | 일반 빅데이터 분석 + 금융 데이터, 머신러닝/AI 결합      | Python, R, Spark, MATLAB, Bloomberg API |\n",
    "|         | Stanford                | Statistics, CS                | “Data Mining and Applications”, “Financial Analytics”                   | 빅데이터 분석 + 금융 모델링                     | Python, R, SQL                          |\n",
    "|         | UC Berkeley             | School of Information, EECS   | “Data Science”, “Financial Data Science”, “Applied Machine Learning”    | 빅데이터 분석 + 금융 데이터 분석, 프로젝트 중심         | Python, R, Spark, Hadoop                |\n",
    "|         | Harvard                 | Data Science Initiative       | “Data Science 101”, “Data Science for Finance”                          | 일반 빅데이터 + 금융 데이터 분석, 시각화, 리스크 모델링    | Python, R, Excel                        |\n",
    "| **유럽**  | Oxford                  | CS Dept, Saïd Business School | “Big Data in Finance”, “Quantitative Finance”                           | 빅데이터 분석 + 금융 데이터, 통계/수학 기반           | Python, R, MATLAB                       |\n",
    "|         | ETH Zurich              | CS Dept                       | “Big Data Analytics”, “Machine Learning for Finance”                    | 빅데이터 처리 + 금융 분석                      | Python, R, Spark                        |\n",
    "|         | Imperial College London | Business & Computing          | “Financial Analytics & Big Data”                                        | 비즈니스·금융 데이터 분석, 실무 프로젝트              | Python, R, SQL                          |\n",
    "| **아시아** | NUS                     | School of Computing           | “Big Data Analytics”, “Financial Data Analytics”                        | 빅데이터 분석 + 금융 데이터, 머신러닝 응용            | Python, R, Spark                        |\n",
    "|         | Tsinghua                | CS Dept                       | “Big Data in Finance”, “Financial Analytics”                            | 금융·주식 데이터 분석 + AI/빅데이터               | Python, R, Spark                        |\n",
    "|         | KAIST                   | CS, 산업공학                      | “Big Data Analytics”, “Financial Data Analysis”                         | 실습 중심, 머신러닝·금융 데이터 분석                | Python, R, Spark                        |\n",
    "\n"
   ]
  },
  {
   "cell_type": "markdown",
   "metadata": {
    "slideshow": {
     "slide_type": "slide"
    }
   },
   "source": [
    "## 평가\n",
    "\n",
    "* 중간고사 30\n",
    "* 기말고사 40\n",
    "* 출석 5 ~ 10\n",
    "* 과제 20 ~ 25"
   ]
  },
  {
   "cell_type": "markdown",
   "metadata": {
    "slideshow": {
     "slide_type": "slide"
    }
   },
   "source": [
    "## 관련 자료\n",
    "\n",
    "* [강의자료](http://github.com/smu405/s)\n",
    "* [슬라이드](https://nbviewer.jupyter.org) smu405/s\n",
    "* x[클라우드 북](http://smu405.gitbooks.io/s)\n",
    "* [채팅](https://gitter.im/smu405/s)"
   ]
  },
  {
   "cell_type": "code",
   "execution_count": null,
   "metadata": {},
   "outputs": [],
   "source": []
  }
 ],
 "metadata": {
  "kernelspec": {
   "display_name": "Python 3 (ipykernel)",
   "language": "python",
   "name": "python3"
  },
  "language_info": {
   "codemirror_mode": {
    "name": "ipython",
    "version": 3
   },
   "file_extension": ".py",
   "mimetype": "text/x-python",
   "name": "python",
   "nbconvert_exporter": "python",
   "pygments_lexer": "ipython3",
   "version": "3.12.2"
  }
 },
 "nbformat": 4,
 "nbformat_minor": 4
}
