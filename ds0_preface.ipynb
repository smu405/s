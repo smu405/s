{
 "cells": [
  {
   "cell_type": "markdown",
   "metadata": {
    "slideshow": {
     "slide_type": "slide"
    }
   },
   "source": [
    "# 시작에 앞서\n",
    "\n",
    "Last updated 202408_202308_202009_201909\n",
    "\n",
    "## 누가 배워야 할까?\n",
    "\n",
    "빅데이터를 처리, 분석하는 기법, 도구를 배우려고 한다면 맞다!\n",
    "\n",
    "빅데이터의 분석이라고 하면 넓게 데이터의 수집, 정제, 저장, 분석, 시각화 및 결과보고까지 포함할 수 있다. 모든 단계를 상세하게 배우려면 한 권의 분량으로는 부족하다. 여기서는 분석에 초점을 맞추어 필요한 개념, 기법 및 도구를 배우기로 한다.\n",
    "\n",
    "데이터의 처리는 '프로그래밍'으로 하게 된다. 데이터 분석에 많이 쓰이는 Python과 Pandas 등 라이브러리를 사용하게 된다. 특히 분산, 병렬 처리가 가능한 Spark를 사용하여 데이터를 읽고, 변환하고, 통계, 기계학습을 배운다.\n",
    "\n",
    "이 과목을 수강하기 위해서는, 프로그래밍, 수학, 웹에 대한 기초 지식이 필요하다."
   ]
  },
  {
   "cell_type": "markdown",
   "metadata": {
    "slideshow": {
     "slide_type": "slide"
    }
   },
   "source": [
    "## 누가 배워야 할 필요가 없을까?\n",
    "\n",
    "이 과목은 프로그래밍으로 데이터를 분석하는 방법을 배운다.\n",
    "* **엑셀**을 이용해 분석 작업을 하려고 경우에는 이 과목이 어렵고 불필요하다고 생각될 것이다. 엑셀은 **데이터가 적은 경우**에 적합하고, **기계학습을 적용하기 매우 어렵겠다**. 내장된 비쥬얼베이직으로 프로그래밍한다면 가능할 수도 있겠지만, 누구도 그렇게 하지는 않을 것이다.\n",
    "* **이론으로 또는 수식으로 풀어서** 데이터를 분석하는 경우 이 과목이 유용하지 않을 것이다. 이론을, 수식을 실행가능하게 변환한 매우 구체적인 작업이 프로그래밍이다. 데이터를 분석하는 단계를 구체적으로 실행하게 된다.\n",
    "* **GUI가 있는 패키지**를 통해 지원되는 기능을 실행하여 데이터를 분석하는 경우에는 이 과목이 어렵고 쓰임이 적다고 생각될 것이다. GUI를 통해 풀지 못하는 문제가 있으면 어떻게 하지? 이 과목은 대장장이, 데이터를 분석하는 장인이 되려는 경우에 필요하다."
   ]
  },
  {
   "cell_type": "markdown",
   "metadata": {
    "slideshow": {
     "slide_type": "slide"
    }
   },
   "source": [
    "## 특징\n",
    "\n",
    "* 프로그래밍을 도구로 데이터 분석을 하게 되니까, 직접 코딩을 해보는 경험이 중요하다(hands on experience). 그렇다고 Python, Spark의 프로그래밍 기초부터 배우는 것은 아니다. 기초는 알고 있다고 전제하고, 프로그래밍으로 어떻게 데이터를 읽고, 정제하고, 분석해야 하는지 응용 능력을 키우는 쪽으로 진행한다.\n",
    "* Python 환경에서 널리 사용되는 Jupyter Notebook을 사용한다. Python과 같은 인터프리터는 컴파일 언어에 비해 프로그래밍을 상호작용하면서 결과를 바로 확인할 수 있는 '재미'가 있다. Jupypter Notebook은 그러한 프로그래밍 상호작용을 지원할 뿐 아니라 문서 편집도 지원하고 있다.\n",
    "* 데이터를 분석하는 과정은 **창의적**이어야 한다. 문제에 대한 솔루션을 따라하기 보다는, **풀이하는 과정**을 배우도록 하는 '문제 중심'이다."
   ]
  },
  {
   "cell_type": "markdown",
   "metadata": {
    "slideshow": {
     "slide_type": "slide"
    }
   },
   "source": [
    "## 마치고 나면\n",
    "\n",
    "* 데이터를 보면, 이를 데이터를 분석할 수 있는 지식을 가지게 된다.\n",
    "* 데이터를 분석하는 경우, 특히 중요한 것은 **문제가 무엇인지 알아내는 것**이다. 데이터분석을 배우고 나면, 비로서 문제를 인지하고, 그 문제를 풀기 위해, 데이터를 분석할 수 있는 지식을 가지게 될 수 있다. 사례를 기획해서, 데이터 분석 프로젝트를 할 수 있다."
   ]
  },
  {
   "cell_type": "markdown",
   "metadata": {
    "slideshow": {
     "slide_type": "slide"
    }
   },
   "source": [
    "## 프로그래밍 언어의 선택\n",
    "\n",
    "프로그래밍은 '하는 법'을 배우는 것이 우선한다. 어떤 언어를 선택하는지는 덜 중요하다. 한국어이든 영어이든 내 의사를 표현할 수 있으면 된다. 어느 언어를 선택하든지, 프로그래밍하는 요소 및 방법을 배우면 다른 언어를 배우는 것은 문법의 문제일 뿐이다.\n",
    "이 강의에서는 데이터 분석에서 많이 널리 쓰이는 Python을 배우기로 한다.\n",
    "Python 인기는:\n",
    "* [TIOBE지수](https://www.tiobe.com/tiobe-index/) 그래프를 보면 2018년을 기준으로 상승하여 현재 최상위권,\n",
    "* [PYPL PopularitY of Programming Language](http://pypl.github.io) 역시 2018년 기준으로 상승추세, 현재 최상위권\n",
    "\n",
    "Python은 다양한 라이브러리를 제공하는데, Pandas, backtrader, sklearn, 빅데이터를 클러스터 방식으로 처리하는 Spark 등을 배우기로 한다."
   ]
  },
  {
   "cell_type": "markdown",
   "metadata": {
    "slideshow": {
     "slide_type": "slide"
    }
   },
   "source": [
    "## 프로그래밍에 임하는 자세\n",
    "\n",
    "* 무엇보다 어렵게 생각하지 않고 **스스로** 해보려는 의지가 있어야 한다.\n",
    "* 프로그래밍은 학습에 **일정한 시간이 투자**되어야 한다. 만시간의 법칙은 프로그래밍에도 당연히 적용된다. 너무 겁먹지 말자. 프로그래밍은 재능이 있는 사람만의 혜택은 결코 아니다.\n",
    "* **실수**를 두렵다고 생각하지 말자. 오류가 나와도 좋다. 차츰 좋아지게 된다. 시작부터 오류를 경험하지 않고 배우는 사람은 없다. **프로그래밍의 실수는 컴퓨터가 화내는 것이 아니다. 고쳐야 할 부분을 '친철하게' 알려주는 것이다**.\n",
    "* 프로그래밍을 어렵다고 생각하지 말자. 자신이 어렵다고 생각하면, 작업을 실제 수행하는 컴퓨터는 더 어렵다. 컴퓨터에게 작업을 시키는 '나'의 문제로, 컴퓨터의 주인인 자신이 무엇을 어떻게 풀어나갈지 **논리적으로 잘 정리가 되어 있어야** 한다."
   ]
  },
  {
   "cell_type": "markdown",
   "metadata": {
    "slideshow": {
     "slide_type": "slide"
    }
   },
   "source": [
    "## 배우는 내용\n",
    "\n",
    "데이터를 수집, 정리, 저장, 분석, 시각화하는 단계를 프로그래밍으로 배운다.\n",
    "\n",
    "* (-) 웹에서 데이터를 수집하는 크롤링 및 API\n",
    "* (-) html, json, xml을 처리\n",
    "* (+) 주식분석\n",
    "* (-) NoSql\n",
    "* (+) Spark map-reduce, machine learning\n",
    "* (+) Spark, Python numpy, Pandas 등\n",
    "* (+) RDD, DataFrame\n",
    "* (+) 통계, 그래프\n",
    "* (+) 데이터 변환, 자연어 처리\n",
    "* (+) 클러스터링\n",
    "* (+) 회귀분석, 로지스틱 회귀분석\n",
    "* (+) kNN, 의사결정트리, 베이지언, SVM, 추천\n",
    "\n",
    "외국 대학에서 빅데이터 관련 강좌도 개설되고 있으니, 무엇을 배우는지 본 강좌와 차이가 있는지 살펴보자.\n",
    "* 버클리대학 BerkeleyX: CS100.1x Introduction to Big Data with Apache Spark\n",
    "* 시라큐스대학 IST718: Advanced Information Analytics http://classes.ischool.syr.edu/ist718/\n",
    "* 듀크대학 STA663 Statistical Computing and Computation, Spring 2016\n",
    "    * https://github.com/cliburn/sta-663-2016\n",
    "\n",
    "## 주별 강의: 주식분석, 빅데이터분석\n",
    "\n",
    "주 | 일자 | 내용 | 실제\n",
    "-----|-----|-----|-----\n",
    "주 1 |  9월 1주 | 강의 소개, 환경설치, Python, Numpy\n",
    "주 2 |  9월 2주 | 오픈데이터 OAuth, REST API, XML, JSON, 공공데이터\n",
    "주 3 |  9월 3주 | 오픈데이터\n",
    "주 4 |  9월 4주 | Pandas 주식분석\n",
    "주 5 |  10월 1주 | 백테스팅\n",
    "주 6 |  10월 3주 | 백테스팅\n",
    "주 7 |  10월 3주 | 기계학습 백테스팅\n",
    "주 8 |  10.21 ~ 27 | 중간 시험 (수업시간 시험)\n",
    "주 9 |  10월 5주 | Spark RDD, map reduce\n",
    "주 10 |  11월 1주 | Spark Dataframe, schema, graph, plot\n",
    "주 11 |  11월 2주 | Spark Dataframe, groupby\n",
    "주 12 |  11월 3주 | 통계, histogram, boxplot, zscore, 윈도우 함수, Anova, 상관관계\n",
    "주 13 |  11월 4주 | 기계학습 소개, vectors, tokenizer, 자연어 처리\n",
    "주 14 |  12월 1주 | 기계학습, 데이터변환, clustering\n",
    "주 15 |  12.9 ~ 15 | 기말시험 (수업시간 시험)"
   ]
  },
  {
   "cell_type": "markdown",
   "metadata": {
    "slideshow": {
     "slide_type": "slide"
    }
   },
   "source": [
    "## 평가\n",
    "\n",
    "* 중간고사 30\n",
    "* 기말고사 40\n",
    "* 출석 5 ~ 10\n",
    "* 과제 20 ~ 25"
   ]
  },
  {
   "cell_type": "markdown",
   "metadata": {
    "slideshow": {
     "slide_type": "slide"
    }
   },
   "source": [
    "## 관련 자료\n",
    "\n",
    "* [강의자료](http://github.com/smu405/s)\n",
    "* [슬라이드](https://nbviewer.jupyter.org) smu405/s\n",
    "* x[클라우드 북](http://smu405.gitbooks.io/s)\n",
    "* [채팅](https://gitter.im/smu405/s)"
   ]
  },
  {
   "cell_type": "code",
   "execution_count": null,
   "metadata": {},
   "outputs": [],
   "source": []
  }
 ],
 "metadata": {
  "kernelspec": {
   "display_name": "Python 3 (ipykernel)",
   "language": "python",
   "name": "python3"
  },
  "language_info": {
   "codemirror_mode": {
    "name": "ipython",
    "version": 3
   },
   "file_extension": ".py",
   "mimetype": "text/x-python",
   "name": "python",
   "nbconvert_exporter": "python",
   "pygments_lexer": "ipython3",
   "version": "3.9.1"
  }
 },
 "nbformat": 4,
 "nbformat_minor": 4
}
